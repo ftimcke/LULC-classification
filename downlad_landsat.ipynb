{
 "cells": [
  {
   "attachments": {},
   "cell_type": "markdown",
   "metadata": {},
   "source": [
    "This Notebook downloads Landsat scenes using EOdal"
   ]
  },
  {
   "attachments": {},
   "cell_type": "markdown",
   "metadata": {},
   "source": [
    "Script to extract a collection of Landsat scenes for a\n",
    "custom area of interest (AOI).\n",
    "\n",
    "The script shows how to use the EOdal Mapper class that takes over\n",
    "data handling such as\n",
    "\n",
    "* querying of spatio-temporal metadata catalogs to identify\n",
    "available Landsat scenes\n",
    "* merging data from different tiles if required\n",
    "* re-projection of imagery from one UTM zone into another if required\n",
    "* removal of black-filled (i.e., no-data) scenes\n",
    "\n",
    "This script works by retrieving Landsat Collection-2 scenes from\n",
    "Microsoft Planetary Computer (https://planetarycomputer.microsoft.com).\n",
    "This requires no authentication required. Alternatively, the same code\n",
    "can be used to read data from a local EOdal Sentinel archive or a different\n",
    "STAC provider.\n",
    "\n",
    "Copyright (C) 2023 Lukas Valentin Graf\n",
    "\n",
    "This program is free software: you can redistribute it and/or modify\n",
    "it under the terms of the GNU General Public License as published by\n",
    "the Free Software Foundation, either version 3 of the License, or\n",
    "(at your option) any later version.\n",
    "\n",
    "This program is distributed in the hope that it will be useful,\n",
    "but WITHOUT ANY WARRANTY; without even the implied warranty of\n",
    "MERCHANTABILITY or FITNESS FOR A PARTICULAR PURPOSE.  See the\n",
    "GNU General Public License for more details.\n",
    "\n",
    "You should have received a copy of the GNU General Public License\n",
    "along with this program.  If not, see <http://www.gnu.org/licenses/>."
   ]
  },
  {
   "cell_type": "code",
   "execution_count": 8,
   "metadata": {},
   "outputs": [
    {
     "name": "stdout",
     "output_type": "stream",
     "text": [
      "Found existing installation: eodal 0.2.1\n",
      "Uninstalling eodal-0.2.1:\n",
      "  Successfully uninstalled eodal-0.2.1\n",
      "Collecting git+https://github.com/lukasValentin/eodal.git@landsat-dev\n",
      "  Cloning https://github.com/lukasValentin/eodal.git (to revision landsat-dev) to c:\\users\\finnt\\appdata\\local\\temp\\pip-req-build-nkqykr5y\n",
      "  Resolved https://github.com/lukasValentin/eodal.git to commit 8b2fce3ddcf95ab6c76a8b928bd5534f57569548\n",
      "  Installing build dependencies: started\n",
      "  Installing build dependencies: finished with status 'done'\n",
      "  Getting requirements to build wheel: started\n",
      "  Getting requirements to build wheel: finished with status 'done'\n",
      "  Preparing metadata (pyproject.toml): started\n",
      "  Preparing metadata (pyproject.toml): finished with status 'done'\n",
      "Requirement already satisfied: pandas in c:\\users\\finnt\\appdata\\local\\packages\\pythonsoftwarefoundation.python.3.11_qbz5n2kfra8p0\\localcache\\local-packages\\python311\\site-packages (from eodal==0.2.1) (2.0.1)\n",
      "Requirement already satisfied: geopandas in c:\\users\\finnt\\appdata\\local\\packages\\pythonsoftwarefoundation.python.3.11_qbz5n2kfra8p0\\localcache\\local-packages\\python311\\site-packages (from eodal==0.2.1) (0.13.0)\n",
      "Requirement already satisfied: sqlalchemy in c:\\users\\finnt\\appdata\\local\\packages\\pythonsoftwarefoundation.python.3.11_qbz5n2kfra8p0\\localcache\\local-packages\\python311\\site-packages (from eodal==0.2.1) (2.0.12)\n",
      "Requirement already satisfied: geoalchemy2 in c:\\users\\finnt\\appdata\\local\\packages\\pythonsoftwarefoundation.python.3.11_qbz5n2kfra8p0\\localcache\\local-packages\\python311\\site-packages (from eodal==0.2.1) (0.13.2)\n",
      "Requirement already satisfied: numpy in c:\\users\\finnt\\appdata\\local\\packages\\pythonsoftwarefoundation.python.3.11_qbz5n2kfra8p0\\localcache\\local-packages\\python311\\site-packages (from eodal==0.2.1) (1.24.2)\n",
      "Requirement already satisfied: pydantic in c:\\users\\finnt\\appdata\\local\\packages\\pythonsoftwarefoundation.python.3.11_qbz5n2kfra8p0\\localcache\\local-packages\\python311\\site-packages (from eodal==0.2.1) (1.10.7)\n",
      "Requirement already satisfied: pyproj in c:\\users\\finnt\\appdata\\local\\packages\\pythonsoftwarefoundation.python.3.11_qbz5n2kfra8p0\\localcache\\local-packages\\python311\\site-packages (from eodal==0.2.1) (3.5.0)\n",
      "Requirement already satisfied: rasterio in c:\\users\\finnt\\appdata\\local\\packages\\pythonsoftwarefoundation.python.3.11_qbz5n2kfra8p0\\localcache\\local-packages\\python311\\site-packages (from eodal==0.2.1) (1.3.6)\n",
      "Requirement already satisfied: matplotlib in c:\\users\\finnt\\appdata\\local\\packages\\pythonsoftwarefoundation.python.3.11_qbz5n2kfra8p0\\localcache\\local-packages\\python311\\site-packages (from eodal==0.2.1) (3.7.1)\n",
      "Requirement already satisfied: lxml in c:\\users\\finnt\\appdata\\local\\packages\\pythonsoftwarefoundation.python.3.11_qbz5n2kfra8p0\\localcache\\local-packages\\python311\\site-packages (from eodal==0.2.1) (4.9.2)\n",
      "Requirement already satisfied: joblib in c:\\users\\finnt\\appdata\\local\\packages\\pythonsoftwarefoundation.python.3.11_qbz5n2kfra8p0\\localcache\\local-packages\\python311\\site-packages (from eodal==0.2.1) (1.2.0)\n",
      "Requirement already satisfied: psycopg2-binary in c:\\users\\finnt\\appdata\\local\\packages\\pythonsoftwarefoundation.python.3.11_qbz5n2kfra8p0\\localcache\\local-packages\\python311\\site-packages (from eodal==0.2.1) (2.9.6)\n",
      "Requirement already satisfied: opencv-python-headless in c:\\users\\finnt\\appdata\\local\\packages\\pythonsoftwarefoundation.python.3.11_qbz5n2kfra8p0\\localcache\\local-packages\\python311\\site-packages (from eodal==0.2.1) (4.7.0.72)\n",
      "Requirement already satisfied: requests in c:\\users\\finnt\\appdata\\local\\packages\\pythonsoftwarefoundation.python.3.11_qbz5n2kfra8p0\\localcache\\local-packages\\python311\\site-packages (from eodal==0.2.1) (2.30.0)\n",
      "Requirement already satisfied: xarray in c:\\users\\finnt\\appdata\\local\\packages\\pythonsoftwarefoundation.python.3.11_qbz5n2kfra8p0\\localcache\\local-packages\\python311\\site-packages (from eodal==0.2.1) (2023.4.2)\n",
      "Requirement already satisfied: rtree in c:\\users\\finnt\\appdata\\local\\packages\\pythonsoftwarefoundation.python.3.11_qbz5n2kfra8p0\\localcache\\local-packages\\python311\\site-packages (from eodal==0.2.1) (1.0.1)\n",
      "Requirement already satisfied: zarr in c:\\users\\finnt\\appdata\\local\\packages\\pythonsoftwarefoundation.python.3.11_qbz5n2kfra8p0\\localcache\\local-packages\\python311\\site-packages (from eodal==0.2.1) (2.14.2)\n",
      "Requirement already satisfied: numba in c:\\users\\finnt\\appdata\\local\\packages\\pythonsoftwarefoundation.python.3.11_qbz5n2kfra8p0\\localcache\\local-packages\\python311\\site-packages (from eodal==0.2.1) (0.57.0)\n",
      "Requirement already satisfied: pystac-client in c:\\users\\finnt\\appdata\\local\\packages\\pythonsoftwarefoundation.python.3.11_qbz5n2kfra8p0\\localcache\\local-packages\\python311\\site-packages (from eodal==0.2.1) (0.6.1)\n",
      "Requirement already satisfied: sentinelsat in c:\\users\\finnt\\appdata\\local\\packages\\pythonsoftwarefoundation.python.3.11_qbz5n2kfra8p0\\localcache\\local-packages\\python311\\site-packages (from eodal==0.2.1) (1.2.1)\n",
      "Requirement already satisfied: planetary-computer in c:\\users\\finnt\\appdata\\local\\packages\\pythonsoftwarefoundation.python.3.11_qbz5n2kfra8p0\\localcache\\local-packages\\python311\\site-packages (from eodal==0.2.1) (0.5.1)\n",
      "Requirement already satisfied: alive-progress in c:\\users\\finnt\\appdata\\local\\packages\\pythonsoftwarefoundation.python.3.11_qbz5n2kfra8p0\\localcache\\local-packages\\python311\\site-packages (from eodal==0.2.1) (3.1.1)\n",
      "Requirement already satisfied: rasterstats in c:\\users\\finnt\\appdata\\local\\packages\\pythonsoftwarefoundation.python.3.11_qbz5n2kfra8p0\\localcache\\local-packages\\python311\\site-packages (from eodal==0.2.1) (0.18.0)\n",
      "Requirement already satisfied: pyyaml in c:\\users\\finnt\\appdata\\local\\packages\\pythonsoftwarefoundation.python.3.11_qbz5n2kfra8p0\\localcache\\local-packages\\python311\\site-packages (from eodal==0.2.1) (6.0)\n",
      "Requirement already satisfied: about-time==4.2.1 in c:\\users\\finnt\\appdata\\local\\packages\\pythonsoftwarefoundation.python.3.11_qbz5n2kfra8p0\\localcache\\local-packages\\python311\\site-packages (from alive-progress->eodal==0.2.1) (4.2.1)\n",
      "Requirement already satisfied: grapheme==0.6.0 in c:\\users\\finnt\\appdata\\local\\packages\\pythonsoftwarefoundation.python.3.11_qbz5n2kfra8p0\\localcache\\local-packages\\python311\\site-packages (from alive-progress->eodal==0.2.1) (0.6.0)\n",
      "Requirement already satisfied: packaging in c:\\users\\finnt\\appdata\\local\\packages\\pythonsoftwarefoundation.python.3.11_qbz5n2kfra8p0\\localcache\\local-packages\\python311\\site-packages (from geoalchemy2->eodal==0.2.1) (23.1)\n",
      "Requirement already satisfied: typing-extensions>=4.2.0 in c:\\users\\finnt\\appdata\\local\\packages\\pythonsoftwarefoundation.python.3.11_qbz5n2kfra8p0\\localcache\\local-packages\\python311\\site-packages (from sqlalchemy->eodal==0.2.1) (4.5.0)\n",
      "Requirement already satisfied: greenlet!=0.4.17 in c:\\users\\finnt\\appdata\\local\\packages\\pythonsoftwarefoundation.python.3.11_qbz5n2kfra8p0\\localcache\\local-packages\\python311\\site-packages (from sqlalchemy->eodal==0.2.1) (2.0.2)\n",
      "Requirement already satisfied: fiona>=1.8.19 in c:\\users\\finnt\\appdata\\local\\packages\\pythonsoftwarefoundation.python.3.11_qbz5n2kfra8p0\\localcache\\local-packages\\python311\\site-packages (from geopandas->eodal==0.2.1) (1.8.22)\n",
      "Requirement already satisfied: shapely>=1.7.1 in c:\\users\\finnt\\appdata\\local\\packages\\pythonsoftwarefoundation.python.3.11_qbz5n2kfra8p0\\localcache\\local-packages\\python311\\site-packages (from geopandas->eodal==0.2.1) (2.0.1)\n",
      "Requirement already satisfied: python-dateutil>=2.8.2 in c:\\users\\finnt\\appdata\\local\\packages\\pythonsoftwarefoundation.python.3.11_qbz5n2kfra8p0\\localcache\\local-packages\\python311\\site-packages (from pandas->eodal==0.2.1) (2.8.2)\n",
      "Requirement already satisfied: pytz>=2020.1 in c:\\users\\finnt\\appdata\\local\\packages\\pythonsoftwarefoundation.python.3.11_qbz5n2kfra8p0\\localcache\\local-packages\\python311\\site-packages (from pandas->eodal==0.2.1) (2023.3)\n",
      "Requirement already satisfied: tzdata>=2022.1 in c:\\users\\finnt\\appdata\\local\\packages\\pythonsoftwarefoundation.python.3.11_qbz5n2kfra8p0\\localcache\\local-packages\\python311\\site-packages (from pandas->eodal==0.2.1) (2023.3)\n",
      "Requirement already satisfied: certifi in c:\\users\\finnt\\appdata\\local\\packages\\pythonsoftwarefoundation.python.3.11_qbz5n2kfra8p0\\localcache\\local-packages\\python311\\site-packages (from pyproj->eodal==0.2.1) (2023.5.7)\n",
      "Requirement already satisfied: contourpy>=1.0.1 in c:\\users\\finnt\\appdata\\local\\packages\\pythonsoftwarefoundation.python.3.11_qbz5n2kfra8p0\\localcache\\local-packages\\python311\\site-packages (from matplotlib->eodal==0.2.1) (1.0.7)\n",
      "Requirement already satisfied: cycler>=0.10 in c:\\users\\finnt\\appdata\\local\\packages\\pythonsoftwarefoundation.python.3.11_qbz5n2kfra8p0\\localcache\\local-packages\\python311\\site-packages (from matplotlib->eodal==0.2.1) (0.11.0)\n",
      "Requirement already satisfied: fonttools>=4.22.0 in c:\\users\\finnt\\appdata\\local\\packages\\pythonsoftwarefoundation.python.3.11_qbz5n2kfra8p0\\localcache\\local-packages\\python311\\site-packages (from matplotlib->eodal==0.2.1) (4.39.3)\n",
      "Requirement already satisfied: kiwisolver>=1.0.1 in c:\\users\\finnt\\appdata\\local\\packages\\pythonsoftwarefoundation.python.3.11_qbz5n2kfra8p0\\localcache\\local-packages\\python311\\site-packages (from matplotlib->eodal==0.2.1) (1.4.4)\n",
      "Requirement already satisfied: pillow>=6.2.0 in c:\\users\\finnt\\appdata\\local\\packages\\pythonsoftwarefoundation.python.3.11_qbz5n2kfra8p0\\localcache\\local-packages\\python311\\site-packages (from matplotlib->eodal==0.2.1) (9.5.0)\n",
      "Requirement already satisfied: pyparsing>=2.3.1 in c:\\users\\finnt\\appdata\\local\\packages\\pythonsoftwarefoundation.python.3.11_qbz5n2kfra8p0\\localcache\\local-packages\\python311\\site-packages (from matplotlib->eodal==0.2.1) (3.0.9)\n",
      "Requirement already satisfied: llvmlite<0.41,>=0.40.0dev0 in c:\\users\\finnt\\appdata\\local\\packages\\pythonsoftwarefoundation.python.3.11_qbz5n2kfra8p0\\localcache\\local-packages\\python311\\site-packages (from numba->eodal==0.2.1) (0.40.0)\n",
      "Requirement already satisfied: click>=7.1 in c:\\users\\finnt\\appdata\\local\\packages\\pythonsoftwarefoundation.python.3.11_qbz5n2kfra8p0\\localcache\\local-packages\\python311\\site-packages (from planetary-computer->eodal==0.2.1) (8.1.3)\n",
      "Requirement already satisfied: pystac>=1.0.0 in c:\\users\\finnt\\appdata\\local\\packages\\pythonsoftwarefoundation.python.3.11_qbz5n2kfra8p0\\localcache\\local-packages\\python311\\site-packages (from planetary-computer->eodal==0.2.1) (1.7.3)\n",
      "Requirement already satisfied: python-dotenv>=0.10.4 in c:\\users\\finnt\\appdata\\local\\packages\\pythonsoftwarefoundation.python.3.11_qbz5n2kfra8p0\\localcache\\local-packages\\python311\\site-packages (from pydantic->eodal==0.2.1) (1.0.0)\n",
      "Requirement already satisfied: charset-normalizer<4,>=2 in c:\\users\\finnt\\appdata\\local\\packages\\pythonsoftwarefoundation.python.3.11_qbz5n2kfra8p0\\localcache\\local-packages\\python311\\site-packages (from requests->eodal==0.2.1) (3.1.0)\n",
      "Requirement already satisfied: idna<4,>=2.5 in c:\\users\\finnt\\appdata\\local\\packages\\pythonsoftwarefoundation.python.3.11_qbz5n2kfra8p0\\localcache\\local-packages\\python311\\site-packages (from requests->eodal==0.2.1) (3.4)\n",
      "Requirement already satisfied: urllib3<3,>=1.21.1 in c:\\users\\finnt\\appdata\\local\\packages\\pythonsoftwarefoundation.python.3.11_qbz5n2kfra8p0\\localcache\\local-packages\\python311\\site-packages (from requests->eodal==0.2.1) (2.0.2)\n",
      "Requirement already satisfied: affine in c:\\users\\finnt\\appdata\\local\\packages\\pythonsoftwarefoundation.python.3.11_qbz5n2kfra8p0\\localcache\\local-packages\\python311\\site-packages (from rasterio->eodal==0.2.1) (2.4.0)\n",
      "Requirement already satisfied: attrs in c:\\users\\finnt\\appdata\\local\\packages\\pythonsoftwarefoundation.python.3.11_qbz5n2kfra8p0\\localcache\\local-packages\\python311\\site-packages (from rasterio->eodal==0.2.1) (23.1.0)\n",
      "Requirement already satisfied: cligj>=0.5 in c:\\users\\finnt\\appdata\\local\\packages\\pythonsoftwarefoundation.python.3.11_qbz5n2kfra8p0\\localcache\\local-packages\\python311\\site-packages (from rasterio->eodal==0.2.1) (0.7.2)\n",
      "Requirement already satisfied: snuggs>=1.4.1 in c:\\users\\finnt\\appdata\\local\\packages\\pythonsoftwarefoundation.python.3.11_qbz5n2kfra8p0\\localcache\\local-packages\\python311\\site-packages (from rasterio->eodal==0.2.1) (1.4.7)\n",
      "Requirement already satisfied: click-plugins in c:\\users\\finnt\\appdata\\local\\packages\\pythonsoftwarefoundation.python.3.11_qbz5n2kfra8p0\\localcache\\local-packages\\python311\\site-packages (from rasterio->eodal==0.2.1) (1.1.1)\n",
      "Requirement already satisfied: setuptools in c:\\program files\\windowsapps\\pythonsoftwarefoundation.python.3.11_3.11.1264.0_x64__qbz5n2kfra8p0\\lib\\site-packages (from rasterio->eodal==0.2.1) (65.5.0)\n",
      "Requirement already satisfied: simplejson in c:\\users\\finnt\\appdata\\local\\packages\\pythonsoftwarefoundation.python.3.11_qbz5n2kfra8p0\\localcache\\local-packages\\python311\\site-packages (from rasterstats->eodal==0.2.1) (3.19.1)\n",
      "Requirement already satisfied: html2text in c:\\users\\finnt\\appdata\\local\\packages\\pythonsoftwarefoundation.python.3.11_qbz5n2kfra8p0\\localcache\\local-packages\\python311\\site-packages (from sentinelsat->eodal==0.2.1) (2020.1.16)\n",
      "Requirement already satisfied: geojson>=2 in c:\\users\\finnt\\appdata\\local\\packages\\pythonsoftwarefoundation.python.3.11_qbz5n2kfra8p0\\localcache\\local-packages\\python311\\site-packages (from sentinelsat->eodal==0.2.1) (3.0.1)\n",
      "Requirement already satisfied: tqdm>=4.58 in c:\\users\\finnt\\appdata\\local\\packages\\pythonsoftwarefoundation.python.3.11_qbz5n2kfra8p0\\localcache\\local-packages\\python311\\site-packages (from sentinelsat->eodal==0.2.1) (4.65.0)\n",
      "Requirement already satisfied: geomet in c:\\users\\finnt\\appdata\\local\\packages\\pythonsoftwarefoundation.python.3.11_qbz5n2kfra8p0\\localcache\\local-packages\\python311\\site-packages (from sentinelsat->eodal==0.2.1) (1.0.0)\n",
      "Requirement already satisfied: asciitree in c:\\users\\finnt\\appdata\\local\\packages\\pythonsoftwarefoundation.python.3.11_qbz5n2kfra8p0\\localcache\\local-packages\\python311\\site-packages (from zarr->eodal==0.2.1) (0.3.3)\n",
      "Requirement already satisfied: fasteners in c:\\users\\finnt\\appdata\\local\\packages\\pythonsoftwarefoundation.python.3.11_qbz5n2kfra8p0\\localcache\\local-packages\\python311\\site-packages (from zarr->eodal==0.2.1) (0.18)\n",
      "Requirement already satisfied: numcodecs>=0.10.0 in c:\\users\\finnt\\appdata\\local\\packages\\pythonsoftwarefoundation.python.3.11_qbz5n2kfra8p0\\localcache\\local-packages\\python311\\site-packages (from zarr->eodal==0.2.1) (0.11.0)\n",
      "Requirement already satisfied: colorama in c:\\users\\finnt\\appdata\\local\\packages\\pythonsoftwarefoundation.python.3.11_qbz5n2kfra8p0\\localcache\\local-packages\\python311\\site-packages (from click>=7.1->planetary-computer->eodal==0.2.1) (0.4.6)\n",
      "Requirement already satisfied: six>=1.7 in c:\\users\\finnt\\appdata\\local\\packages\\pythonsoftwarefoundation.python.3.11_qbz5n2kfra8p0\\localcache\\local-packages\\python311\\site-packages (from fiona>=1.8.19->geopandas->eodal==0.2.1) (1.16.0)\n",
      "Requirement already satisfied: munch in c:\\users\\finnt\\appdata\\local\\packages\\pythonsoftwarefoundation.python.3.11_qbz5n2kfra8p0\\localcache\\local-packages\\python311\\site-packages (from fiona>=1.8.19->geopandas->eodal==0.2.1) (2.5.0)\n",
      "Requirement already satisfied: entrypoints in c:\\users\\finnt\\appdata\\local\\packages\\pythonsoftwarefoundation.python.3.11_qbz5n2kfra8p0\\localcache\\local-packages\\python311\\site-packages (from numcodecs>=0.10.0->zarr->eodal==0.2.1) (0.4)\n",
      "Building wheels for collected packages: eodal\n",
      "  Building wheel for eodal (pyproject.toml): started\n",
      "  Building wheel for eodal (pyproject.toml): finished with status 'done'\n",
      "  Created wheel for eodal: filename=eodal-0.2.1-py3-none-any.whl size=190148 sha256=330cc5e58fad950edac21dc75fe93b8557825aa6e1564accd251a47d836c4a02\n",
      "  Stored in directory: C:\\Users\\finnt\\AppData\\Local\\Temp\\pip-ephem-wheel-cache-of7mk4ai\\wheels\\7f\\a8\\ca\\6f055189509d8e9374288b56f7b03008dc5d8432456f8b8e9a\n",
      "Successfully built eodal\n",
      "Installing collected packages: eodal\n",
      "Successfully installed eodal-0.2.1\n"
     ]
    },
    {
     "name": "stderr",
     "output_type": "stream",
     "text": [
      "  Running command git clone --filter=blob:none --quiet https://github.com/lukasValentin/eodal.git 'C:\\Users\\finnt\\AppData\\Local\\Temp\\pip-req-build-nkqykr5y'\n",
      "  Running command git checkout -b landsat-dev --track origin/landsat-dev\n",
      "  branch 'landsat-dev' set up to track 'origin/landsat-dev'.\n",
      "  Switched to a new branch 'landsat-dev'\n"
     ]
    }
   ],
   "source": [
    "!pip uninstall eodal -y\n",
    "!pip install git+https://github.com/lukasValentin/eodal.git@landsat-dev"
   ]
  },
  {
   "cell_type": "code",
   "execution_count": 2,
   "metadata": {},
   "outputs": [
    {
     "name": "stderr",
     "output_type": "stream",
     "text": [
      "2023-06-10 13:44:42,729 eodal        INFO     Starting extraction of landsat scenes\n"
     ]
    },
    {
     "ename": "ValueError",
     "evalue": "Could not load scene:  'ang'",
     "output_type": "error",
     "traceback": [
      "\u001b[1;31m---------------------------------------------------------------------------\u001b[0m",
      "\u001b[1;31mKeyError\u001b[0m                                  Traceback (most recent call last)",
      "File \u001b[1;32m~\\AppData\\Local\\Packages\\PythonSoftwareFoundation.Python.3.11_qbz5n2kfra8p0\\LocalCache\\local-packages\\Python311\\site-packages\\eodal\\mapper\\mapper.py:429\u001b[0m, in \u001b[0;36mMapper._process_scene\u001b[1;34m(self, item, scene_constructor, scene_constructor_kwargs, scene_modifier, scene_modifier_kwargs, reprojection_method)\u001b[0m\n\u001b[0;32m    427\u001b[0m \u001b[39mtry\u001b[39;00m:\n\u001b[0;32m    428\u001b[0m     \u001b[39m# call scene constructor. The file-path (or URL) goes first\u001b[39;00m\n\u001b[1;32m--> 429\u001b[0m     scene \u001b[39m=\u001b[39m scene_constructor\u001b[39m.\u001b[39;49m\u001b[39m__call__\u001b[39;49m(\n\u001b[0;32m    430\u001b[0m         item\u001b[39m.\u001b[39;49mreal_path, \u001b[39m*\u001b[39;49m\u001b[39m*\u001b[39;49mscene_constructor_kwargs\n\u001b[0;32m    431\u001b[0m     )\n\u001b[0;32m    432\u001b[0m     scene\u001b[39m.\u001b[39mscene_properties\u001b[39m.\u001b[39msensing_time \u001b[39m=\u001b[39m item[\u001b[39mself\u001b[39m\u001b[39m.\u001b[39mtime_column]\n",
      "File \u001b[1;32m~\\AppData\\Local\\Packages\\PythonSoftwareFoundation.Python.3.11_qbz5n2kfra8p0\\LocalCache\\local-packages\\Python311\\site-packages\\eodal\\core\\sensors\\landsat.py:314\u001b[0m, in \u001b[0;36mLandsat.from_usgs\u001b[1;34m(cls, in_dir, band_selection, read_qa, read_atcor, apply_scaling, **kwargs)\u001b[0m\n\u001b[0;32m    313\u001b[0m \u001b[39m# check band selection and determine the platform and sensor\u001b[39;00m\n\u001b[1;32m--> 314\u001b[0m band_df \u001b[39m=\u001b[39m \u001b[39mcls\u001b[39;49m\u001b[39m.\u001b[39;49m_preprocess_band_selection(\n\u001b[0;32m    315\u001b[0m     \u001b[39mcls\u001b[39;49m,\n\u001b[0;32m    316\u001b[0m     in_dir\u001b[39m=\u001b[39;49min_dir,\n\u001b[0;32m    317\u001b[0m     band_selection\u001b[39m=\u001b[39;49mband_selection,\n\u001b[0;32m    318\u001b[0m     read_qa\u001b[39m=\u001b[39;49mread_qa,\n\u001b[0;32m    319\u001b[0m     read_atcor\u001b[39m=\u001b[39;49mread_atcor)\n\u001b[0;32m    321\u001b[0m \u001b[39m# check the clipping extent of the raster with the lowest (coarsest) spatial\u001b[39;00m\n\u001b[0;32m    322\u001b[0m \u001b[39m# resolution and remember it for all other bands with higher spatial\u001b[39;00m\n\u001b[0;32m    323\u001b[0m \u001b[39m# resolutions.\u001b[39;00m\n\u001b[1;32m   (...)\u001b[0m\n\u001b[0;32m    326\u001b[0m \u001b[39m# share the same coordinate origin.\u001b[39;00m\n\u001b[0;32m    327\u001b[0m \u001b[39m# get lowest spatial resolution (maximum pixel size) band\u001b[39;00m\n",
      "File \u001b[1;32m~\\AppData\\Local\\Packages\\PythonSoftwareFoundation.Python.3.11_qbz5n2kfra8p0\\LocalCache\\local-packages\\Python311\\site-packages\\eodal\\core\\sensors\\landsat.py:259\u001b[0m, in \u001b[0;36mLandsat._preprocess_band_selection\u001b[1;34m(self, in_dir, band_selection, read_qa, read_atcor)\u001b[0m\n\u001b[0;32m    258\u001b[0m \u001b[39melif\u001b[39;00m read_qa \u001b[39mor\u001b[39;00m band_name \u001b[39min\u001b[39;00m qa_bands:\n\u001b[1;32m--> 259\u001b[0m     band_res \u001b[39m=\u001b[39m band_resolution[\u001b[39m'\u001b[39;49m\u001b[39mquality_flags\u001b[39;49m\u001b[39m'\u001b[39;49m][band_name]\n\u001b[0;32m    260\u001b[0m \u001b[39melif\u001b[39;00m read_atcor \u001b[39mor\u001b[39;00m band_name \u001b[39min\u001b[39;00m atcor_bands:\n",
      "\u001b[1;31mKeyError\u001b[0m: 'ang'",
      "\nDuring handling of the above exception, another exception occurred:\n",
      "\u001b[1;31mValueError\u001b[0m                                Traceback (most recent call last)",
      "Cell \u001b[1;32mIn[2], line 60\u001b[0m\n\u001b[0;32m     55\u001b[0m scene_kwargs \u001b[39m=\u001b[39m {\n\u001b[0;32m     56\u001b[0m     \u001b[39m'\u001b[39m\u001b[39mscene_constructor\u001b[39m\u001b[39m'\u001b[39m: Landsat\u001b[39m.\u001b[39mfrom_usgs,\n\u001b[0;32m     57\u001b[0m     \u001b[39m'\u001b[39m\u001b[39mscene_constructor_kwargs\u001b[39m\u001b[39m'\u001b[39m: {}}\n\u001b[0;32m     59\u001b[0m \u001b[39m# now we load the scenes\u001b[39;00m\n\u001b[1;32m---> 60\u001b[0m mapper\u001b[39m.\u001b[39;49mload_scenes(scene_kwargs\u001b[39m=\u001b[39;49mscene_kwargs)\n",
      "File \u001b[1;32m~\\AppData\\Local\\Packages\\PythonSoftwareFoundation.Python.3.11_qbz5n2kfra8p0\\LocalCache\\local-packages\\Python311\\site-packages\\eodal\\mapper\\mapper.py:814\u001b[0m, in \u001b[0;36mMapper.load_scenes\u001b[1;34m(self, scene_kwargs, pixel_kwargs)\u001b[0m\n\u001b[0;32m    812\u001b[0m     \u001b[39mself\u001b[39m\u001b[39m.\u001b[39m_load_pixels(\u001b[39m*\u001b[39m\u001b[39m*\u001b[39mpixel_kwargs)\n\u001b[0;32m    813\u001b[0m \u001b[39melse\u001b[39;00m:\n\u001b[1;32m--> 814\u001b[0m     \u001b[39mself\u001b[39;49m\u001b[39m.\u001b[39;49m_load_scenes_collection(\u001b[39m*\u001b[39;49m\u001b[39m*\u001b[39;49mscene_kwargs)\n",
      "File \u001b[1;32m~\\AppData\\Local\\Packages\\PythonSoftwareFoundation.Python.3.11_qbz5n2kfra8p0\\LocalCache\\local-packages\\Python311\\site-packages\\eodal\\mapper\\mapper.py:621\u001b[0m, in \u001b[0;36mMapper._load_scenes_collection\u001b[1;34m(self, reprojection_method, scene_constructor, scene_constructor_kwargs, scene_modifier, scene_modifier_kwargs)\u001b[0m\n\u001b[0;32m    619\u001b[0m \u001b[39mif\u001b[39;00m \u001b[39mnot\u001b[39;00m _metadata_unique\u001b[39m.\u001b[39mempty:\n\u001b[0;32m    620\u001b[0m     \u001b[39mfor\u001b[39;00m _, item \u001b[39min\u001b[39;00m _metadata_unique\u001b[39m.\u001b[39miterrows():\n\u001b[1;32m--> 621\u001b[0m         scene \u001b[39m=\u001b[39m \u001b[39mself\u001b[39;49m\u001b[39m.\u001b[39;49m_process_scene(\n\u001b[0;32m    622\u001b[0m             item\u001b[39m=\u001b[39;49mitem,\n\u001b[0;32m    623\u001b[0m             scene_constructor\u001b[39m=\u001b[39;49mscene_constructor,\n\u001b[0;32m    624\u001b[0m             scene_constructor_kwargs\u001b[39m=\u001b[39;49mscene_constructor_kwargs,\n\u001b[0;32m    625\u001b[0m             scene_modifier\u001b[39m=\u001b[39;49mscene_modifier,\n\u001b[0;32m    626\u001b[0m             scene_modifier_kwargs\u001b[39m=\u001b[39;49mscene_modifier_kwargs,\n\u001b[0;32m    627\u001b[0m             reprojection_method\u001b[39m=\u001b[39;49mreprojection_method,\n\u001b[0;32m    628\u001b[0m         )\n\u001b[0;32m    629\u001b[0m         \u001b[39m# because ESA has some mess with the naming of their file names and\u001b[39;00m\n\u001b[0;32m    630\u001b[0m         \u001b[39m# metadata, there might be duplicated seems not detected by the mapper\u001b[39;00m\n\u001b[0;32m    631\u001b[0m         \u001b[39m# since the time stamps slightly differ (few seconds in some cases) but\u001b[39;00m\n\u001b[0;32m    632\u001b[0m         \u001b[39m# their IDs are the same\u001b[39;00m\n\u001b[0;32m    633\u001b[0m         \u001b[39mtry\u001b[39;00m:\n",
      "File \u001b[1;32m~\\AppData\\Local\\Packages\\PythonSoftwareFoundation.Python.3.11_qbz5n2kfra8p0\\LocalCache\\local-packages\\Python311\\site-packages\\eodal\\mapper\\mapper.py:434\u001b[0m, in \u001b[0;36mMapper._process_scene\u001b[1;34m(self, item, scene_constructor, scene_constructor_kwargs, scene_modifier, scene_modifier_kwargs, reprojection_method)\u001b[0m\n\u001b[0;32m    432\u001b[0m     scene\u001b[39m.\u001b[39mscene_properties\u001b[39m.\u001b[39msensing_time \u001b[39m=\u001b[39m item[\u001b[39mself\u001b[39m\u001b[39m.\u001b[39mtime_column]\n\u001b[0;32m    433\u001b[0m \u001b[39mexcept\u001b[39;00m \u001b[39mException\u001b[39;00m \u001b[39mas\u001b[39;00m e:\n\u001b[1;32m--> 434\u001b[0m     \u001b[39mraise\u001b[39;00m \u001b[39mValueError\u001b[39;00m(\u001b[39mf\u001b[39m\u001b[39m\"\u001b[39m\u001b[39mCould not load scene:  \u001b[39m\u001b[39m{\u001b[39;00me\u001b[39m}\u001b[39;00m\u001b[39m\"\u001b[39m)\n\u001b[0;32m    436\u001b[0m \u001b[39m# apply scene modifier callable if available\u001b[39;00m\n\u001b[0;32m    437\u001b[0m \u001b[39mif\u001b[39;00m scene_modifier \u001b[39mis\u001b[39;00m \u001b[39mnot\u001b[39;00m \u001b[39mNone\u001b[39;00m:\n",
      "\u001b[1;31mValueError\u001b[0m: Could not load scene:  'ang'"
     ]
    }
   ],
   "source": [
    "#import what is needed\n",
    "from datetime import datetime\n",
    "from pathlib import Path\n",
    "from shapely.geometry import box\n",
    "\n",
    "from eodal.config import get_settings\n",
    "from eodal.core.sensors import Landsat\n",
    "from eodal.mapper.feature import Feature\n",
    "from eodal.mapper.filter import Filter\n",
    "from eodal.mapper.mapper import Mapper, MapperConfigs\n",
    "\n",
    "Settings = get_settings()\n",
    "# we use STAC, i.e., Microsoft Planetary Computer\n",
    "Settings.USE_STAC = True\n",
    "\n",
    "# user-inputs\n",
    "# -------------------------- Collection -------------------------------\n",
    "collection = 'landsat-c2-l2'\n",
    "\n",
    "# ---------------------- Spatial Feature  ------------------------------\n",
    "bbox = box(*[28.6649, -0.8804, 30.6329, 0.8804])  #WRS2: 173_60 (can be also shp, gpkg, etc.)\n",
    "feature = Feature(\n",
    "    name='landsat-test',\n",
    "    geometry=bbox,\n",
    "    epsg=4326,\n",
    "    attributes={})\n",
    "\n",
    "# ------------------------- Time Range ---------------------------------\n",
    "time_start = datetime(2023, 5, 14)\n",
    "time_end = datetime(2023, 5, 16)\n",
    "\n",
    "# ------------------------- Metadata Filters ---------------------------\n",
    "metadata_filters = [\n",
    "    Filter('eo:cloud_cover', '<', 20),\n",
    "    Filter('landsat:wrs_path', '==', '173'),\n",
    "    Filter('landsat:wrs_row', '==', '060')\n",
    "]\n",
    "\n",
    "# set up the Mapper configuration\n",
    "mapper_configs = MapperConfigs(\n",
    "    metadata_filters=metadata_filters,\n",
    "    collection=collection,\n",
    "    feature=feature,\n",
    "    time_start=time_start,\n",
    "    time_end=time_end)\n",
    "\n",
    "# get a new mapper instance\n",
    "mapper = Mapper(mapper_configs)\n",
    "\n",
    "# query the scenes available (no I/O of scenes, this only fetches metadata)\n",
    "mapper.query_scenes()\n",
    "\n",
    "# we tell EOdal how to load the Landsat scenes using `Landsat.from_usgs`\n",
    "# and pass on some kwargs, e.g., the selection of bands we want to read.\n",
    "scene_kwargs = {\n",
    "    'scene_constructor': Landsat.from_usgs,\n",
    "    'scene_constructor_kwargs': {}}\n",
    "\n",
    "# now we load the scenes\n",
    "mapper.load_scenes(scene_kwargs=scene_kwargs)\n"
   ]
  },
  {
   "cell_type": "code",
   "execution_count": 3,
   "metadata": {},
   "outputs": [
    {
     "ename": "AttributeError",
     "evalue": "'NoneType' object has no attribute 'plot'",
     "output_type": "error",
     "traceback": [
      "\u001b[1;31m---------------------------------------------------------------------------\u001b[0m",
      "\u001b[1;31mAttributeError\u001b[0m                            Traceback (most recent call last)",
      "Cell \u001b[1;32mIn[3], line 2\u001b[0m\n\u001b[0;32m      1\u001b[0m \u001b[39m# the scenes can be plotted\u001b[39;00m\n\u001b[1;32m----> 2\u001b[0m f_scenes \u001b[39m=\u001b[39m mapper\u001b[39m.\u001b[39;49mdata\u001b[39m.\u001b[39;49mplot([\u001b[39m'\u001b[39m\u001b[39mred\u001b[39m\u001b[39m'\u001b[39m], figsize\u001b[39m=\u001b[39m(\u001b[39m15\u001b[39m,\u001b[39m5\u001b[39m))\n",
      "\u001b[1;31mAttributeError\u001b[0m: 'NoneType' object has no attribute 'plot'"
     ]
    }
   ],
   "source": [
    "# the scenes can be plotted\n",
    "f_scenes = mapper.data.plot(['red'], figsize=(15,5))\n"
   ]
  },
  {
   "cell_type": "code",
   "execution_count": 6,
   "metadata": {},
   "outputs": [
    {
     "ename": "FileNotFoundError",
     "evalue": "[Errno 2] No such file or directory: 'Y:\\\\MSc_23_TimckeFinn\\\\data\\\\EOdal\\\\sample_mapper_data.pkl'",
     "output_type": "error",
     "traceback": [
      "\u001b[1;31m---------------------------------------------------------------------------\u001b[0m",
      "\u001b[1;31mFileNotFoundError\u001b[0m                         Traceback (most recent call last)",
      "Cell \u001b[1;32mIn[6], line 4\u001b[0m\n\u001b[0;32m      1\u001b[0m \u001b[39m# make the SceneCollection obtained persistent so that we do not have to re-run\u001b[39;00m\n\u001b[0;32m      2\u001b[0m \u001b[39m# the STAC query all the time we use the data.\u001b[39;00m\n\u001b[0;32m      3\u001b[0m fpath \u001b[39m=\u001b[39m Path(\u001b[39m'\u001b[39m\u001b[39mY:\u001b[39m\u001b[39m\\\u001b[39m\u001b[39mMSc_23_TimckeFinn\u001b[39m\u001b[39m\\\u001b[39m\u001b[39mdata\u001b[39m\u001b[39m\\\u001b[39m\u001b[39mEOdal\u001b[39m\u001b[39m\\\u001b[39m\u001b[39msample_mapper_data.pkl\u001b[39m\u001b[39m'\u001b[39m)\n\u001b[1;32m----> 4\u001b[0m \u001b[39mwith\u001b[39;00m \u001b[39mopen\u001b[39;49m(fpath, \u001b[39m'\u001b[39;49m\u001b[39mwb+\u001b[39;49m\u001b[39m'\u001b[39;49m) \u001b[39mas\u001b[39;00m dst:\n\u001b[0;32m      5\u001b[0m     dst\u001b[39m.\u001b[39mwrite(mapper\u001b[39m.\u001b[39mdata\u001b[39m.\u001b[39mto_pickle())\n",
      "File \u001b[1;32mc:\\Users\\ftimcke\\AppData\\Local\\anaconda3\\lib\\site-packages\\IPython\\core\\interactiveshell.py:282\u001b[0m, in \u001b[0;36m_modified_open\u001b[1;34m(file, *args, **kwargs)\u001b[0m\n\u001b[0;32m    275\u001b[0m \u001b[39mif\u001b[39;00m file \u001b[39min\u001b[39;00m {\u001b[39m0\u001b[39m, \u001b[39m1\u001b[39m, \u001b[39m2\u001b[39m}:\n\u001b[0;32m    276\u001b[0m     \u001b[39mraise\u001b[39;00m \u001b[39mValueError\u001b[39;00m(\n\u001b[0;32m    277\u001b[0m         \u001b[39mf\u001b[39m\u001b[39m\"\u001b[39m\u001b[39mIPython won\u001b[39m\u001b[39m'\u001b[39m\u001b[39mt let you open fd=\u001b[39m\u001b[39m{\u001b[39;00mfile\u001b[39m}\u001b[39;00m\u001b[39m by default \u001b[39m\u001b[39m\"\u001b[39m\n\u001b[0;32m    278\u001b[0m         \u001b[39m\"\u001b[39m\u001b[39mas it is likely to crash IPython. If you know what you are doing, \u001b[39m\u001b[39m\"\u001b[39m\n\u001b[0;32m    279\u001b[0m         \u001b[39m\"\u001b[39m\u001b[39myou can use builtins\u001b[39m\u001b[39m'\u001b[39m\u001b[39m open.\u001b[39m\u001b[39m\"\u001b[39m\n\u001b[0;32m    280\u001b[0m     )\n\u001b[1;32m--> 282\u001b[0m \u001b[39mreturn\u001b[39;00m io_open(file, \u001b[39m*\u001b[39margs, \u001b[39m*\u001b[39m\u001b[39m*\u001b[39mkwargs)\n",
      "\u001b[1;31mFileNotFoundError\u001b[0m: [Errno 2] No such file or directory: 'Y:\\\\MSc_23_TimckeFinn\\\\data\\\\EOdal\\\\sample_mapper_data.pkl'"
     ]
    }
   ],
   "source": [
    "# make the SceneCollection obtained persistent so that we do not have to re-run\n",
    "# the STAC query all the time we use the data.\n",
    "fpath = Path('Y:\\MSc_23_TimckeFinn\\data\\EOdal\\sample_mapper_data.pkl')\n",
    "with open(fpath, 'wb+') as dst:\n",
    "    dst.write(mapper.data.to_pickle())\n"
   ]
  }
 ],
 "metadata": {
  "kernelspec": {
   "display_name": "Python 3",
   "language": "python",
   "name": "python3"
  },
  "language_info": {
   "codemirror_mode": {
    "name": "ipython",
    "version": 3
   },
   "file_extension": ".py",
   "mimetype": "text/x-python",
   "name": "python",
   "nbconvert_exporter": "python",
   "pygments_lexer": "ipython3",
   "version": "3.11.4"
  },
  "orig_nbformat": 4
 },
 "nbformat": 4,
 "nbformat_minor": 2
}
