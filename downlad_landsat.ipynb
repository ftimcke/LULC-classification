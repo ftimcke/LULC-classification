{
 "cells": [
  {
   "attachments": {},
   "cell_type": "markdown",
   "metadata": {},
   "source": [
    "This Notebook downloads Landsat scenes using EOdal"
   ]
  },
  {
   "attachments": {},
   "cell_type": "markdown",
   "metadata": {},
   "source": [
    "Script to extract a collection of Landsat scenes for a\n",
    "custom area of interest (AOI).\n",
    "\n",
    "The script shows how to use the EOdal Mapper class that takes over\n",
    "data handling such as\n",
    "\n",
    "* querying of spatio-temporal metadata catalogs to identify\n",
    "available Landsat scenes\n",
    "* merging data from different tiles if required\n",
    "* re-projection of imagery from one UTM zone into another if required\n",
    "* removal of black-filled (i.e., no-data) scenes\n",
    "\n",
    "This script works by retrieving Landsat Collection-2 scenes from\n",
    "Microsoft Planetary Computer (https://planetarycomputer.microsoft.com).\n",
    "This requires no authentication required. Alternatively, the same code\n",
    "can be used to read data from a local EOdal Sentinel archive or a different\n",
    "STAC provider.\n",
    "\n",
    "Copyright (C) 2023 Lukas Valentin Graf\n",
    "\n",
    "This program is free software: you can redistribute it and/or modify\n",
    "it under the terms of the GNU General Public License as published by\n",
    "the Free Software Foundation, either version 3 of the License, or\n",
    "(at your option) any later version.\n",
    "\n",
    "This program is distributed in the hope that it will be useful,\n",
    "but WITHOUT ANY WARRANTY; without even the implied warranty of\n",
    "MERCHANTABILITY or FITNESS FOR A PARTICULAR PURPOSE.  See the\n",
    "GNU General Public License for more details.\n",
    "\n",
    "You should have received a copy of the GNU General Public License\n",
    "along with this program.  If not, see <http://www.gnu.org/licenses/>."
   ]
  },
  {
   "cell_type": "code",
   "execution_count": null,
   "metadata": {},
   "outputs": [],
   "source": [
    "!pip uninstall eodal -y\n",
    "!pip install git+https://github.com/lukasValentin/eodal.git@landsat-dev"
   ]
  },
  {
   "cell_type": "code",
   "execution_count": null,
   "metadata": {},
   "outputs": [],
   "source": [
    "#import what is needed\n",
    "from datetime import datetime\n",
    "from pathlib import Path\n",
    "from shapely.geometry import box\n",
    "\n",
    "from eodal.config import get_settings\n",
    "from eodal.core.sensors import Landsat\n",
    "from eodal.mapper.feature import Feature\n",
    "from eodal.mapper.filter import Filter\n",
    "from eodal.mapper.mapper import Mapper, MapperConfigs\n",
    "\n",
    "Settings = get_settings()\n",
    "# we use STAC, i.e., Microsoft Planetary Computer\n",
    "Settings.USE_STAC = True\n",
    "\n",
    "# user-inputs\n",
    "# -------------------------- Collection -------------------------------\n",
    "collection = 'landsat-c2-l2'\n",
    "\n",
    "# ---------------------- Spatial Feature  ------------------------------\n",
    "bbox = box(*[28.6649, -0.8804, 30.6329, 0.8804])  #WRS2: 173_60 (can be also shp, gpkg, etc.)\n",
    "feature = Feature(\n",
    "    name='landsat-test',\n",
    "    geometry=bbox,\n",
    "    epsg=4326,\n",
    "    attributes={})\n",
    "\n",
    "# ------------------------- Time Range ---------------------------------\n",
    "time_start = datetime(2023, 5, 14)\n",
    "time_end = datetime(2023, 5, 16)\n",
    "\n",
    "# ------------------------- Metadata Filters ---------------------------\n",
    "metadata_filters = [\n",
    "    Filter('eo:cloud_cover', '<', 20),\n",
    "    Filter('landsat:wrs_path', '==', '173'),\n",
    "    Filter('landsat:wrs_row', '==', '060')\n",
    "]\n",
    "\n",
    "# set up the Mapper configuration\n",
    "mapper_configs = MapperConfigs(\n",
    "    metadata_filters=metadata_filters,\n",
    "    collection=collection,\n",
    "    feature=feature,\n",
    "    time_start=time_start,\n",
    "    time_end=time_end)\n",
    "\n",
    "# get a new mapper instance\n",
    "mapper = Mapper(mapper_configs)\n",
    "\n",
    "# query the scenes available (no I/O of scenes, this only fetches metadata)\n",
    "mapper.query_scenes()\n",
    "\n",
    "# we tell EOdal how to load the Landsat scenes using `Landsat.from_usgs`\n",
    "# and pass on some kwargs, e.g., the selection of bands we want to read.\n",
    "scene_kwargs = {\n",
    "    'scene_constructor': Landsat.from_usgs,\n",
    "    'scene_constructor_kwargs': {}\n",
    "    }\n",
    "\n",
    "# now we load the scenes\n",
    "mapper.load_scenes(scene_kwargs=scene_kwargs)\n"
   ]
  },
  {
   "cell_type": "code",
   "execution_count": null,
   "metadata": {},
   "outputs": [],
   "source": [
    "# the scenes can be plotted\n",
    "f_scenes = mapper.data.plot(['red'], figsize=(15,5))\n"
   ]
  },
  {
   "cell_type": "code",
   "execution_count": null,
   "metadata": {},
   "outputs": [],
   "source": [
    "# make the SceneCollection obtained persistent so that we do not have to re-run\n",
    "# the STAC query all the time we use the data.\n",
    "fpath = Path('Y:\\MSc_23_TimckeFinn\\data\\EOdal\\sample_mapper_data.pkl')\n",
    "with open(fpath, 'wb+') as dst:\n",
    "    dst.write(mapper.data.to_pickle())\n"
   ]
  }
 ],
 "metadata": {
  "kernelspec": {
   "display_name": "Python 3",
   "language": "python",
   "name": "python3"
  },
  "language_info": {
   "codemirror_mode": {
    "name": "ipython",
    "version": 3
   },
   "file_extension": ".py",
   "mimetype": "text/x-python",
   "name": "python",
   "nbconvert_exporter": "python",
   "pygments_lexer": "ipython3",
   "version": "3.11.4"
  },
  "orig_nbformat": 4
 },
 "nbformat": 4,
 "nbformat_minor": 2
}
