{
 "cells": [
  {
   "cell_type": "code",
   "execution_count": 2,
   "metadata": {},
   "outputs": [
    {
     "name": "stdout",
     "output_type": "stream",
     "text": [
      "EOdal version: 0.2.0\n"
     ]
    }
   ],
   "source": [
    "# some imports that we need later\n",
    "import eodal\n",
    "import geopandas as gpd\n",
    "import os\n",
    "\n",
    "from datetime import datetime\n",
    "from eodal.config import get_settings\n",
    "from eodal.core.scene import SceneCollection\n",
    "from eodal.core.sensors.sentinel2 import Sentinel2\n",
    "from eodal.mapper.feature import Feature\n",
    "from eodal.mapper.filter import Filter\n",
    "from eodal.mapper.mapper import Mapper, MapperConfigs\n",
    "\n",
    "from pathlib import Path\n",
    "from typing import List\n",
    "\n",
    "\n",
    "Settings = get_settings()\n",
    "# set to False to use a local data archive\n",
    "Settings.USE_STAC = True\n",
    "\n",
    "# define the working directory\n",
    "base_dir = Path(os.path.dirname(os.path.realpath(\"__file__\"))).parent.parent\n",
    "\n",
    "print(f'EOdal version: {eodal.__version__}')"
   ]
  },
  {
   "cell_type": "code",
   "execution_count": 1,
   "metadata": {},
   "outputs": [
    {
     "ename": "ImportError",
     "evalue": "cannot import name 'Landsat' from 'eodal.core.sensors' (C:\\Users\\finnt\\AppData\\Local\\Packages\\PythonSoftwareFoundation.Python.3.11_qbz5n2kfra8p0\\LocalCache\\local-packages\\Python311\\site-packages\\eodal\\core\\sensors\\__init__.py)",
     "output_type": "error",
     "traceback": [
      "\u001b[1;31m---------------------------------------------------------------------------\u001b[0m",
      "\u001b[1;31mImportError\u001b[0m                               Traceback (most recent call last)",
      "Cell \u001b[1;32mIn[1], line 7\u001b[0m\n\u001b[0;32m      4\u001b[0m \u001b[39mimport\u001b[39;00m \u001b[39mgeopandas\u001b[39;00m \u001b[39mas\u001b[39;00m \u001b[39mgpd\u001b[39;00m\n\u001b[0;32m      6\u001b[0m \u001b[39mfrom\u001b[39;00m \u001b[39mdatetime\u001b[39;00m \u001b[39mimport\u001b[39;00m datetime\n\u001b[1;32m----> 7\u001b[0m \u001b[39mfrom\u001b[39;00m \u001b[39meodal\u001b[39;00m\u001b[39m.\u001b[39;00m\u001b[39mcore\u001b[39;00m\u001b[39m.\u001b[39;00m\u001b[39msensors\u001b[39;00m \u001b[39mimport\u001b[39;00m Landsat\n\u001b[0;32m      8\u001b[0m \u001b[39mfrom\u001b[39;00m \u001b[39meodal\u001b[39;00m\u001b[39m.\u001b[39;00m\u001b[39mmapper\u001b[39;00m\u001b[39m.\u001b[39;00m\u001b[39mfeature\u001b[39;00m \u001b[39mimport\u001b[39;00m Feature\n\u001b[0;32m      9\u001b[0m \u001b[39mfrom\u001b[39;00m \u001b[39meodal\u001b[39;00m\u001b[39m.\u001b[39;00m\u001b[39mmapper\u001b[39;00m\u001b[39m.\u001b[39;00m\u001b[39mfilter\u001b[39;00m \u001b[39mimport\u001b[39;00m Filter\n",
      "\u001b[1;31mImportError\u001b[0m: cannot import name 'Landsat' from 'eodal.core.sensors' (C:\\Users\\finnt\\AppData\\Local\\Packages\\PythonSoftwareFoundation.Python.3.11_qbz5n2kfra8p0\\LocalCache\\local-packages\\Python311\\site-packages\\eodal\\core\\sensors\\__init__.py)"
     ]
    }
   ],
   "source": [
    "if __name__ == \"__main__\":\n",
    "\n",
    "    # some testing -> to be moved to tests later\n",
    "    import geopandas as gpd\n",
    "\n",
    "    from datetime import datetime\n",
    "    from eodal.core.sensors import Landsat\n",
    "    from eodal.mapper.feature import Feature\n",
    "    from eodal.mapper.filter import Filter\n",
    "    from eodal.metadata.stac.client import landsat\n",
    "    from shapely.geometry import box\n",
    "\n",
    "    # query STAC for a custom region\n",
    "    collection = 'landsat-c2-l2'\n",
    "    bbox = box(*[28.6649, -0.8804, 30.6329, 0.8804]) #173_60\n",
    "    feature = Feature(\n",
    "        name='landsat-test',\n",
    "        geometry=bbox,\n",
    "        epsg=4326,\n",
    "        attributes={})\n",
    "    time_start = datetime(2023, 5, 15)\n",
    "    time_end = datetime(2023, 5, 15)\n",
    "\n",
    "    metadata_filters = [\n",
    "        Filter('eo:cloud_cover', '<', 20),\n",
    "        #Filter('instruments', '==', 'oli')\n",
    "        #173_60?\n",
    "    ]\n",
    "\n",
    "    landsat_items = landsat(\n",
    "        metadata_filters=metadata_filters,\n",
    "        collection='landsat-c2-l2',\n",
    "        bounding_box=bbox,\n",
    "        time_start=time_start,\n",
    "        time_end=time_end)\n",
    "\n",
    "    # read only a part of the test scene\n",
    "    landsat_scene_item = landsat_items.iloc[0]\n",
    "    gdf = gpd.GeoSeries([bbox], crs=4326)\n",
    "    landsat = Landsat.from_usgs(\n",
    "        in_dir=landsat_scene_item['assets'],\n",
    "        vector_features=gdf,\n",
    "        read_qa=False,\n",
    "        read_atcor=False\n",
    "    )\n",
    "\n",
    "    # get a complete test scene\n",
    "    landsat = Landsat.from_usgs(\n",
    "        in_dir=landsat_scene_item['assets'],\n",
    "        band_selection=['blue', 'green', 'red']\n",
    "    )"
   ]
  }
 ],
 "metadata": {
  "kernelspec": {
   "display_name": "Python 3",
   "language": "python",
   "name": "python3"
  },
  "language_info": {
   "codemirror_mode": {
    "name": "ipython",
    "version": 3
   },
   "file_extension": ".py",
   "mimetype": "text/x-python",
   "name": "python",
   "nbconvert_exporter": "python",
   "pygments_lexer": "ipython3",
   "version": "3.11.3"
  },
  "orig_nbformat": 4
 },
 "nbformat": 4,
 "nbformat_minor": 2
}
