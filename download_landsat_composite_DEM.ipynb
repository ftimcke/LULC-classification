{
 "cells": [
  {
   "attachments": {},
   "cell_type": "markdown",
   "id": "e439f8e6",
   "metadata": {},
   "source": [
    "# Landsat annual composites\n",
    "\n",
    "1. fetch the Landsat scenes overlapping our study region\n",
    "2. aggregate the Landsat scenes into a single multi-temporal composite using the median, our composite will contain the median reflectance obtained from all Landsat scenes fetched in certain year."
   ]
  },
  {
   "cell_type": "code",
   "execution_count": 16,
   "id": "4dd12ebc-7150-4ace-bd3d-23a3ed8da625",
   "metadata": {
    "tags": []
   },
   "outputs": [],
   "source": [
    "# we have to install the development version for the time being\n",
    "#!pip uninstall eodal -y\n",
    "#!pip install git+https://github.com/lukasValentin/eodal@landsat-dev\n",
    "#!pip install --upgrade git+https://github.com/EOA-team/eodal\n",
    "#!pip install --upgrade planetary-computer"
   ]
  },
  {
   "cell_type": "code",
   "execution_count": 17,
   "id": "1ed0dc0d",
   "metadata": {},
   "outputs": [],
   "source": [
    "# define the year/years for the download\n",
    "\n",
    "#multiyears\n",
    "#years = list(range(1984, 2020))\n",
    "#excluded_years = [1988, 1992, 1993, 1996, 1997]\n",
    "#filtered_years = [year for year in years if year not in excluded_years]\n",
    "\n",
    "#single year\n",
    "filtered_years = [2023]"
   ]
  },
  {
   "cell_type": "code",
   "execution_count": 18,
   "id": "0b6a91cc-7b8c-402c-9df9-7cecc3e6bef7",
   "metadata": {
    "tags": []
   },
   "outputs": [],
   "source": [
    "# import libraries\n",
    "from datetime import datetime\n",
    "from pathlib import Path\n",
    "from shapely.geometry import box\n",
    "from matplotlib import pyplot as plt\n",
    "import numpy as np\n",
    "\n",
    "from eodal.config import get_settings\n",
    "from eodal.core.sensors import Landsat\n",
    "from eodal.mapper.feature import Feature\n",
    "from eodal.mapper.filter import Filter\n",
    "from eodal.mapper.mapper import Mapper, MapperConfigs\n",
    "from eodal.core.band import GeoInfo, Band\n",
    "from eodal.core.raster import RasterCollection"
   ]
  },
  {
   "cell_type": "code",
   "execution_count": 19,
   "id": "1e87cb01",
   "metadata": {},
   "outputs": [],
   "source": [
    "# define a function to mask clouds and shadows\n",
    "def preprocess_landsat_scene(\n",
    "        ds: Landsat\n",
    ") -> Landsat:\n",
    "    \"\"\"\n",
    "    Mask clouds and cloud shadows in a Landsat scene based\n",
    "    on the 'qa_pixel' band.\n",
    "\n",
    "    NOTE:\n",
    "        Depending on your needs, the pre-processing function can be\n",
    "        fully customized using the full power of EOdal and its\n",
    "        interfacing libraries!\n",
    "\n",
    "    :param ds:\n",
    "        Landsat scene before cloud mask applied.\n",
    "    :return:\n",
    "        Landsat scene with clouds and cloud shadows masked.\n",
    "    \"\"\"\n",
    "    ds.mask_clouds_and_shadows(inplace=True)\n",
    "    return ds"
   ]
  },
  {
   "cell_type": "code",
   "execution_count": 20,
   "id": "34ef1f09",
   "metadata": {},
   "outputs": [
    {
     "name": "stderr",
     "output_type": "stream",
     "text": [
      "2023-07-14 11:42:26,038 eodal        INFO     Starting extraction of landsat scenes\n"
     ]
    },
    {
     "name": "stdout",
     "output_type": "stream",
     "text": [
      "1984 Number of Landsat scenes found: 18\n"
     ]
    },
    {
     "name": "stderr",
     "output_type": "stream",
     "text": [
      "2023-07-14 11:42:37,599 eodal        WARNING  Scene with ID LT05_L2SP_173060_19840526_20200918_02_T1 already added to SceneCollection - continue\n",
      "2023-07-14 11:42:59,375 eodal        WARNING  Scene with ID LT05_L2SP_173060_19840830_20200918_02_T1 already added to SceneCollection - continue\n",
      "2023-07-14 11:43:08,991 eodal        WARNING  Scene with ID LT05_L2SP_173060_19840915_20200918_02_T1 already added to SceneCollection - continue\n",
      "2023-07-14 11:43:18,896 eodal        WARNING  Scene with ID LT05_L2SP_173060_19841001_20200918_02_T1 already added to SceneCollection - continue\n",
      "2023-07-14 11:43:48,242 eodal        WARNING  Scene with ID LT05_L2SP_173060_19841118_20200918_02_T2 already added to SceneCollection - continue\n",
      "2023-07-14 11:44:04,036 eodal        WARNING  Scene with ID LT05_L2SP_173060_19841204_20200918_02_T1 already added to SceneCollection - continue\n",
      "2023-07-14 11:44:11,456 eodal        INFO     Finished extraction of landsat scenes\n",
      "2023-07-14 11:44:19,804 eodal        INFO     Starting extraction of landsat scenes\n"
     ]
    },
    {
     "name": "stdout",
     "output_type": "stream",
     "text": [
      "1985 Number of Landsat scenes found: 2\n"
     ]
    },
    {
     "name": "stderr",
     "output_type": "stream",
     "text": [
      "2023-07-14 11:44:28,183 eodal        WARNING  Scene with ID LT05_L2SP_173060_19850326_20200918_02_T2 already added to SceneCollection - continue\n",
      "2023-07-14 11:44:28,681 eodal        INFO     Finished extraction of landsat scenes\n",
      "c:\\Users\\ftimcke\\AppData\\Local\\anaconda3\\lib\\site-packages\\eodal\\core\\raster.py:1148: RuntimeWarning: divide by zero encountered in double_scalars\n",
      "  * (1 / (band_data.max() - band_data.min()) * 255)\n",
      "2023-07-14 11:44:31,143 eodal        INFO     Starting extraction of landsat scenes\n"
     ]
    },
    {
     "name": "stdout",
     "output_type": "stream",
     "text": [
      "1986 Number of Landsat scenes found: 22\n"
     ]
    },
    {
     "name": "stderr",
     "output_type": "stream",
     "text": [
      "2023-07-14 11:44:42,646 eodal        WARNING  Scene with ID LT05_L2SP_173060_19860108_20200918_02_T1 already added to SceneCollection - continue\n",
      "2023-07-14 11:45:03,329 eodal        WARNING  Scene with ID LT05_L2SP_173060_19860124_20200918_02_T2 already added to SceneCollection - continue\n",
      "2023-07-14 11:46:39,199 eodal        WARNING  Scene with ID LT05_L2SP_173060_19861124_20200917_02_T1 already added to SceneCollection - continue\n",
      "2023-07-14 11:47:00,235 eodal        WARNING  Scene with ID LT05_L2SP_173060_19861210_20200917_02_T1 already added to SceneCollection - continue\n",
      "2023-07-14 11:47:19,674 eodal        WARNING  Scene with ID LT05_L2SP_173060_19861226_20200917_02_T1 already added to SceneCollection - continue\n",
      "2023-07-14 11:47:31,159 eodal        INFO     Finished extraction of landsat scenes\n",
      "2023-07-14 11:47:44,176 eodal        INFO     Starting extraction of landsat scenes\n"
     ]
    },
    {
     "name": "stdout",
     "output_type": "stream",
     "text": [
      "1987 Number of Landsat scenes found: 25\n"
     ]
    },
    {
     "name": "stderr",
     "output_type": "stream",
     "text": [
      "2023-07-14 11:48:08,699 eodal        WARNING  Scene with ID LT05_L2SP_173060_19870127_20201014_02_T1 already added to SceneCollection - continue\n",
      "2023-07-14 11:48:31,930 eodal        WARNING  Scene with ID LT05_L2SP_173060_19870228_20201014_02_T1 already added to SceneCollection - continue\n",
      "2023-07-14 11:48:40,585 eodal        WARNING  Scene with ID LT05_L2SP_173060_19870316_20201014_02_T1 already added to SceneCollection - continue\n",
      "2023-07-14 11:49:20,828 eodal        WARNING  Scene with ID LT05_L2SP_173060_19870807_20201014_02_T1 already added to SceneCollection - continue\n",
      "2023-07-14 11:49:31,036 eodal        WARNING  Scene with ID LT05_L2SP_173060_19870823_20201014_02_T2 already added to SceneCollection - continue\n",
      "2023-07-14 11:49:42,223 eodal        WARNING  Scene with ID LT05_L2SP_173060_19870908_20201014_02_T1 already added to SceneCollection - continue\n",
      "2023-07-14 11:49:53,476 eodal        WARNING  Scene with ID LT05_L2SP_173060_19870924_20201014_02_T1 already added to SceneCollection - continue\n",
      "2023-07-14 11:50:04,204 eodal        WARNING  Scene with ID LT04_L2SP_173060_19871002_20201014_02_T1 already added to SceneCollection - continue\n",
      "2023-07-14 11:50:15,674 eodal        INFO     Finished extraction of landsat scenes\n",
      "2023-07-14 11:50:26,162 eodal        INFO     Starting extraction of landsat scenes\n"
     ]
    },
    {
     "name": "stdout",
     "output_type": "stream",
     "text": [
      "1989 Number of Landsat scenes found: 9\n"
     ]
    },
    {
     "name": "stderr",
     "output_type": "stream",
     "text": [
      "2023-07-14 11:50:35,658 eodal        WARNING  Scene with ID LT04_L2SP_173060_19890516_20200916_02_T2 already added to SceneCollection - continue\n",
      "2023-07-14 11:50:49,978 eodal        WARNING  Scene with ID LT04_L2SP_173060_19890703_20200916_02_T1 already added to SceneCollection - continue\n",
      "2023-07-14 11:51:20,739 eodal        INFO     Finished extraction of landsat scenes\n",
      "2023-07-14 11:51:26,371 eodal        INFO     Starting extraction of landsat scenes\n"
     ]
    },
    {
     "name": "stdout",
     "output_type": "stream",
     "text": [
      "1990 Number of Landsat scenes found: 8\n"
     ]
    },
    {
     "name": "stderr",
     "output_type": "stream",
     "text": [
      "2023-07-14 11:51:36,664 eodal        WARNING  Scene with ID LT04_L2SP_173060_19900519_20200915_02_T1 already added to SceneCollection - continue\n",
      "2023-07-14 11:51:55,846 eodal        WARNING  Scene with ID LT04_L2SP_173060_19901127_20200915_02_T1 already added to SceneCollection - continue\n",
      "2023-07-14 11:52:14,357 eodal        WARNING  Scene with ID LT04_L2SP_173060_19901229_20200915_02_T1 already added to SceneCollection - continue\n",
      "2023-07-14 11:52:17,701 eodal        INFO     Finished extraction of landsat scenes\n",
      "2023-07-14 11:52:22,909 eodal        INFO     Starting extraction of landsat scenes\n"
     ]
    },
    {
     "name": "stdout",
     "output_type": "stream",
     "text": [
      "1991 Number of Landsat scenes found: 1\n"
     ]
    },
    {
     "name": "stderr",
     "output_type": "stream",
     "text": [
      "2023-07-14 11:52:29,869 eodal        INFO     Finished extraction of landsat scenes\n",
      "2023-07-14 11:52:32,976 eodal        INFO     Starting extraction of landsat scenes\n"
     ]
    },
    {
     "name": "stdout",
     "output_type": "stream",
     "text": [
      "1994 Number of Landsat scenes found: 12\n"
     ]
    },
    {
     "name": "stderr",
     "output_type": "stream",
     "text": [
      "2023-07-14 11:52:41,930 eodal        WARNING  Scene with ID LT05_L2SP_173060_19940810_20200913_02_T1 already added to SceneCollection - continue\n",
      "2023-07-14 11:52:50,584 eodal        WARNING  Scene with ID LT05_L2SP_173060_19941013_20200912_02_T1 already added to SceneCollection - continue\n",
      "2023-07-14 11:52:58,568 eodal        WARNING  Scene with ID LT05_L2SP_173060_19941029_20200913_02_T2 already added to SceneCollection - continue\n",
      "2023-07-14 11:53:13,828 eodal        WARNING  Scene with ID LT05_L2SP_173060_19941130_20200912_02_T1 already added to SceneCollection - continue\n",
      "2023-07-14 11:53:29,179 eodal        WARNING  Scene with ID LT05_L2SP_173060_19941216_20200913_02_T1 already added to SceneCollection - continue\n",
      "2023-07-14 11:53:33,671 eodal        INFO     Finished extraction of landsat scenes\n",
      "2023-07-14 11:53:39,708 eodal        INFO     Starting extraction of landsat scenes\n"
     ]
    },
    {
     "name": "stdout",
     "output_type": "stream",
     "text": [
      "1995 Number of Landsat scenes found: 16\n"
     ]
    },
    {
     "name": "stderr",
     "output_type": "stream",
     "text": [
      "2023-07-14 11:53:49,915 eodal        WARNING  Scene with ID LT05_L2SP_173060_19950101_20200912_02_T1 already added to SceneCollection - continue\n",
      "2023-07-14 11:54:07,972 eodal        WARNING  Scene with ID LT05_L2SP_173060_19950117_20200912_02_T1 already added to SceneCollection - continue\n",
      "2023-07-14 11:54:25,482 eodal        WARNING  Scene with ID LT05_L2SP_173060_19950202_20200912_02_T1 already added to SceneCollection - continue\n",
      "2023-07-14 11:54:43,597 eodal        WARNING  Scene with ID LT05_L2SP_173060_19950218_20200912_02_T1 already added to SceneCollection - continue\n",
      "2023-07-14 11:55:06,083 eodal        WARNING  Scene with ID LT05_L2SP_173060_19950322_20200912_02_T1 already added to SceneCollection - continue\n",
      "2023-07-14 11:55:21,530 eodal        INFO     Finished extraction of landsat scenes\n",
      "2023-07-14 11:55:28,701 eodal        INFO     Starting extraction of landsat scenes\n"
     ]
    },
    {
     "name": "stdout",
     "output_type": "stream",
     "text": [
      "1998 Number of Landsat scenes found: 2\n"
     ]
    },
    {
     "name": "stderr",
     "output_type": "stream",
     "text": [
      "2023-07-14 11:55:41,948 eodal        WARNING  Scene with ID LT05_L2SP_173060_19981109_20200908_02_T1 already added to SceneCollection - continue\n",
      "2023-07-14 11:55:42,524 eodal        INFO     Finished extraction of landsat scenes\n",
      "2023-07-14 11:55:45,627 eodal        INFO     Starting extraction of landsat scenes\n"
     ]
    },
    {
     "name": "stdout",
     "output_type": "stream",
     "text": [
      "1999 Number of Landsat scenes found: 12\n"
     ]
    },
    {
     "name": "stderr",
     "output_type": "stream",
     "text": [
      "2023-07-14 11:55:57,347 eodal        WARNING  Scene with ID LT05_L2SP_173060_19990213_20200908_02_T1 already added to SceneCollection - continue\n",
      "2023-07-14 11:56:14,643 eodal        WARNING  Scene with ID LE07_L2SP_173060_19990917_20200918_02_T1 already added to SceneCollection - continue\n",
      "2023-07-14 11:56:43,795 eodal        WARNING  Scene with ID LE07_L2SP_173060_19991206_20200918_02_T1 already added to SceneCollection - continue\n",
      "2023-07-14 11:57:04,862 eodal        INFO     Finished extraction of landsat scenes\n",
      "2023-07-14 11:57:13,917 eodal        INFO     Starting extraction of landsat scenes\n"
     ]
    },
    {
     "name": "stdout",
     "output_type": "stream",
     "text": [
      "2000 Number of Landsat scenes found: 26\n"
     ]
    },
    {
     "name": "stderr",
     "output_type": "stream",
     "text": [
      "2023-07-14 11:57:36,287 eodal        WARNING  Scene with ID LE07_L2SP_173060_20000327_20200918_02_T1 already added to SceneCollection - continue\n",
      "2023-07-14 11:57:54,090 eodal        WARNING  Scene with ID LE07_L2SP_173060_20000412_20200918_02_T1 already added to SceneCollection - continue\n",
      "2023-07-14 11:58:22,225 eodal        WARNING  Scene with ID LE07_L2SP_173060_20000701_20200918_02_T1 already added to SceneCollection - continue\n",
      "2023-07-14 11:58:31,380 eodal        WARNING  Scene with ID LE07_L2SP_173060_20000903_20200918_02_T1 already added to SceneCollection - continue\n",
      "2023-07-14 11:58:46,216 eodal        WARNING  Scene with ID LE07_L2SP_173060_20000919_20200918_02_T1 already added to SceneCollection - continue\n",
      "2023-07-14 11:59:14,865 eodal        WARNING  Scene with ID LE07_L2SP_173060_20001106_20200917_02_T2 already added to SceneCollection - continue\n",
      "2023-07-14 11:59:23,336 eodal        WARNING  Scene with ID LE07_L2SP_173060_20001122_20200918_02_T2 already added to SceneCollection - continue\n",
      "2023-07-14 11:59:46,647 eodal        INFO     Finished extraction of landsat scenes\n",
      "2023-07-14 11:59:58,413 eodal        INFO     Starting extraction of landsat scenes\n"
     ]
    },
    {
     "name": "stdout",
     "output_type": "stream",
     "text": [
      "2001 Number of Landsat scenes found: 36\n"
     ]
    },
    {
     "name": "stderr",
     "output_type": "stream",
     "text": [
      "2023-07-14 12:00:15,543 eodal        WARNING  Scene with ID LE07_L2SP_173060_20010109_20200917_02_T1 already added to SceneCollection - continue\n",
      "2023-07-14 12:00:42,445 eodal        WARNING  Scene with ID LT05_L2SP_173060_20010407_20200906_02_T1 already added to SceneCollection - continue\n",
      "2023-07-14 12:01:14,510 eodal        WARNING  Scene with ID LE07_L2SP_173060_20010517_20200917_02_T1 already added to SceneCollection - continue\n",
      "2023-07-14 12:01:34,688 eodal        WARNING  Scene with ID LE07_L2SP_173060_20010602_20200917_02_T1 already added to SceneCollection - continue\n",
      "2023-07-14 12:01:44,258 eodal        WARNING  Scene with ID LE07_L2SP_173060_20010618_20200917_02_T1 already added to SceneCollection - continue\n",
      "2023-07-14 12:01:53,535 eodal        WARNING  Scene with ID LE07_L2SP_173060_20010704_20200917_02_T1 already added to SceneCollection - continue\n",
      "2023-07-14 12:02:13,413 eodal        WARNING  Scene with ID LE07_L2SP_173060_20010805_20200917_02_T1 already added to SceneCollection - continue\n",
      "2023-07-14 12:02:42,277 eodal        WARNING  Scene with ID LE07_L2SP_173060_20011008_20200917_02_T1 already added to SceneCollection - continue\n",
      "2023-07-14 12:02:51,659 eodal        WARNING  Scene with ID LE07_L2SP_173060_20011024_20200917_02_T1 already added to SceneCollection - continue\n",
      "2023-07-14 12:03:02,230 eodal        WARNING  Scene with ID LE07_L2SP_173060_20011109_20200917_02_T1 already added to SceneCollection - continue\n",
      "2023-07-14 12:03:13,387 eodal        WARNING  Scene with ID LE07_L2SP_173060_20011125_20200917_02_T1 already added to SceneCollection - continue\n",
      "2023-07-14 12:03:47,925 eodal        INFO     Finished extraction of landsat scenes\n",
      "2023-07-14 12:04:02,533 eodal        INFO     Starting extraction of landsat scenes\n"
     ]
    },
    {
     "name": "stdout",
     "output_type": "stream",
     "text": [
      "2002 Number of Landsat scenes found: 51\n"
     ]
    },
    {
     "name": "stderr",
     "output_type": "stream",
     "text": [
      "2023-07-14 12:04:44,853 eodal        WARNING  Scene with ID LE07_L2SP_173060_20020317_20200916_02_T1 already added to SceneCollection - continue\n",
      "2023-07-14 12:04:53,328 eodal        WARNING  Scene with ID LE07_L2SP_173060_20020402_20200916_02_T1 already added to SceneCollection - continue\n",
      "2023-07-14 12:05:07,784 eodal        WARNING  Scene with ID LE07_L2SP_173060_20020418_20200916_02_T2 already added to SceneCollection - continue\n",
      "2023-07-14 12:05:24,482 eodal        WARNING  Scene with ID LE07_L2SP_173060_20020504_20200917_02_T1 already added to SceneCollection - continue\n",
      "2023-07-14 12:05:41,685 eodal        WARNING  Scene with ID LE07_L2SP_173060_20020520_20200916_02_T1 already added to SceneCollection - continue\n",
      "2023-07-14 12:05:58,978 eodal        WARNING  Scene with ID LE07_L2SP_173060_20020605_20200917_02_T1 already added to SceneCollection - continue\n",
      "2023-07-14 12:06:14,092 eodal        WARNING  Scene with ID LE07_L2SP_173060_20020723_20200916_02_T1 already added to SceneCollection - continue\n",
      "2023-07-14 12:06:23,123 eodal        WARNING  Scene with ID LE07_L2SP_173060_20020808_20200916_02_T1 already added to SceneCollection - continue\n",
      "2023-07-14 12:06:46,556 eodal        WARNING  Scene with ID LE07_L2SP_173060_20020909_20200916_02_T1 already added to SceneCollection - continue\n",
      "2023-07-14 12:07:10,900 eodal        WARNING  Scene with ID LE07_L2SP_173060_20020925_20200916_02_T1 already added to SceneCollection - continue\n",
      "2023-07-14 12:07:27,138 eodal        WARNING  Scene with ID LE07_L2SP_173060_20021011_20200916_02_T1 already added to SceneCollection - continue\n",
      "2023-07-14 12:07:42,309 eodal        WARNING  Scene with ID LE07_L2SP_173060_20021027_20200916_02_T2 already added to SceneCollection - continue\n",
      "2023-07-14 12:08:15,548 eodal        WARNING  Scene with ID LE07_L2SP_173060_20021112_20200916_02_T1 already added to SceneCollection - continue\n",
      "2023-07-14 12:08:37,995 eodal        WARNING  Scene with ID LE07_L2SP_173060_20021128_20200916_02_T1 already added to SceneCollection - continue\n",
      "2023-07-14 12:08:53,214 eodal        WARNING  Scene with ID LE07_L2SP_173060_20021214_20200916_02_T1 already added to SceneCollection - continue\n",
      "2023-07-14 12:09:27,529 eodal        INFO     Finished extraction of landsat scenes\n",
      "2023-07-14 12:09:46,542 eodal        INFO     Starting extraction of landsat scenes\n"
     ]
    },
    {
     "name": "stdout",
     "output_type": "stream",
     "text": [
      "2003 Number of Landsat scenes found: 39\n"
     ]
    },
    {
     "name": "stderr",
     "output_type": "stream",
     "text": [
      "2023-07-14 12:10:01,278 eodal        WARNING  Scene with ID LE07_L2SP_173060_20030115_20200916_02_T1 already added to SceneCollection - continue\n",
      "2023-07-14 12:10:20,494 eodal        WARNING  Scene with ID LE07_L2SP_173060_20030216_20200916_02_T1 already added to SceneCollection - continue\n",
      "2023-07-14 12:10:35,022 eodal        WARNING  Scene with ID LE07_L2SP_173060_20030304_20200916_02_T1 already added to SceneCollection - continue\n",
      "2023-07-14 12:10:48,989 eodal        WARNING  Scene with ID LE07_L2SP_173060_20030320_20200916_02_T2 already added to SceneCollection - continue\n",
      "2023-07-14 12:11:03,839 eodal        WARNING  Scene with ID LE07_L2SP_173060_20030405_20200916_02_T1 already added to SceneCollection - continue\n",
      "2023-07-14 12:11:26,556 eodal        WARNING  Scene with ID LE07_L2SP_173060_20030507_20200916_02_T1 already added to SceneCollection - continue\n",
      "2023-07-14 12:12:05,673 eodal        WARNING  Scene with ID LE07_L2SP_173060_20030928_20200916_02_T2 already added to SceneCollection - continue\n",
      "2023-07-14 12:12:40,347 eodal        WARNING  Scene with ID LE07_L2SP_173060_20031115_20200915_02_T2 already added to SceneCollection - continue\n",
      "2023-07-14 12:12:55,963 eodal        WARNING  Scene with ID LE07_L2SP_173060_20031201_20200915_02_T2 already added to SceneCollection - continue\n",
      "2023-07-14 12:13:05,152 eodal        WARNING  Scene with ID LE07_L2SP_173060_20031217_20200915_02_T1 already added to SceneCollection - continue\n",
      "2023-07-14 12:13:30,614 eodal        INFO     Finished extraction of landsat scenes\n",
      "2023-07-14 12:13:46,781 eodal        INFO     Starting extraction of landsat scenes\n"
     ]
    },
    {
     "name": "stdout",
     "output_type": "stream",
     "text": [
      "2004 Number of Landsat scenes found: 54\n"
     ]
    },
    {
     "name": "stderr",
     "output_type": "stream",
     "text": [
      "2023-07-14 12:14:02,209 eodal        WARNING  Scene with ID LE07_L2SP_173060_20040118_20200915_02_T2 already added to SceneCollection - continue\n",
      "2023-07-14 12:14:23,750 eodal        WARNING  Scene with ID LE07_L2SP_173060_20040219_20200915_02_T1 already added to SceneCollection - continue\n",
      "2023-07-14 12:14:39,628 eodal        WARNING  Scene with ID LE07_L2SP_173060_20040306_20200915_02_T1 already added to SceneCollection - continue\n",
      "2023-07-14 12:14:55,268 eodal        WARNING  Scene with ID LE07_L2SP_173060_20040322_20200915_02_T1 already added to SceneCollection - continue\n",
      "2023-07-14 12:15:05,128 eodal        WARNING  Scene with ID LE07_L2SP_173060_20040407_20200915_02_T1 already added to SceneCollection - continue\n",
      "2023-07-14 12:15:14,486 eodal        WARNING  Scene with ID LE07_L2SP_173060_20040423_20200915_02_T1 already added to SceneCollection - continue\n",
      "2023-07-14 12:15:34,897 eodal        WARNING  Scene with ID LE07_L2SP_173060_20040525_20200915_02_T1 already added to SceneCollection - continue\n",
      "2023-07-14 12:15:50,560 eodal        WARNING  Scene with ID LE07_L2SP_173060_20040610_20200915_02_T1 already added to SceneCollection - continue\n",
      "2023-07-14 12:16:00,628 eodal        WARNING  Scene with ID LE07_L2SP_173060_20040626_20200915_02_T1 already added to SceneCollection - continue\n",
      "2023-07-14 12:16:16,109 eodal        WARNING  Scene with ID LE07_L2SP_173060_20040712_20200915_02_T1 already added to SceneCollection - continue\n",
      "2023-07-14 12:16:31,818 eodal        WARNING  Scene with ID LE07_L2SP_173060_20040813_20200915_02_T1 already added to SceneCollection - continue\n",
      "2023-07-14 12:16:47,824 eodal        WARNING  Scene with ID LE07_L2SP_173060_20040829_20200915_02_T2 already added to SceneCollection - continue\n",
      "2023-07-14 12:16:57,172 eodal        WARNING  Scene with ID LE07_L2SP_173060_20040914_20200915_02_T1 already added to SceneCollection - continue\n",
      "2023-07-14 12:17:18,491 eodal        WARNING  Scene with ID LE07_L2SP_173060_20041016_20200915_02_T2 already added to SceneCollection - continue\n",
      "2023-07-14 12:17:35,218 eodal        WARNING  Scene with ID LE07_L2SP_173060_20041101_20200915_02_T1 already added to SceneCollection - continue\n",
      "2023-07-14 12:17:51,240 eodal        WARNING  Scene with ID LE07_L2SP_173060_20041117_20200915_02_T1 already added to SceneCollection - continue\n",
      "2023-07-14 12:18:07,986 eodal        WARNING  Scene with ID LE07_L2SP_173060_20041203_20200915_02_T1 already added to SceneCollection - continue\n",
      "2023-07-14 12:18:23,460 eodal        WARNING  Scene with ID LE07_L2SP_173060_20041219_20200915_02_T1 already added to SceneCollection - continue\n",
      "2023-07-14 12:18:53,412 eodal        INFO     Finished extraction of landsat scenes\n",
      "2023-07-14 12:19:14,403 eodal        INFO     Starting extraction of landsat scenes\n"
     ]
    },
    {
     "name": "stdout",
     "output_type": "stream",
     "text": [
      "2005 Number of Landsat scenes found: 52\n"
     ]
    },
    {
     "name": "stderr",
     "output_type": "stream",
     "text": [
      "2023-07-14 12:19:24,420 eodal        WARNING  Scene with ID LE07_L2SP_173060_20050104_20200915_02_T1 already added to SceneCollection - continue\n",
      "2023-07-14 12:19:34,765 eodal        WARNING  Scene with ID LE07_L2SP_173060_20050120_20200915_02_T1 already added to SceneCollection - continue\n",
      "2023-07-14 12:19:51,106 eodal        WARNING  Scene with ID LE07_L2SP_173060_20050205_20200914_02_T1 already added to SceneCollection - continue\n",
      "2023-07-14 12:20:07,445 eodal        WARNING  Scene with ID LE07_L2SP_173060_20050221_20200914_02_T1 already added to SceneCollection - continue\n",
      "2023-07-14 12:20:24,365 eodal        WARNING  Scene with ID LE07_L2SP_173060_20050309_20200914_02_T1 already added to SceneCollection - continue\n",
      "2023-07-14 12:20:40,829 eodal        WARNING  Scene with ID LE07_L2SP_173060_20050325_20200914_02_T1 already added to SceneCollection - continue\n",
      "2023-07-14 12:21:28,996 eodal        WARNING  Scene with ID LE07_L2SP_173060_20050613_20200915_02_T1 already added to SceneCollection - continue\n",
      "2023-07-14 12:21:52,954 eodal        WARNING  Scene with ID LE07_L2SP_173060_20050715_20200914_02_T1 already added to SceneCollection - continue\n",
      "2023-07-14 12:22:02,543 eodal        WARNING  Scene with ID LE07_L2SP_173060_20050731_20200914_02_T2 already added to SceneCollection - continue\n",
      "2023-07-14 12:22:33,413 eodal        WARNING  Scene with ID LE07_L2SP_173060_20050901_20200914_02_T1 already added to SceneCollection - continue\n",
      "2023-07-14 12:22:51,715 eodal        WARNING  Scene with ID LE07_L2SP_173060_20051003_20200914_02_T1 already added to SceneCollection - continue\n",
      "2023-07-14 12:23:09,215 eodal        WARNING  Scene with ID LE07_L2SP_173060_20051019_20200914_02_T1 already added to SceneCollection - continue\n",
      "2023-07-14 12:23:27,975 eodal        WARNING  Scene with ID LE07_L2SP_173060_20051104_20200914_02_T2 already added to SceneCollection - continue\n",
      "2023-07-14 12:23:45,734 eodal        WARNING  Scene with ID LE07_L2SP_173060_20051120_20200914_02_T1 already added to SceneCollection - continue\n",
      "2023-07-14 12:24:08,221 eodal        WARNING  Scene with ID LE07_L2SP_173060_20051222_20200914_02_T1 already added to SceneCollection - continue\n",
      "2023-07-14 12:24:40,139 eodal        INFO     Finished extraction of landsat scenes\n",
      "2023-07-14 12:25:01,984 eodal        INFO     Starting extraction of landsat scenes\n"
     ]
    },
    {
     "name": "stdout",
     "output_type": "stream",
     "text": [
      "2006 Number of Landsat scenes found: 40\n"
     ]
    },
    {
     "name": "stderr",
     "output_type": "stream",
     "text": [
      "2023-07-14 12:25:12,394 eodal        WARNING  Scene with ID LE07_L2SP_173060_20060107_20200914_02_T1 already added to SceneCollection - continue\n",
      "2023-07-14 12:25:28,217 eodal        WARNING  Scene with ID LE07_L2SP_173060_20060123_20200914_02_T1 already added to SceneCollection - continue\n",
      "2023-07-14 12:25:38,053 eodal        WARNING  Scene with ID LE07_L2SP_173060_20060208_20200914_02_T1 already added to SceneCollection - continue\n",
      "2023-07-14 12:25:54,169 eodal        WARNING  Scene with ID LE07_L2SP_173060_20060224_20200914_02_T1 already added to SceneCollection - continue\n",
      "2023-07-14 12:26:03,876 eodal        WARNING  Scene with ID LE07_L2SP_173060_20060312_20200914_02_T1 already added to SceneCollection - continue\n",
      "2023-07-14 12:26:25,844 eodal        WARNING  Scene with ID LE07_L2SP_173060_20060429_20200914_02_T1 already added to SceneCollection - continue\n",
      "2023-07-14 12:26:42,354 eodal        WARNING  Scene with ID LE07_L2SP_173060_20060531_20200914_02_T1 already added to SceneCollection - continue\n",
      "2023-07-14 12:26:52,792 eodal        WARNING  Scene with ID LE07_L2SP_173060_20060702_20200914_02_T1 already added to SceneCollection - continue\n",
      "2023-07-14 12:27:12,634 eodal        WARNING  Scene with ID LE07_L2SP_173060_20060819_20200913_02_T1 already added to SceneCollection - continue\n",
      "2023-07-14 12:27:50,982 eodal        WARNING  Scene with ID LE07_L2SP_173060_20060904_20200914_02_T1 already added to SceneCollection - continue\n",
      "2023-07-14 12:28:08,107 eodal        WARNING  Scene with ID LE07_L2SP_173060_20060920_20200914_02_T1 already added to SceneCollection - continue\n",
      "2023-07-14 12:28:25,410 eodal        WARNING  Scene with ID LE07_L2SP_173060_20061006_20200913_02_T1 already added to SceneCollection - continue\n",
      "2023-07-14 12:28:41,681 eodal        WARNING  Scene with ID LE07_L2SP_173060_20061022_20200913_02_T2 already added to SceneCollection - continue\n",
      "2023-07-14 12:28:51,290 eodal        WARNING  Scene with ID LE07_L2SP_173060_20061107_20200913_02_T1 already added to SceneCollection - continue\n",
      "2023-07-14 12:29:20,850 eodal        INFO     Finished extraction of landsat scenes\n",
      "2023-07-14 12:29:37,364 eodal        INFO     Starting extraction of landsat scenes\n"
     ]
    },
    {
     "name": "stdout",
     "output_type": "stream",
     "text": [
      "2007 Number of Landsat scenes found: 48\n"
     ]
    },
    {
     "name": "stderr",
     "output_type": "stream",
     "text": [
      "2023-07-14 12:29:57,514 eodal        WARNING  Scene with ID LE07_L2SP_173060_20070110_20200913_02_T1 already added to SceneCollection - continue\n",
      "2023-07-14 12:30:09,586 eodal        WARNING  Scene with ID LE07_L2SP_173060_20070126_20200913_02_T1 already added to SceneCollection - continue\n",
      "2023-07-14 12:30:21,572 eodal        WARNING  Scene with ID LE07_L2SP_173060_20070211_20200913_02_T1 already added to SceneCollection - continue\n",
      "2023-07-14 12:30:56,602 eodal        WARNING  Scene with ID LE07_L2SP_173060_20070315_20200913_02_T1 already added to SceneCollection - continue\n",
      "2023-07-14 12:31:15,348 eodal        WARNING  Scene with ID LE07_L2SP_173060_20070331_20200913_02_T1 already added to SceneCollection - continue\n",
      "2023-07-14 12:31:53,843 eodal        WARNING  Scene with ID LE07_L2SP_173060_20070721_20200913_02_T1 already added to SceneCollection - continue\n",
      "2023-07-14 12:32:18,762 eodal        WARNING  Scene with ID LE07_L2SP_173060_20070822_20200913_02_T1 already added to SceneCollection - continue\n",
      "2023-07-14 12:32:37,319 eodal        WARNING  Scene with ID LE07_L2SP_173060_20070907_20200913_02_T1 already added to SceneCollection - continue\n",
      "2023-07-14 12:32:54,778 eodal        WARNING  Scene with ID LE07_L2SP_173060_20070923_20200913_02_T1 already added to SceneCollection - continue\n",
      "2023-07-14 12:33:05,127 eodal        WARNING  Scene with ID LE07_L2SP_173060_20071009_20200913_02_T2 already added to SceneCollection - continue\n",
      "2023-07-14 12:33:22,667 eodal        WARNING  Scene with ID LE07_L2SP_173060_20071025_20200913_02_T1 already added to SceneCollection - continue\n",
      "2023-07-14 12:33:41,440 eodal        WARNING  Scene with ID LE07_L2SP_173060_20071110_20200913_02_T1 already added to SceneCollection - continue\n",
      "2023-07-14 12:33:59,059 eodal        WARNING  Scene with ID LE07_L2SP_173060_20071126_20200913_02_T1 already added to SceneCollection - continue\n",
      "2023-07-14 12:34:16,857 eodal        WARNING  Scene with ID LE07_L2SP_173060_20071212_20200913_02_T1 already added to SceneCollection - continue\n",
      "2023-07-14 12:34:34,396 eodal        WARNING  Scene with ID LE07_L2SP_173060_20071228_20200913_02_T1 already added to SceneCollection - continue\n",
      "2023-07-14 12:34:56,206 eodal        INFO     Finished extraction of landsat scenes\n",
      "2023-07-14 12:35:15,170 eodal        INFO     Starting extraction of landsat scenes\n"
     ]
    },
    {
     "name": "stdout",
     "output_type": "stream",
     "text": [
      "2008 Number of Landsat scenes found: 52\n"
     ]
    },
    {
     "name": "stderr",
     "output_type": "stream",
     "text": [
      "2023-07-14 12:35:30,964 eodal        WARNING  Scene with ID LE07_L2SP_173060_20080113_20200913_02_T1 already added to SceneCollection - continue\n",
      "2023-07-14 12:35:46,659 eodal        WARNING  Scene with ID LE07_L2SP_173060_20080214_20200913_02_T1 already added to SceneCollection - continue\n",
      "2023-07-14 12:36:02,295 eodal        WARNING  Scene with ID LE07_L2SP_173060_20080301_20200913_02_T1 already added to SceneCollection - continue\n",
      "2023-07-14 12:36:17,415 eodal        WARNING  Scene with ID LE07_L2SP_173060_20080317_20200913_02_T1 already added to SceneCollection - continue\n",
      "2023-07-14 12:36:32,686 eodal        WARNING  Scene with ID LE07_L2SP_173060_20080418_20200913_02_T1 already added to SceneCollection - continue\n",
      "2023-07-14 12:36:48,086 eodal        WARNING  Scene with ID LE07_L2SP_173060_20080504_20200913_02_T1 already added to SceneCollection - continue\n",
      "2023-07-14 12:36:57,504 eodal        WARNING  Scene with ID LE07_L2SP_173060_20080520_20200912_02_T1 already added to SceneCollection - continue\n",
      "2023-07-14 12:37:14,337 eodal        WARNING  Scene with ID LT05_L2SP_173060_20080613_20200829_02_T1 already added to SceneCollection - continue\n",
      "2023-07-14 12:37:30,415 eodal        WARNING  Scene with ID LE07_L2SP_173060_20080824_20200913_02_T1 already added to SceneCollection - continue\n",
      "2023-07-14 12:37:40,859 eodal        WARNING  Scene with ID LT05_L2SP_173060_20080901_20200829_02_T1 already added to SceneCollection - continue\n",
      "2023-07-14 12:37:56,970 eodal        WARNING  Scene with ID LE07_L2SP_173060_20080909_20200913_02_T1 already added to SceneCollection - continue\n",
      "2023-07-14 12:38:14,077 eodal        WARNING  Scene with ID LT05_L2SP_173060_20080917_20200829_02_T1 already added to SceneCollection - continue\n",
      "2023-07-14 12:38:36,777 eodal        WARNING  Scene with ID LT05_L2SP_173060_20081003_20200828_02_T2 already added to SceneCollection - continue\n",
      "2023-07-14 12:38:52,843 eodal        WARNING  Scene with ID LE07_L2SP_173060_20081011_20200913_02_T1 already added to SceneCollection - continue\n",
      "2023-07-14 12:39:08,449 eodal        WARNING  Scene with ID LE07_L2SP_173060_20081027_20200913_02_T1 already added to SceneCollection - continue\n",
      "2023-07-14 12:39:33,768 eodal        WARNING  Scene with ID LE07_L2SP_173060_20081214_20200912_02_T1 already added to SceneCollection - continue\n",
      "2023-07-14 12:39:49,400 eodal        WARNING  Scene with ID LE07_L2SP_173060_20081230_20200912_02_T1 already added to SceneCollection - continue\n",
      "2023-07-14 12:40:12,195 eodal        INFO     Finished extraction of landsat scenes\n",
      "2023-07-14 12:40:32,173 eodal        INFO     Starting extraction of landsat scenes\n"
     ]
    },
    {
     "name": "stdout",
     "output_type": "stream",
     "text": [
      "2009 Number of Landsat scenes found: 60\n"
     ]
    },
    {
     "name": "stderr",
     "output_type": "stream",
     "text": [
      "2023-07-14 12:40:47,947 eodal        WARNING  Scene with ID LE07_L2SP_173060_20090115_20200912_02_T1 already added to SceneCollection - continue\n",
      "2023-07-14 12:41:03,595 eodal        WARNING  Scene with ID LE07_L2SP_173060_20090131_20200912_02_T1 already added to SceneCollection - continue\n",
      "2023-07-14 12:41:18,887 eodal        WARNING  Scene with ID LE07_L2SP_173060_20090216_20200912_02_T1 already added to SceneCollection - continue\n",
      "2023-07-14 12:41:34,506 eodal        WARNING  Scene with ID LE07_L2SP_173060_20090304_20200912_02_T1 already added to SceneCollection - continue\n",
      "2023-07-14 12:41:49,914 eodal        WARNING  Scene with ID LE07_L2SP_173060_20090320_20200912_02_T1 already added to SceneCollection - continue\n",
      "2023-07-14 12:42:12,066 eodal        WARNING  Scene with ID LE07_L2SP_173060_20090507_20200912_02_T1 already added to SceneCollection - continue\n",
      "2023-07-14 12:42:27,509 eodal        WARNING  Scene with ID LE07_L2SP_173060_20090608_20200912_02_T1 already added to SceneCollection - continue\n",
      "2023-07-14 12:42:38,533 eodal        WARNING  Scene with ID LT05_L2SP_173060_20090616_20200827_02_T1 already added to SceneCollection - continue\n",
      "2023-07-14 12:43:02,165 eodal        WARNING  Scene with ID LT05_L2SP_173060_20090702_20200827_02_T1 already added to SceneCollection - continue\n",
      "2023-07-14 12:43:23,967 eodal        WARNING  Scene with ID LE07_L2SP_173060_20090811_20200911_02_T1 already added to SceneCollection - continue\n",
      "2023-07-14 12:43:39,857 eodal        WARNING  Scene with ID LE07_L2SP_173060_20090827_20200911_02_T1 already added to SceneCollection - continue\n",
      "2023-07-14 12:43:55,776 eodal        WARNING  Scene with ID LE07_L2SP_173060_20090912_20200911_02_T1 already added to SceneCollection - continue\n",
      "2023-07-14 12:44:11,636 eodal        WARNING  Scene with ID LE07_L2SP_173060_20090928_20200911_02_T1 already added to SceneCollection - continue\n",
      "2023-07-14 12:44:21,237 eodal        WARNING  Scene with ID LE07_L2SP_173060_20091014_20200911_02_T1 already added to SceneCollection - continue\n",
      "2023-07-14 12:44:37,136 eodal        WARNING  Scene with ID LE07_L2SP_173060_20091030_20200911_02_T1 already added to SceneCollection - continue\n",
      "2023-07-14 12:44:47,708 eodal        WARNING  Scene with ID LT05_L2SP_173060_20091107_20200825_02_T1 already added to SceneCollection - continue\n",
      "2023-07-14 12:45:11,303 eodal        WARNING  Scene with ID LT05_L2SP_173060_20091123_20200825_02_T1 already added to SceneCollection - continue\n",
      "2023-07-14 12:45:26,697 eodal        WARNING  Scene with ID LE07_L2SP_173060_20091201_20200911_02_T1 already added to SceneCollection - continue\n",
      "2023-07-14 12:45:43,464 eodal        WARNING  Scene with ID LT05_L2SP_173060_20091209_20200825_02_T1 already added to SceneCollection - continue\n",
      "2023-07-14 12:45:53,271 eodal        WARNING  Scene with ID LE07_L2SP_173060_20091217_20200911_02_T1 already added to SceneCollection - continue\n",
      "2023-07-14 12:46:26,000 eodal        INFO     Finished extraction of landsat scenes\n",
      "c:\\Users\\ftimcke\\AppData\\Local\\anaconda3\\lib\\site-packages\\eodal\\core\\raster.py:1148: RuntimeWarning: divide by zero encountered in double_scalars\n",
      "  * (1 / (band_data.max() - band_data.min()) * 255)\n",
      "2023-07-14 12:46:50,197 eodal        INFO     Starting extraction of landsat scenes\n"
     ]
    },
    {
     "name": "stdout",
     "output_type": "stream",
     "text": [
      "2010 Number of Landsat scenes found: 72\n"
     ]
    },
    {
     "name": "stderr",
     "output_type": "stream",
     "text": [
      "2023-07-14 12:47:00,789 eodal        WARNING  Scene with ID LE07_L2SP_173060_20100102_20200911_02_T1 already added to SceneCollection - continue\n",
      "2023-07-14 12:47:10,443 eodal        WARNING  Scene with ID LT05_L2SP_173060_20100110_20200825_02_T1 already added to SceneCollection - continue\n",
      "2023-07-14 12:47:29,023 eodal        WARNING  Scene with ID LE07_L2SP_173060_20100118_20200911_02_T1 already added to SceneCollection - continue\n",
      "2023-07-14 12:47:48,597 eodal        WARNING  Scene with ID LT05_L2SP_173060_20100126_20200825_02_T1 already added to SceneCollection - continue\n",
      "2023-07-14 12:48:05,558 eodal        WARNING  Scene with ID LE07_L2SP_173060_20100203_20200911_02_T1 already added to SceneCollection - continue\n",
      "2023-07-14 12:48:24,362 eodal        WARNING  Scene with ID LT05_L2SP_173060_20100211_20200824_02_T1 already added to SceneCollection - continue\n",
      "2023-07-14 12:48:41,144 eodal        WARNING  Scene with ID LE07_L2SP_173060_20100219_20200911_02_T1 already added to SceneCollection - continue\n",
      "2023-07-14 12:48:59,247 eodal        WARNING  Scene with ID LE07_L2SP_173060_20100307_20200911_02_T1 already added to SceneCollection - continue\n",
      "2023-07-14 12:49:23,307 eodal        WARNING  Scene with ID LE07_L2SP_173060_20100408_20200911_02_T1 already added to SceneCollection - continue\n",
      "2023-07-14 12:49:40,334 eodal        WARNING  Scene with ID LE07_L2SP_173060_20100424_20200911_02_T2 already added to SceneCollection - continue\n",
      "2023-07-14 12:50:05,360 eodal        WARNING  Scene with ID LE07_L2SP_173060_20100611_20200911_02_T1 already added to SceneCollection - continue\n",
      "2023-07-14 12:50:15,834 eodal        WARNING  Scene with ID LE07_L2SP_173060_20100627_20200911_02_T1 already added to SceneCollection - continue\n",
      "2023-07-14 12:50:33,467 eodal        WARNING  Scene with ID LE07_L2SP_173060_20100713_20200911_02_T1 already added to SceneCollection - continue\n",
      "2023-07-14 12:50:51,033 eodal        WARNING  Scene with ID LE07_L2SP_173060_20100729_20200911_02_T1 already added to SceneCollection - continue\n",
      "2023-07-14 12:51:09,495 eodal        WARNING  Scene with ID LE07_L2SP_173060_20100814_20200910_02_T1 already added to SceneCollection - continue\n",
      "2023-07-14 12:51:28,807 eodal        WARNING  Scene with ID LT05_L2SP_173060_20100822_20200823_02_T1 already added to SceneCollection - continue\n",
      "2023-07-14 12:51:39,130 eodal        WARNING  Scene with ID LE07_L2SP_173060_20100830_20200910_02_T1 already added to SceneCollection - continue\n",
      "2023-07-14 12:51:49,691 eodal        WARNING  Scene with ID LE07_L2SP_173060_20100915_20200910_02_T1 already added to SceneCollection - continue\n",
      "2023-07-14 12:51:59,698 eodal        WARNING  Scene with ID LE07_L2SP_173060_20101001_20200911_02_T1 already added to SceneCollection - continue\n",
      "2023-07-14 12:52:17,356 eodal        WARNING  Scene with ID LE07_L2SP_173060_20101017_20200910_02_T1 already added to SceneCollection - continue\n",
      "2023-07-14 12:52:27,405 eodal        WARNING  Scene with ID LE07_L2SP_173060_20101102_20200910_02_T2 already added to SceneCollection - continue\n",
      "2023-07-14 12:52:40,407 eodal        WARNING  Scene with ID LT05_L2SP_173060_20101110_20200823_02_T1 already added to SceneCollection - continue\n",
      "2023-07-14 12:52:50,483 eodal        WARNING  Scene with ID LE07_L2SP_173060_20101118_20200911_02_T1 already added to SceneCollection - continue\n",
      "2023-07-14 12:53:07,242 eodal        WARNING  Scene with ID LE07_L2SP_173060_20101204_20200910_02_T1 already added to SceneCollection - continue\n",
      "2023-07-14 12:53:31,674 eodal        WARNING  Scene with ID LE07_L2SP_173060_20101220_20200910_02_T1 already added to SceneCollection - continue\n",
      "2023-07-14 12:53:47,962 eodal        WARNING  Scene with ID LT05_L2SP_173060_20101228_20200823_02_T1 already added to SceneCollection - continue\n",
      "2023-07-14 12:54:17,599 eodal        INFO     Finished extraction of landsat scenes\n",
      "2023-07-14 12:54:43,526 eodal        INFO     Starting extraction of landsat scenes\n"
     ]
    },
    {
     "name": "stdout",
     "output_type": "stream",
     "text": [
      "2011 Number of Landsat scenes found: 62\n"
     ]
    },
    {
     "name": "stderr",
     "output_type": "stream",
     "text": [
      "2023-07-14 12:54:53,394 eodal        WARNING  Scene with ID LE07_L2SP_173060_20110105_20200910_02_T1 already added to SceneCollection - continue\n",
      "2023-07-14 12:55:09,631 eodal        WARNING  Scene with ID LT05_L2SP_173060_20110113_20200823_02_T1 already added to SceneCollection - continue\n",
      "2023-07-14 12:55:19,095 eodal        WARNING  Scene with ID LE07_L2SP_173060_20110121_20200910_02_T1 already added to SceneCollection - continue\n",
      "2023-07-14 12:55:34,513 eodal        WARNING  Scene with ID LE07_L2SP_173060_20110206_20200910_02_T1 already added to SceneCollection - continue\n",
      "2023-07-14 12:55:56,033 eodal        WARNING  Scene with ID LE07_L2SP_173060_20110310_20200910_02_T1 already added to SceneCollection - continue\n",
      "2023-07-14 12:56:11,766 eodal        WARNING  Scene with ID LE07_L2SP_173060_20110326_20200910_02_T1 already added to SceneCollection - continue\n",
      "2023-07-14 12:56:27,543 eodal        WARNING  Scene with ID LE07_L2SP_173060_20110411_20200910_02_T1 already added to SceneCollection - continue\n",
      "2023-07-14 12:56:43,068 eodal        WARNING  Scene with ID LE07_L2SP_173060_20110513_20200910_02_T1 already added to SceneCollection - continue\n",
      "2023-07-14 12:56:59,584 eodal        WARNING  Scene with ID LT05_L2SP_173060_20110708_20200822_02_T2 already added to SceneCollection - continue\n",
      "2023-07-14 12:57:08,310 eodal        WARNING  Scene with ID LT05_L2SP_173060_20110724_20200822_02_T2 already added to SceneCollection - continue\n",
      "2023-07-14 12:57:24,001 eodal        WARNING  Scene with ID LE07_L2SP_173060_20110801_20200909_02_T1 already added to SceneCollection - continue\n",
      "2023-07-14 12:57:47,545 eodal        WARNING  Scene with ID LT05_L2SP_173060_20110825_20200820_02_T1 already added to SceneCollection - continue\n",
      "2023-07-14 12:58:10,575 eodal        WARNING  Scene with ID LT05_L2SP_173060_20110910_20200820_02_T1 already added to SceneCollection - continue\n",
      "2023-07-14 12:58:26,931 eodal        WARNING  Scene with ID LE07_L2SP_173060_20110918_20200909_02_T1 already added to SceneCollection - continue\n",
      "2023-07-14 12:58:42,763 eodal        WARNING  Scene with ID LE07_L2SP_173060_20111004_20200909_02_T2 already added to SceneCollection - continue\n",
      "2023-07-14 12:59:09,773 eodal        WARNING  Scene with ID LT05_L2SP_173060_20111028_20200820_02_T1 already added to SceneCollection - continue\n",
      "2023-07-14 12:59:19,680 eodal        WARNING  Scene with ID LE07_L2SP_173060_20111105_20200909_02_T1 already added to SceneCollection - continue\n",
      "2023-07-14 12:59:42,113 eodal        WARNING  Scene with ID LE07_L2SP_173060_20111121_20200909_02_T1 already added to SceneCollection - continue\n",
      "2023-07-14 12:59:58,690 eodal        WARNING  Scene with ID LE07_L2SP_173060_20111207_20200909_02_T1 already added to SceneCollection - continue\n",
      "2023-07-14 13:00:14,622 eodal        WARNING  Scene with ID LE07_L2SP_173060_20111223_20200909_02_T1 already added to SceneCollection - continue\n",
      "2023-07-14 13:00:41,968 eodal        INFO     Finished extraction of landsat scenes\n",
      "2023-07-14 13:01:04,963 eodal        INFO     Starting extraction of landsat scenes\n"
     ]
    },
    {
     "name": "stdout",
     "output_type": "stream",
     "text": [
      "2012 Number of Landsat scenes found: 48\n"
     ]
    },
    {
     "name": "stderr",
     "output_type": "stream",
     "text": [
      "2023-07-14 13:01:26,767 eodal        WARNING  Scene with ID LE07_L2SP_173060_20120124_20200909_02_T1 already added to SceneCollection - continue\n",
      "2023-07-14 13:01:42,584 eodal        WARNING  Scene with ID LE07_L2SP_173060_20120209_20200909_02_T1 already added to SceneCollection - continue\n",
      "2023-07-14 13:01:58,340 eodal        WARNING  Scene with ID LE07_L2SP_173060_20120225_20200909_02_T1 already added to SceneCollection - continue\n",
      "2023-07-14 13:02:13,733 eodal        WARNING  Scene with ID LE07_L2SP_173060_20120312_20200909_02_T1 already added to SceneCollection - continue\n",
      "2023-07-14 13:02:29,879 eodal        WARNING  Scene with ID LE07_L2SP_173060_20120328_20200909_02_T1 already added to SceneCollection - continue\n",
      "2023-07-14 13:02:39,368 eodal        WARNING  Scene with ID LE07_L2SP_173060_20120531_20200908_02_T1 already added to SceneCollection - continue\n",
      "2023-07-14 13:02:55,137 eodal        WARNING  Scene with ID LE07_L2SP_173060_20120702_20200908_02_T1 already added to SceneCollection - continue\n",
      "2023-07-14 13:03:29,327 eodal        WARNING  Scene with ID LE07_L2SP_173060_20120819_20200908_02_T1 already added to SceneCollection - continue\n",
      "2023-07-14 13:03:45,063 eodal        WARNING  Scene with ID LE07_L2SP_173060_20120920_20200908_02_T1 already added to SceneCollection - continue\n",
      "2023-07-14 13:04:00,460 eodal        WARNING  Scene with ID LE07_L2SP_173060_20121006_20200908_02_T1 already added to SceneCollection - continue\n",
      "2023-07-14 13:04:16,780 eodal        WARNING  Scene with ID LE07_L2SP_173060_20121022_20200908_02_T1 already added to SceneCollection - continue\n",
      "2023-07-14 13:04:33,056 eodal        WARNING  Scene with ID LE07_L2SP_173060_20121107_20200908_02_T1 already added to SceneCollection - continue\n",
      "2023-07-14 13:04:49,250 eodal        WARNING  Scene with ID LE07_L2SP_173060_20121123_20200908_02_T1 already added to SceneCollection - continue\n",
      "2023-07-14 13:05:05,274 eodal        WARNING  Scene with ID LE07_L2SP_173060_20121209_20200908_02_T1 already added to SceneCollection - continue\n",
      "2023-07-14 13:05:21,241 eodal        WARNING  Scene with ID LE07_L2SP_173060_20121225_20200908_02_T1 already added to SceneCollection - continue\n",
      "2023-07-14 13:05:43,291 eodal        INFO     Finished extraction of landsat scenes\n",
      "c:\\Users\\ftimcke\\AppData\\Local\\anaconda3\\lib\\site-packages\\eodal\\core\\raster.py:1148: RuntimeWarning: divide by zero encountered in double_scalars\n",
      "  * (1 / (band_data.max() - band_data.min()) * 255)\n",
      "2023-07-14 13:06:03,478 eodal        INFO     Starting extraction of landsat scenes\n"
     ]
    },
    {
     "name": "stdout",
     "output_type": "stream",
     "text": [
      "2013 Number of Landsat scenes found: 109\n"
     ]
    },
    {
     "name": "stderr",
     "output_type": "stream",
     "text": [
      "2023-07-14 13:06:13,489 eodal        WARNING  Scene with ID LE07_L2SP_173060_20130110_20200908_02_T1 already added to SceneCollection - continue\n",
      "2023-07-14 13:06:29,429 eodal        WARNING  Scene with ID LE07_L2SP_173060_20130126_20200908_02_T1 already added to SceneCollection - continue\n",
      "2023-07-14 13:06:45,094 eodal        WARNING  Scene with ID LE07_L2SP_173060_20130211_20200908_02_T1 already added to SceneCollection - continue\n",
      "2023-07-14 13:07:02,034 eodal        WARNING  Scene with ID LE07_L2SP_173060_20130227_20200908_02_T1 already added to SceneCollection - continue\n",
      "2023-07-14 13:07:18,130 eodal        WARNING  Scene with ID LE07_L2SP_173060_20130315_20200908_02_T1 already added to SceneCollection - continue\n",
      "c:\\Users\\ftimcke\\AppData\\Local\\anaconda3\\lib\\site-packages\\eodal\\core\\sensors\\landsat.py:221: UserWarning: Band cloud_qa not found - remove it from selection\n",
      "  warnings.warn(\n",
      "c:\\Users\\ftimcke\\AppData\\Local\\anaconda3\\lib\\site-packages\\eodal\\core\\sensors\\landsat.py:221: UserWarning: Band qa_aerosol not found - remove it from selection\n",
      "  warnings.warn(\n",
      "2023-07-14 13:07:34,786 eodal        WARNING  Scene with ID LE07_L2SP_173059_20130331_20200907_02_T2 already added to SceneCollection - continue\n",
      "2023-07-14 13:07:40,812 eodal        WARNING  Scene with ID LE07_L2SP_173060_20130331_20200907_02_T2 already added to SceneCollection - continue\n",
      "2023-07-14 13:07:57,392 eodal        WARNING  Scene with ID LE07_L2SP_173060_20130416_20200907_02_T1 already added to SceneCollection - continue\n",
      "c:\\Users\\ftimcke\\AppData\\Local\\anaconda3\\lib\\site-packages\\eodal\\core\\sensors\\landsat.py:221: UserWarning: Band cloud_qa not found - remove it from selection\n",
      "  warnings.warn(\n",
      "2023-07-14 13:08:15,379 eodal        WARNING  Scene with ID LC08_L2SP_173060_20130424_20200913_02_T1 already added to SceneCollection - continue\n",
      "c:\\Users\\ftimcke\\AppData\\Local\\anaconda3\\lib\\site-packages\\eodal\\core\\sensors\\landsat.py:221: UserWarning: Band qa_aerosol not found - remove it from selection\n",
      "  warnings.warn(\n",
      "c:\\Users\\ftimcke\\AppData\\Local\\anaconda3\\lib\\site-packages\\eodal\\core\\sensors\\landsat.py:221: UserWarning: Band cloud_qa not found - remove it from selection\n",
      "  warnings.warn(\n",
      "c:\\Users\\ftimcke\\AppData\\Local\\anaconda3\\lib\\site-packages\\eodal\\core\\sensors\\landsat.py:221: UserWarning: Band qa_aerosol not found - remove it from selection\n",
      "  warnings.warn(\n",
      "2023-07-14 13:08:46,303 eodal        WARNING  Scene with ID LE07_L2SP_173060_20130518_20200907_02_T1 already added to SceneCollection - continue\n",
      "c:\\Users\\ftimcke\\AppData\\Local\\anaconda3\\lib\\site-packages\\eodal\\core\\sensors\\landsat.py:221: UserWarning: Band cloud_qa not found - remove it from selection\n",
      "  warnings.warn(\n",
      "c:\\Users\\ftimcke\\AppData\\Local\\anaconda3\\lib\\site-packages\\eodal\\core\\sensors\\landsat.py:221: UserWarning: Band qa_aerosol not found - remove it from selection\n",
      "  warnings.warn(\n",
      "2023-07-14 13:09:10,890 eodal        WARNING  Scene with ID LE07_L2SP_173060_20130603_20200907_02_T1 already added to SceneCollection - continue\n",
      "c:\\Users\\ftimcke\\AppData\\Local\\anaconda3\\lib\\site-packages\\eodal\\core\\sensors\\landsat.py:221: UserWarning: Band cloud_qa not found - remove it from selection\n",
      "  warnings.warn(\n",
      "2023-07-14 13:09:31,886 eodal        WARNING  Scene with ID LC08_L2SP_173060_20130611_20200912_02_T1 already added to SceneCollection - continue\n",
      "c:\\Users\\ftimcke\\AppData\\Local\\anaconda3\\lib\\site-packages\\eodal\\core\\sensors\\landsat.py:221: UserWarning: Band qa_aerosol not found - remove it from selection\n",
      "  warnings.warn(\n",
      "2023-07-14 13:09:48,424 eodal        WARNING  Scene with ID LE07_L2SP_173060_20130619_20200907_02_T1 already added to SceneCollection - continue\n",
      "c:\\Users\\ftimcke\\AppData\\Local\\anaconda3\\lib\\site-packages\\eodal\\core\\sensors\\landsat.py:221: UserWarning: Band cloud_qa not found - remove it from selection\n",
      "  warnings.warn(\n",
      "2023-07-14 13:10:08,540 eodal        WARNING  Scene with ID LC08_L2SP_173060_20130627_20200912_02_T1 already added to SceneCollection - continue\n",
      "c:\\Users\\ftimcke\\AppData\\Local\\anaconda3\\lib\\site-packages\\eodal\\core\\sensors\\landsat.py:221: UserWarning: Band qa_aerosol not found - remove it from selection\n",
      "  warnings.warn(\n",
      "2023-07-14 13:10:25,060 eodal        WARNING  Scene with ID LE07_L2SP_173060_20130705_20200907_02_T1 already added to SceneCollection - continue\n",
      "c:\\Users\\ftimcke\\AppData\\Local\\anaconda3\\lib\\site-packages\\eodal\\core\\sensors\\landsat.py:221: UserWarning: Band cloud_qa not found - remove it from selection\n",
      "  warnings.warn(\n",
      "2023-07-14 13:10:43,402 eodal        WARNING  Scene with ID LC08_L2SP_173060_20130713_20200912_02_T1 already added to SceneCollection - continue\n",
      "c:\\Users\\ftimcke\\AppData\\Local\\anaconda3\\lib\\site-packages\\eodal\\core\\sensors\\landsat.py:221: UserWarning: Band qa_aerosol not found - remove it from selection\n",
      "  warnings.warn(\n",
      "2023-07-14 13:10:53,011 eodal        WARNING  Scene with ID LE07_L2SP_173060_20130721_20200907_02_T1 already added to SceneCollection - continue\n",
      "c:\\Users\\ftimcke\\AppData\\Local\\anaconda3\\lib\\site-packages\\eodal\\core\\sensors\\landsat.py:221: UserWarning: Band cloud_qa not found - remove it from selection\n",
      "  warnings.warn(\n",
      "2023-07-14 13:11:09,603 eodal        WARNING  Scene with ID LC08_L2SP_173060_20130729_20200912_02_T1 already added to SceneCollection - continue\n",
      "c:\\Users\\ftimcke\\AppData\\Local\\anaconda3\\lib\\site-packages\\eodal\\core\\sensors\\landsat.py:221: UserWarning: Band qa_aerosol not found - remove it from selection\n",
      "  warnings.warn(\n",
      "c:\\Users\\ftimcke\\AppData\\Local\\anaconda3\\lib\\site-packages\\eodal\\core\\sensors\\landsat.py:221: UserWarning: Band cloud_qa not found - remove it from selection\n",
      "  warnings.warn(\n",
      "2023-07-14 13:11:33,044 eodal        WARNING  Scene with ID LC08_L2SP_173060_20130814_20200912_02_T1 already added to SceneCollection - continue\n",
      "c:\\Users\\ftimcke\\AppData\\Local\\anaconda3\\lib\\site-packages\\eodal\\core\\sensors\\landsat.py:221: UserWarning: Band qa_aerosol not found - remove it from selection\n",
      "  warnings.warn(\n",
      "2023-07-14 13:12:04,294 eodal        WARNING  Scene with ID LE07_L2SP_173060_20130822_20200907_02_T2 already added to SceneCollection - continue\n",
      "c:\\Users\\ftimcke\\AppData\\Local\\anaconda3\\lib\\site-packages\\eodal\\core\\sensors\\landsat.py:221: UserWarning: Band cloud_qa not found - remove it from selection\n",
      "  warnings.warn(\n",
      "2023-07-14 13:12:21,308 eodal        WARNING  Scene with ID LC08_L2SP_173060_20130830_20200912_02_T1 already added to SceneCollection - continue\n",
      "c:\\Users\\ftimcke\\AppData\\Local\\anaconda3\\lib\\site-packages\\eodal\\core\\sensors\\landsat.py:221: UserWarning: Band qa_aerosol not found - remove it from selection\n",
      "  warnings.warn(\n",
      "2023-07-14 13:12:36,963 eodal        WARNING  Scene with ID LE07_L2SP_173060_20130907_20200907_02_T1 already added to SceneCollection - continue\n",
      "c:\\Users\\ftimcke\\AppData\\Local\\anaconda3\\lib\\site-packages\\eodal\\core\\sensors\\landsat.py:221: UserWarning: Band cloud_qa not found - remove it from selection\n",
      "  warnings.warn(\n",
      "2023-07-14 13:12:54,475 eodal        WARNING  Scene with ID LC08_L2SP_173060_20130915_20200913_02_T1 already added to SceneCollection - continue\n",
      "c:\\Users\\ftimcke\\AppData\\Local\\anaconda3\\lib\\site-packages\\eodal\\core\\sensors\\landsat.py:221: UserWarning: Band qa_aerosol not found - remove it from selection\n",
      "  warnings.warn(\n",
      "2023-07-14 13:13:10,345 eodal        WARNING  Scene with ID LE07_L2SP_173060_20130923_20200907_02_T1 already added to SceneCollection - continue\n",
      "c:\\Users\\ftimcke\\AppData\\Local\\anaconda3\\lib\\site-packages\\eodal\\core\\sensors\\landsat.py:221: UserWarning: Band cloud_qa not found - remove it from selection\n",
      "  warnings.warn(\n",
      "2023-07-14 13:13:27,275 eodal        WARNING  Scene with ID LC08_L2SP_173060_20131001_20200913_02_T1 already added to SceneCollection - continue\n",
      "c:\\Users\\ftimcke\\AppData\\Local\\anaconda3\\lib\\site-packages\\eodal\\core\\sensors\\landsat.py:221: UserWarning: Band qa_aerosol not found - remove it from selection\n",
      "  warnings.warn(\n",
      "2023-07-14 13:13:42,979 eodal        WARNING  Scene with ID LE07_L2SP_173060_20131009_20200907_02_T1 already added to SceneCollection - continue\n",
      "c:\\Users\\ftimcke\\AppData\\Local\\anaconda3\\lib\\site-packages\\eodal\\core\\sensors\\landsat.py:221: UserWarning: Band cloud_qa not found - remove it from selection\n",
      "  warnings.warn(\n",
      "2023-07-14 13:13:59,886 eodal        WARNING  Scene with ID LC08_L2SP_173060_20131017_20200912_02_T1 already added to SceneCollection - continue\n",
      "c:\\Users\\ftimcke\\AppData\\Local\\anaconda3\\lib\\site-packages\\eodal\\core\\sensors\\landsat.py:221: UserWarning: Band qa_aerosol not found - remove it from selection\n",
      "  warnings.warn(\n",
      "2023-07-14 13:14:16,157 eodal        WARNING  Scene with ID LE07_L2SP_173060_20131025_20200907_02_T1 already added to SceneCollection - continue\n",
      "c:\\Users\\ftimcke\\AppData\\Local\\anaconda3\\lib\\site-packages\\eodal\\core\\sensors\\landsat.py:221: UserWarning: Band cloud_qa not found - remove it from selection\n",
      "  warnings.warn(\n",
      "2023-07-14 13:14:33,445 eodal        WARNING  Scene with ID LC08_L2SP_173060_20131102_20200912_02_T1 already added to SceneCollection - continue\n",
      "c:\\Users\\ftimcke\\AppData\\Local\\anaconda3\\lib\\site-packages\\eodal\\core\\sensors\\landsat.py:221: UserWarning: Band qa_aerosol not found - remove it from selection\n",
      "  warnings.warn(\n",
      "2023-07-14 13:14:49,708 eodal        WARNING  Scene with ID LE07_L2SP_173060_20131110_20200907_02_T2 already added to SceneCollection - continue\n",
      "c:\\Users\\ftimcke\\AppData\\Local\\anaconda3\\lib\\site-packages\\eodal\\core\\sensors\\landsat.py:221: UserWarning: Band cloud_qa not found - remove it from selection\n",
      "  warnings.warn(\n",
      "2023-07-14 13:15:06,939 eodal        WARNING  Scene with ID LC08_L2SP_173060_20131118_20200912_02_T1 already added to SceneCollection - continue\n",
      "c:\\Users\\ftimcke\\AppData\\Local\\anaconda3\\lib\\site-packages\\eodal\\core\\sensors\\landsat.py:221: UserWarning: Band qa_aerosol not found - remove it from selection\n",
      "  warnings.warn(\n",
      "2023-07-14 13:15:22,847 eodal        WARNING  Scene with ID LE07_L2SP_173060_20131126_20200907_02_T1 already added to SceneCollection - continue\n",
      "c:\\Users\\ftimcke\\AppData\\Local\\anaconda3\\lib\\site-packages\\eodal\\core\\sensors\\landsat.py:221: UserWarning: Band cloud_qa not found - remove it from selection\n",
      "  warnings.warn(\n",
      "2023-07-14 13:15:40,398 eodal        WARNING  Scene with ID LC08_L2SP_173060_20131204_20200912_02_T1 already added to SceneCollection - continue\n",
      "c:\\Users\\ftimcke\\AppData\\Local\\anaconda3\\lib\\site-packages\\eodal\\core\\sensors\\landsat.py:221: UserWarning: Band qa_aerosol not found - remove it from selection\n",
      "  warnings.warn(\n",
      "2023-07-14 13:15:56,106 eodal        WARNING  Scene with ID LE07_L2SP_173060_20131212_20200906_02_T2 already added to SceneCollection - continue\n",
      "c:\\Users\\ftimcke\\AppData\\Local\\anaconda3\\lib\\site-packages\\eodal\\core\\sensors\\landsat.py:221: UserWarning: Band cloud_qa not found - remove it from selection\n",
      "  warnings.warn(\n",
      "2023-07-14 13:16:13,188 eodal        WARNING  Scene with ID LC08_L2SP_173060_20131220_20200912_02_T1 already added to SceneCollection - continue\n",
      "c:\\Users\\ftimcke\\AppData\\Local\\anaconda3\\lib\\site-packages\\eodal\\core\\sensors\\landsat.py:221: UserWarning: Band qa_aerosol not found - remove it from selection\n",
      "  warnings.warn(\n",
      "2023-07-14 13:16:28,889 eodal        WARNING  Scene with ID LE07_L2SP_173060_20131228_20200906_02_T1 already added to SceneCollection - continue\n",
      "c:\\Users\\ftimcke\\AppData\\Local\\anaconda3\\lib\\site-packages\\eodal\\core\\sensors\\landsat.py:221: UserWarning: Band cloud_qa not found - remove it from selection\n",
      "  warnings.warn(\n",
      "2023-07-14 13:17:26,607 eodal        INFO     Finished extraction of landsat scenes\n",
      "c:\\Users\\ftimcke\\AppData\\Local\\anaconda3\\lib\\site-packages\\eodal\\core\\scene.py:634: UserWarning: Tight layout not applied. tight_layout cannot make axes height small enough to accommodate all axes decorations.\n",
      "  f.tight_layout()\n",
      "2023-07-14 13:18:11,683 eodal        INFO     Starting extraction of landsat scenes\n"
     ]
    },
    {
     "name": "stdout",
     "output_type": "stream",
     "text": [
      "2014 Number of Landsat scenes found: 133\n"
     ]
    },
    {
     "name": "stderr",
     "output_type": "stream",
     "text": [
      "2023-07-14 13:18:22,664 eodal        WARNING  Scene with ID LC08_L2SP_173060_20140105_20200912_02_T1 already added to SceneCollection - continue\n",
      "c:\\Users\\ftimcke\\AppData\\Local\\anaconda3\\lib\\site-packages\\eodal\\core\\sensors\\landsat.py:221: UserWarning: Band qa_aerosol not found - remove it from selection\n",
      "  warnings.warn(\n",
      "2023-07-14 13:18:38,339 eodal        WARNING  Scene with ID LE07_L2SP_173060_20140113_20200907_02_T1 already added to SceneCollection - continue\n",
      "c:\\Users\\ftimcke\\AppData\\Local\\anaconda3\\lib\\site-packages\\eodal\\core\\sensors\\landsat.py:221: UserWarning: Band cloud_qa not found - remove it from selection\n",
      "  warnings.warn(\n",
      "2023-07-14 13:18:55,207 eodal        WARNING  Scene with ID LC08_L2SP_173060_20140121_20200912_02_T1 already added to SceneCollection - continue\n",
      "c:\\Users\\ftimcke\\AppData\\Local\\anaconda3\\lib\\site-packages\\eodal\\core\\sensors\\landsat.py:221: UserWarning: Band qa_aerosol not found - remove it from selection\n",
      "  warnings.warn(\n",
      "2023-07-14 13:19:11,208 eodal        WARNING  Scene with ID LE07_L2SP_173060_20140129_20200907_02_T1 already added to SceneCollection - continue\n",
      "c:\\Users\\ftimcke\\AppData\\Local\\anaconda3\\lib\\site-packages\\eodal\\core\\sensors\\landsat.py:221: UserWarning: Band cloud_qa not found - remove it from selection\n",
      "  warnings.warn(\n",
      "2023-07-14 13:19:28,757 eodal        WARNING  Scene with ID LC08_L2SP_173060_20140206_20200912_02_T1 already added to SceneCollection - continue\n",
      "c:\\Users\\ftimcke\\AppData\\Local\\anaconda3\\lib\\site-packages\\eodal\\core\\sensors\\landsat.py:221: UserWarning: Band qa_aerosol not found - remove it from selection\n",
      "  warnings.warn(\n",
      "2023-07-14 13:19:44,817 eodal        WARNING  Scene with ID LE07_L2SP_173060_20140214_20200906_02_T1 already added to SceneCollection - continue\n",
      "c:\\Users\\ftimcke\\AppData\\Local\\anaconda3\\lib\\site-packages\\eodal\\core\\sensors\\landsat.py:221: UserWarning: Band cloud_qa not found - remove it from selection\n",
      "  warnings.warn(\n",
      "2023-07-14 13:20:02,308 eodal        WARNING  Scene with ID LC08_L2SP_173060_20140222_20200911_02_T1 already added to SceneCollection - continue\n",
      "c:\\Users\\ftimcke\\AppData\\Local\\anaconda3\\lib\\site-packages\\eodal\\core\\sensors\\landsat.py:221: UserWarning: Band qa_aerosol not found - remove it from selection\n",
      "  warnings.warn(\n",
      "2023-07-14 13:20:17,049 eodal        WARNING  Scene with ID LE07_L2SP_173060_20140302_20200906_02_T1 already added to SceneCollection - continue\n",
      "c:\\Users\\ftimcke\\AppData\\Local\\anaconda3\\lib\\site-packages\\eodal\\core\\sensors\\landsat.py:221: UserWarning: Band cloud_qa not found - remove it from selection\n",
      "  warnings.warn(\n",
      "2023-07-14 13:20:34,091 eodal        WARNING  Scene with ID LC08_L2SP_173060_20140310_20200911_02_T1 already added to SceneCollection - continue\n",
      "c:\\Users\\ftimcke\\AppData\\Local\\anaconda3\\lib\\site-packages\\eodal\\core\\sensors\\landsat.py:221: UserWarning: Band qa_aerosol not found - remove it from selection\n",
      "  warnings.warn(\n",
      "2023-07-14 13:20:49,366 eodal        WARNING  Scene with ID LE07_L2SP_173060_20140318_20200906_02_T1 already added to SceneCollection - continue\n",
      "c:\\Users\\ftimcke\\AppData\\Local\\anaconda3\\lib\\site-packages\\eodal\\core\\sensors\\landsat.py:221: UserWarning: Band cloud_qa not found - remove it from selection\n",
      "  warnings.warn(\n",
      "2023-07-14 13:21:06,675 eodal        WARNING  Scene with ID LC08_L2SP_173060_20140326_20200911_02_T1 already added to SceneCollection - continue\n",
      "c:\\Users\\ftimcke\\AppData\\Local\\anaconda3\\lib\\site-packages\\eodal\\core\\sensors\\landsat.py:221: UserWarning: Band qa_aerosol not found - remove it from selection\n",
      "  warnings.warn(\n",
      "2023-07-14 13:21:23,639 eodal        WARNING  Scene with ID LE07_L2SP_173060_20140403_20200906_02_T1 already added to SceneCollection - continue\n",
      "c:\\Users\\ftimcke\\AppData\\Local\\anaconda3\\lib\\site-packages\\eodal\\core\\sensors\\landsat.py:221: UserWarning: Band cloud_qa not found - remove it from selection\n",
      "  warnings.warn(\n",
      "2023-07-14 13:21:40,908 eodal        WARNING  Scene with ID LC08_L2SP_173060_20140411_20200911_02_T1 already added to SceneCollection - continue\n",
      "c:\\Users\\ftimcke\\AppData\\Local\\anaconda3\\lib\\site-packages\\eodal\\core\\sensors\\landsat.py:221: UserWarning: Band qa_aerosol not found - remove it from selection\n",
      "  warnings.warn(\n",
      "2023-07-14 13:21:57,219 eodal        WARNING  Scene with ID LE07_L2SP_173060_20140419_20200906_02_T1 already added to SceneCollection - continue\n",
      "c:\\Users\\ftimcke\\AppData\\Local\\anaconda3\\lib\\site-packages\\eodal\\core\\sensors\\landsat.py:221: UserWarning: Band cloud_qa not found - remove it from selection\n",
      "  warnings.warn(\n",
      "2023-07-14 13:22:14,695 eodal        WARNING  Scene with ID LC08_L2SP_173060_20140427_20200911_02_T1 already added to SceneCollection - continue\n",
      "c:\\Users\\ftimcke\\AppData\\Local\\anaconda3\\lib\\site-packages\\eodal\\core\\sensors\\landsat.py:221: UserWarning: Band qa_aerosol not found - remove it from selection\n",
      "  warnings.warn(\n",
      "2023-07-14 13:22:32,605 eodal        WARNING  Scene with ID LE07_L2SP_173060_20140505_20200906_02_T1 already added to SceneCollection - continue\n",
      "c:\\Users\\ftimcke\\AppData\\Local\\anaconda3\\lib\\site-packages\\eodal\\core\\sensors\\landsat.py:221: UserWarning: Band cloud_qa not found - remove it from selection\n",
      "  warnings.warn(\n",
      "2023-07-14 13:22:50,277 eodal        WARNING  Scene with ID LC08_L2SP_173060_20140513_20200911_02_T2 already added to SceneCollection - continue\n",
      "c:\\Users\\ftimcke\\AppData\\Local\\anaconda3\\lib\\site-packages\\eodal\\core\\sensors\\landsat.py:221: UserWarning: Band qa_aerosol not found - remove it from selection\n",
      "  warnings.warn(\n",
      "c:\\Users\\ftimcke\\AppData\\Local\\anaconda3\\lib\\site-packages\\eodal\\core\\sensors\\landsat.py:221: UserWarning: Band cloud_qa not found - remove it from selection\n",
      "  warnings.warn(\n",
      "2023-07-14 13:23:20,637 eodal        WARNING  Scene with ID LC08_L2SP_173060_20140529_20200911_02_T1 already added to SceneCollection - continue\n",
      "c:\\Users\\ftimcke\\AppData\\Local\\anaconda3\\lib\\site-packages\\eodal\\core\\sensors\\landsat.py:221: UserWarning: Band qa_aerosol not found - remove it from selection\n",
      "  warnings.warn(\n",
      "2023-07-14 13:23:37,043 eodal        WARNING  Scene with ID LE07_L2SP_173060_20140606_20200906_02_T1 already added to SceneCollection - continue\n",
      "c:\\Users\\ftimcke\\AppData\\Local\\anaconda3\\lib\\site-packages\\eodal\\core\\sensors\\landsat.py:221: UserWarning: Band cloud_qa not found - remove it from selection\n",
      "  warnings.warn(\n",
      "2023-07-14 13:23:58,819 eodal        WARNING  Scene with ID LC08_L2SP_173060_20140614_20200911_02_T2 already added to SceneCollection - continue\n",
      "c:\\Users\\ftimcke\\AppData\\Local\\anaconda3\\lib\\site-packages\\eodal\\core\\sensors\\landsat.py:221: UserWarning: Band qa_aerosol not found - remove it from selection\n",
      "  warnings.warn(\n",
      "2023-07-14 13:24:25,540 eodal        WARNING  Scene with ID LE07_L2SP_173060_20140622_20200906_02_T1 already added to SceneCollection - continue\n",
      "c:\\Users\\ftimcke\\AppData\\Local\\anaconda3\\lib\\site-packages\\eodal\\core\\sensors\\landsat.py:221: UserWarning: Band cloud_qa not found - remove it from selection\n",
      "  warnings.warn(\n",
      "2023-07-14 13:24:55,859 eodal        WARNING  Scene with ID LC08_L2SP_173060_20140630_20200911_02_T1 already added to SceneCollection - continue\n",
      "c:\\Users\\ftimcke\\AppData\\Local\\anaconda3\\lib\\site-packages\\eodal\\core\\sensors\\landsat.py:221: UserWarning: Band qa_aerosol not found - remove it from selection\n",
      "  warnings.warn(\n",
      "2023-07-14 13:25:11,756 eodal        WARNING  Scene with ID LE07_L2SP_173060_20140708_20200906_02_T1 already added to SceneCollection - continue\n",
      "c:\\Users\\ftimcke\\AppData\\Local\\anaconda3\\lib\\site-packages\\eodal\\core\\sensors\\landsat.py:221: UserWarning: Band cloud_qa not found - remove it from selection\n",
      "  warnings.warn(\n",
      "2023-07-14 13:25:29,510 eodal        WARNING  Scene with ID LC08_L2SP_173060_20140716_20200911_02_T1 already added to SceneCollection - continue\n",
      "c:\\Users\\ftimcke\\AppData\\Local\\anaconda3\\lib\\site-packages\\eodal\\core\\sensors\\landsat.py:221: UserWarning: Band qa_aerosol not found - remove it from selection\n",
      "  warnings.warn(\n",
      "2023-07-14 13:25:45,873 eodal        WARNING  Scene with ID LE07_L2SP_173060_20140724_20200906_02_T2 already added to SceneCollection - continue\n",
      "c:\\Users\\ftimcke\\AppData\\Local\\anaconda3\\lib\\site-packages\\eodal\\core\\sensors\\landsat.py:221: UserWarning: Band cloud_qa not found - remove it from selection\n",
      "  warnings.warn(\n",
      "2023-07-14 13:26:03,989 eodal        WARNING  Scene with ID LC08_L2SP_173060_20140801_20200911_02_T1 already added to SceneCollection - continue\n",
      "c:\\Users\\ftimcke\\AppData\\Local\\anaconda3\\lib\\site-packages\\eodal\\core\\sensors\\landsat.py:221: UserWarning: Band qa_aerosol not found - remove it from selection\n",
      "  warnings.warn(\n",
      "2023-07-14 13:26:20,782 eodal        WARNING  Scene with ID LE07_L2SP_173060_20140809_20200906_02_T1 already added to SceneCollection - continue\n",
      "c:\\Users\\ftimcke\\AppData\\Local\\anaconda3\\lib\\site-packages\\eodal\\core\\sensors\\landsat.py:221: UserWarning: Band cloud_qa not found - remove it from selection\n",
      "  warnings.warn(\n",
      "2023-07-14 13:26:39,532 eodal        WARNING  Scene with ID LC08_L2SP_173060_20140817_20200911_02_T1 already added to SceneCollection - continue\n",
      "c:\\Users\\ftimcke\\AppData\\Local\\anaconda3\\lib\\site-packages\\eodal\\core\\sensors\\landsat.py:221: UserWarning: Band qa_aerosol not found - remove it from selection\n",
      "  warnings.warn(\n",
      "2023-07-14 13:26:56,458 eodal        WARNING  Scene with ID LE07_L2SP_173060_20140825_20200906_02_T1 already added to SceneCollection - continue\n",
      "c:\\Users\\ftimcke\\AppData\\Local\\anaconda3\\lib\\site-packages\\eodal\\core\\sensors\\landsat.py:221: UserWarning: Band cloud_qa not found - remove it from selection\n",
      "  warnings.warn(\n",
      "2023-07-14 13:27:14,117 eodal        WARNING  Scene with ID LC08_L2SP_173060_20140902_20200911_02_T1 already added to SceneCollection - continue\n",
      "c:\\Users\\ftimcke\\AppData\\Local\\anaconda3\\lib\\site-packages\\eodal\\core\\sensors\\landsat.py:221: UserWarning: Band qa_aerosol not found - remove it from selection\n",
      "  warnings.warn(\n",
      "c:\\Users\\ftimcke\\AppData\\Local\\anaconda3\\lib\\site-packages\\eodal\\core\\sensors\\landsat.py:221: UserWarning: Band cloud_qa not found - remove it from selection\n",
      "  warnings.warn(\n",
      "2023-07-14 13:27:38,384 eodal        WARNING  Scene with ID LC08_L2SP_173060_20140918_20200910_02_T1 already added to SceneCollection - continue\n",
      "c:\\Users\\ftimcke\\AppData\\Local\\anaconda3\\lib\\site-packages\\eodal\\core\\sensors\\landsat.py:221: UserWarning: Band qa_aerosol not found - remove it from selection\n",
      "  warnings.warn(\n",
      "2023-07-14 13:27:55,719 eodal        WARNING  Scene with ID LE07_L2SP_173060_20140926_20200905_02_T1 already added to SceneCollection - continue\n",
      "c:\\Users\\ftimcke\\AppData\\Local\\anaconda3\\lib\\site-packages\\eodal\\core\\sensors\\landsat.py:221: UserWarning: Band cloud_qa not found - remove it from selection\n",
      "  warnings.warn(\n",
      "2023-07-14 13:28:14,342 eodal        WARNING  Scene with ID LC08_L2SP_173060_20141004_20200911_02_T1 already added to SceneCollection - continue\n",
      "c:\\Users\\ftimcke\\AppData\\Local\\anaconda3\\lib\\site-packages\\eodal\\core\\sensors\\landsat.py:221: UserWarning: Band qa_aerosol not found - remove it from selection\n",
      "  warnings.warn(\n",
      "2023-07-14 13:28:31,915 eodal        WARNING  Scene with ID LE07_L2SP_173060_20141012_20200905_02_T1 already added to SceneCollection - continue\n",
      "c:\\Users\\ftimcke\\AppData\\Local\\anaconda3\\lib\\site-packages\\eodal\\core\\sensors\\landsat.py:221: UserWarning: Band cloud_qa not found - remove it from selection\n",
      "  warnings.warn(\n",
      "2023-07-14 13:28:49,997 eodal        WARNING  Scene with ID LC08_L2SP_173060_20141020_20200910_02_T2 already added to SceneCollection - continue\n",
      "c:\\Users\\ftimcke\\AppData\\Local\\anaconda3\\lib\\site-packages\\eodal\\core\\sensors\\landsat.py:221: UserWarning: Band qa_aerosol not found - remove it from selection\n",
      "  warnings.warn(\n",
      "2023-07-14 13:29:07,053 eodal        WARNING  Scene with ID LE07_L2SP_173060_20141028_20200905_02_T1 already added to SceneCollection - continue\n",
      "c:\\Users\\ftimcke\\AppData\\Local\\anaconda3\\lib\\site-packages\\eodal\\core\\sensors\\landsat.py:221: UserWarning: Band cloud_qa not found - remove it from selection\n",
      "  warnings.warn(\n",
      "2023-07-14 13:29:25,622 eodal        WARNING  Scene with ID LC08_L2SP_173060_20141105_20200910_02_T1 already added to SceneCollection - continue\n",
      "c:\\Users\\ftimcke\\AppData\\Local\\anaconda3\\lib\\site-packages\\eodal\\core\\sensors\\landsat.py:221: UserWarning: Band qa_aerosol not found - remove it from selection\n",
      "  warnings.warn(\n",
      "2023-07-14 13:29:42,136 eodal        WARNING  Scene with ID LE07_L2SP_173060_20141113_20200905_02_T1 already added to SceneCollection - continue\n",
      "c:\\Users\\ftimcke\\AppData\\Local\\anaconda3\\lib\\site-packages\\eodal\\core\\sensors\\landsat.py:221: UserWarning: Band cloud_qa not found - remove it from selection\n",
      "  warnings.warn(\n",
      "2023-07-14 13:30:03,359 eodal        WARNING  Scene with ID LC08_L2SP_173060_20141121_20200910_02_T1 already added to SceneCollection - continue\n",
      "c:\\Users\\ftimcke\\AppData\\Local\\anaconda3\\lib\\site-packages\\eodal\\core\\sensors\\landsat.py:221: UserWarning: Band qa_aerosol not found - remove it from selection\n",
      "  warnings.warn(\n",
      "2023-07-14 13:30:21,348 eodal        WARNING  Scene with ID LE07_L2SP_173060_20141129_20200905_02_T1 already added to SceneCollection - continue\n",
      "c:\\Users\\ftimcke\\AppData\\Local\\anaconda3\\lib\\site-packages\\eodal\\core\\sensors\\landsat.py:221: UserWarning: Band cloud_qa not found - remove it from selection\n",
      "  warnings.warn(\n",
      "2023-07-14 13:30:41,398 eodal        WARNING  Scene with ID LC08_L2SP_173060_20141207_20200910_02_T1 already added to SceneCollection - continue\n",
      "c:\\Users\\ftimcke\\AppData\\Local\\anaconda3\\lib\\site-packages\\eodal\\core\\sensors\\landsat.py:221: UserWarning: Band qa_aerosol not found - remove it from selection\n",
      "  warnings.warn(\n",
      "2023-07-14 13:30:58,326 eodal        WARNING  Scene with ID LE07_L2SP_173060_20141215_20200905_02_T1 already added to SceneCollection - continue\n",
      "c:\\Users\\ftimcke\\AppData\\Local\\anaconda3\\lib\\site-packages\\eodal\\core\\sensors\\landsat.py:221: UserWarning: Band cloud_qa not found - remove it from selection\n",
      "  warnings.warn(\n",
      "2023-07-14 13:31:18,763 eodal        WARNING  Scene with ID LC08_L2SP_173060_20141223_20200910_02_T2 already added to SceneCollection - continue\n",
      "c:\\Users\\ftimcke\\AppData\\Local\\anaconda3\\lib\\site-packages\\eodal\\core\\sensors\\landsat.py:221: UserWarning: Band qa_aerosol not found - remove it from selection\n",
      "  warnings.warn(\n",
      "2023-07-14 13:31:35,467 eodal        WARNING  Scene with ID LE07_L2SP_173060_20141231_20200905_02_T1 already added to SceneCollection - continue\n",
      "2023-07-14 13:33:00,582 eodal        INFO     Finished extraction of landsat scenes\n",
      "c:\\Users\\ftimcke\\AppData\\Local\\anaconda3\\lib\\site-packages\\eodal\\core\\scene.py:634: UserWarning: Tight layout not applied. tight_layout cannot make axes height small enough to accommodate all axes decorations.\n",
      "  f.tight_layout()\n",
      "2023-07-14 13:33:56,901 eodal        INFO     Starting extraction of landsat scenes\n"
     ]
    },
    {
     "name": "stdout",
     "output_type": "stream",
     "text": [
      "2015 Number of Landsat scenes found: 134\n"
     ]
    },
    {
     "name": "stderr",
     "output_type": "stream",
     "text": [
      "2023-07-14 13:34:14,222 eodal        WARNING  Scene with ID LC08_L2SP_173060_20150108_20200910_02_T1 already added to SceneCollection - continue\n",
      "c:\\Users\\ftimcke\\AppData\\Local\\anaconda3\\lib\\site-packages\\eodal\\core\\sensors\\landsat.py:221: UserWarning: Band qa_aerosol not found - remove it from selection\n",
      "  warnings.warn(\n",
      "2023-07-14 13:34:29,938 eodal        WARNING  Scene with ID LE07_L2SP_173060_20150116_20200905_02_T1 already added to SceneCollection - continue\n",
      "c:\\Users\\ftimcke\\AppData\\Local\\anaconda3\\lib\\site-packages\\eodal\\core\\sensors\\landsat.py:221: UserWarning: Band cloud_qa not found - remove it from selection\n",
      "  warnings.warn(\n",
      "2023-07-14 13:34:46,848 eodal        WARNING  Scene with ID LC08_L2SP_173060_20150124_20200910_02_T1 already added to SceneCollection - continue\n",
      "c:\\Users\\ftimcke\\AppData\\Local\\anaconda3\\lib\\site-packages\\eodal\\core\\sensors\\landsat.py:221: UserWarning: Band qa_aerosol not found - remove it from selection\n",
      "  warnings.warn(\n",
      "c:\\Users\\ftimcke\\AppData\\Local\\anaconda3\\lib\\site-packages\\eodal\\core\\sensors\\landsat.py:221: UserWarning: Band cloud_qa not found - remove it from selection\n",
      "  warnings.warn(\n",
      "2023-07-14 13:35:14,410 eodal        WARNING  Scene with ID LC08_L2SP_173060_20150209_20200909_02_T1 already added to SceneCollection - continue\n",
      "c:\\Users\\ftimcke\\AppData\\Local\\anaconda3\\lib\\site-packages\\eodal\\core\\sensors\\landsat.py:221: UserWarning: Band qa_aerosol not found - remove it from selection\n",
      "  warnings.warn(\n",
      "2023-07-14 13:35:30,801 eodal        WARNING  Scene with ID LE07_L2SP_173060_20150217_20200905_02_T1 already added to SceneCollection - continue\n",
      "c:\\Users\\ftimcke\\AppData\\Local\\anaconda3\\lib\\site-packages\\eodal\\core\\sensors\\landsat.py:221: UserWarning: Band cloud_qa not found - remove it from selection\n",
      "  warnings.warn(\n",
      "2023-07-14 13:35:50,449 eodal        WARNING  Scene with ID LC08_L2SP_173060_20150225_20200909_02_T1 already added to SceneCollection - continue\n",
      "c:\\Users\\ftimcke\\AppData\\Local\\anaconda3\\lib\\site-packages\\eodal\\core\\sensors\\landsat.py:221: UserWarning: Band qa_aerosol not found - remove it from selection\n",
      "  warnings.warn(\n",
      "2023-07-14 13:36:06,688 eodal        WARNING  Scene with ID LE07_L2SP_173060_20150305_20200905_02_T1 already added to SceneCollection - continue\n",
      "c:\\Users\\ftimcke\\AppData\\Local\\anaconda3\\lib\\site-packages\\eodal\\core\\sensors\\landsat.py:221: UserWarning: Band cloud_qa not found - remove it from selection\n",
      "  warnings.warn(\n",
      "2023-07-14 13:36:24,135 eodal        WARNING  Scene with ID LC08_L2SP_173060_20150313_20200909_02_T1 already added to SceneCollection - continue\n",
      "c:\\Users\\ftimcke\\AppData\\Local\\anaconda3\\lib\\site-packages\\eodal\\core\\sensors\\landsat.py:221: UserWarning: Band qa_aerosol not found - remove it from selection\n",
      "  warnings.warn(\n",
      "2023-07-14 13:36:41,341 eodal        WARNING  Scene with ID LE07_L2SP_173060_20150321_20200905_02_T1 already added to SceneCollection - continue\n",
      "c:\\Users\\ftimcke\\AppData\\Local\\anaconda3\\lib\\site-packages\\eodal\\core\\sensors\\landsat.py:221: UserWarning: Band cloud_qa not found - remove it from selection\n",
      "  warnings.warn(\n",
      "2023-07-14 13:36:58,618 eodal        WARNING  Scene with ID LC08_L2SP_173060_20150329_20200909_02_T2 already added to SceneCollection - continue\n",
      "c:\\Users\\ftimcke\\AppData\\Local\\anaconda3\\lib\\site-packages\\eodal\\core\\sensors\\landsat.py:221: UserWarning: Band qa_aerosol not found - remove it from selection\n",
      "  warnings.warn(\n",
      "2023-07-14 13:37:14,029 eodal        WARNING  Scene with ID LE07_L2SP_173060_20150406_20200904_02_T2 already added to SceneCollection - continue\n",
      "c:\\Users\\ftimcke\\AppData\\Local\\anaconda3\\lib\\site-packages\\eodal\\core\\sensors\\landsat.py:221: UserWarning: Band cloud_qa not found - remove it from selection\n",
      "  warnings.warn(\n",
      "2023-07-14 13:37:31,972 eodal        WARNING  Scene with ID LC08_L2SP_173060_20150414_20200909_02_T1 already added to SceneCollection - continue\n",
      "c:\\Users\\ftimcke\\AppData\\Local\\anaconda3\\lib\\site-packages\\eodal\\core\\sensors\\landsat.py:221: UserWarning: Band qa_aerosol not found - remove it from selection\n",
      "  warnings.warn(\n",
      "2023-07-14 13:37:48,682 eodal        WARNING  Scene with ID LE07_L2SP_173060_20150422_20200905_02_T1 already added to SceneCollection - continue\n",
      "c:\\Users\\ftimcke\\AppData\\Local\\anaconda3\\lib\\site-packages\\eodal\\core\\sensors\\landsat.py:221: UserWarning: Band cloud_qa not found - remove it from selection\n",
      "  warnings.warn(\n",
      "2023-07-14 13:38:06,978 eodal        WARNING  Scene with ID LC08_L2SP_173060_20150430_20200909_02_T1 already added to SceneCollection - continue\n",
      "c:\\Users\\ftimcke\\AppData\\Local\\anaconda3\\lib\\site-packages\\eodal\\core\\sensors\\landsat.py:221: UserWarning: Band qa_aerosol not found - remove it from selection\n",
      "  warnings.warn(\n",
      "2023-07-14 13:38:24,378 eodal        WARNING  Scene with ID LE07_L2SP_173060_20150508_20200905_02_T1 already added to SceneCollection - continue\n",
      "c:\\Users\\ftimcke\\AppData\\Local\\anaconda3\\lib\\site-packages\\eodal\\core\\sensors\\landsat.py:221: UserWarning: Band cloud_qa not found - remove it from selection\n",
      "  warnings.warn(\n",
      "2023-07-14 13:38:44,102 eodal        WARNING  Scene with ID LC08_L2SP_173060_20150516_20200909_02_T1 already added to SceneCollection - continue\n",
      "c:\\Users\\ftimcke\\AppData\\Local\\anaconda3\\lib\\site-packages\\eodal\\core\\sensors\\landsat.py:221: UserWarning: Band qa_aerosol not found - remove it from selection\n",
      "  warnings.warn(\n",
      "2023-07-14 13:39:01,593 eodal        WARNING  Scene with ID LE07_L2SP_173060_20150524_20200904_02_T1 already added to SceneCollection - continue\n",
      "c:\\Users\\ftimcke\\AppData\\Local\\anaconda3\\lib\\site-packages\\eodal\\core\\sensors\\landsat.py:221: UserWarning: Band cloud_qa not found - remove it from selection\n",
      "  warnings.warn(\n",
      "2023-07-14 13:39:22,509 eodal        WARNING  Scene with ID LC08_L2SP_173060_20150601_20200909_02_T1 already added to SceneCollection - continue\n",
      "c:\\Users\\ftimcke\\AppData\\Local\\anaconda3\\lib\\site-packages\\eodal\\core\\sensors\\landsat.py:221: UserWarning: Band qa_aerosol not found - remove it from selection\n",
      "  warnings.warn(\n",
      "2023-07-14 13:39:32,554 eodal        WARNING  Scene with ID LE07_L2SP_173060_20150609_20200904_02_T1 already added to SceneCollection - continue\n",
      "c:\\Users\\ftimcke\\AppData\\Local\\anaconda3\\lib\\site-packages\\eodal\\core\\sensors\\landsat.py:221: UserWarning: Band cloud_qa not found - remove it from selection\n",
      "  warnings.warn(\n",
      "2023-07-14 13:39:51,924 eodal        WARNING  Scene with ID LC08_L2SP_173060_20150617_20200909_02_T1 already added to SceneCollection - continue\n",
      "c:\\Users\\ftimcke\\AppData\\Local\\anaconda3\\lib\\site-packages\\eodal\\core\\sensors\\landsat.py:221: UserWarning: Band qa_aerosol not found - remove it from selection\n",
      "  warnings.warn(\n",
      "2023-07-14 13:40:09,007 eodal        WARNING  Scene with ID LE07_L2SP_173060_20150625_20200904_02_T1 already added to SceneCollection - continue\n",
      "c:\\Users\\ftimcke\\AppData\\Local\\anaconda3\\lib\\site-packages\\eodal\\core\\sensors\\landsat.py:221: UserWarning: Band cloud_qa not found - remove it from selection\n",
      "  warnings.warn(\n",
      "2023-07-14 13:40:28,757 eodal        WARNING  Scene with ID LC08_L2SP_173060_20150703_20200909_02_T1 already added to SceneCollection - continue\n",
      "c:\\Users\\ftimcke\\AppData\\Local\\anaconda3\\lib\\site-packages\\eodal\\core\\sensors\\landsat.py:221: UserWarning: Band qa_aerosol not found - remove it from selection\n",
      "  warnings.warn(\n",
      "2023-07-14 13:40:46,513 eodal        WARNING  Scene with ID LE07_L2SP_173060_20150711_20200904_02_T1 already added to SceneCollection - continue\n",
      "c:\\Users\\ftimcke\\AppData\\Local\\anaconda3\\lib\\site-packages\\eodal\\core\\sensors\\landsat.py:221: UserWarning: Band cloud_qa not found - remove it from selection\n",
      "  warnings.warn(\n",
      "2023-07-14 13:41:05,831 eodal        WARNING  Scene with ID LC08_L2SP_173060_20150719_20200908_02_T1 already added to SceneCollection - continue\n",
      "c:\\Users\\ftimcke\\AppData\\Local\\anaconda3\\lib\\site-packages\\eodal\\core\\sensors\\landsat.py:221: UserWarning: Band qa_aerosol not found - remove it from selection\n",
      "  warnings.warn(\n",
      "2023-07-14 13:41:24,001 eodal        WARNING  Scene with ID LE07_L2SP_173060_20150727_20200904_02_T1 already added to SceneCollection - continue\n",
      "c:\\Users\\ftimcke\\AppData\\Local\\anaconda3\\lib\\site-packages\\eodal\\core\\sensors\\landsat.py:221: UserWarning: Band cloud_qa not found - remove it from selection\n",
      "  warnings.warn(\n",
      "2023-07-14 13:41:41,646 eodal        WARNING  Scene with ID LC08_L2SP_173060_20150804_20200909_02_T1 already added to SceneCollection - continue\n",
      "c:\\Users\\ftimcke\\AppData\\Local\\anaconda3\\lib\\site-packages\\eodal\\core\\sensors\\landsat.py:221: UserWarning: Band qa_aerosol not found - remove it from selection\n",
      "  warnings.warn(\n",
      "2023-07-14 13:41:57,659 eodal        WARNING  Scene with ID LE07_L2SP_173060_20150812_20200904_02_T1 already added to SceneCollection - continue\n",
      "c:\\Users\\ftimcke\\AppData\\Local\\anaconda3\\lib\\site-packages\\eodal\\core\\sensors\\landsat.py:221: UserWarning: Band cloud_qa not found - remove it from selection\n",
      "  warnings.warn(\n",
      "2023-07-14 13:42:16,359 eodal        WARNING  Scene with ID LC08_L2SP_173060_20150820_20200908_02_T1 already added to SceneCollection - continue\n",
      "c:\\Users\\ftimcke\\AppData\\Local\\anaconda3\\lib\\site-packages\\eodal\\core\\sensors\\landsat.py:221: UserWarning: Band qa_aerosol not found - remove it from selection\n",
      "  warnings.warn(\n",
      "2023-07-14 13:42:32,657 eodal        WARNING  Scene with ID LE07_L2SP_173060_20150828_20200904_02_T1 already added to SceneCollection - continue\n",
      "c:\\Users\\ftimcke\\AppData\\Local\\anaconda3\\lib\\site-packages\\eodal\\core\\sensors\\landsat.py:221: UserWarning: Band cloud_qa not found - remove it from selection\n",
      "  warnings.warn(\n",
      "2023-07-14 13:42:49,985 eodal        WARNING  Scene with ID LC08_L2SP_173060_20150905_20200908_02_T1 already added to SceneCollection - continue\n",
      "c:\\Users\\ftimcke\\AppData\\Local\\anaconda3\\lib\\site-packages\\eodal\\core\\sensors\\landsat.py:221: UserWarning: Band qa_aerosol not found - remove it from selection\n",
      "  warnings.warn(\n",
      "2023-07-14 13:43:10,037 eodal        WARNING  Scene with ID LE07_L2SP_173060_20150913_20200903_02_T1 already added to SceneCollection - continue\n",
      "c:\\Users\\ftimcke\\AppData\\Local\\anaconda3\\lib\\site-packages\\eodal\\core\\sensors\\landsat.py:221: UserWarning: Band cloud_qa not found - remove it from selection\n",
      "  warnings.warn(\n"
     ]
    }
   ],
   "source": [
    "## Setting up the EOdal Mapper\n",
    "Settings = get_settings()\n",
    "\n",
    "# we use STAC, i.e., Microsoft Planetary Computer\n",
    "Settings.USE_STAC = True\n",
    "\n",
    "# user-inputs\n",
    "# -------------------------- Collection -------------------------------\n",
    "collection = 'landsat-c2-l2'\n",
    "\n",
    "# ---------------------- Spatial Feature  ------------------------------\n",
    "# can be also shp, gpkg, etc.\n",
    "\n",
    "# bbox = box(*[30.2825, 0.4019, 30.3714, 0.4643]) # 1. Area\n",
    "# bbox = box(*[30.2703, 0.4043, 30.4482, 0.5291]) # 2. Area\n",
    "# bbox = box(*[30.3195, 0.4803, 30.3417, 0.4959]) # 3. Area small for MeanShift trial\n",
    "bbox = box(*[30.2433, 0.3746, 30.5640, 0.6962]) # 4. Area bigger\n",
    "\n",
    "feature = Feature(\n",
    "    name='landsat-composite',\n",
    "    geometry=bbox,\n",
    "    epsg=4326,\n",
    "    attributes={})\n",
    "\n",
    "# ------------------------- Metadata Filters ---------------------------\n",
    "metadata_filters = [\n",
    "    #Filter('eo:cloud_cover', '<=', 80),\n",
    "    #Filter('landsat:wrs_path', '==', '173'),\n",
    "    #Filter('landsat:wrs_row', '==', '060'),\n",
    "    #Filter('instruments', '!=', 'etm+')\n",
    "]\n",
    "\n",
    "for year in filtered_years: \n",
    "    \n",
    "    # ------------------------- Time Range ---------------------------------\n",
    "    time_start = datetime(year, 1, 1)\n",
    "    time_end = datetime(year, 12, 31)\n",
    "\n",
    "    # set up the Mapper configuration\n",
    "    mapper_configs = MapperConfigs(\n",
    "        metadata_filters=metadata_filters,\n",
    "        collection=collection,\n",
    "        feature=feature,\n",
    "        time_start=time_start,\n",
    "        time_end=time_end)\n",
    "\n",
    "    # get a new mapper instance\n",
    "    mapper = Mapper(mapper_configs)\n",
    "\n",
    "    # fetch the metadata\n",
    "    # query the scenes available (no I/O of scenes, this only fetches metadata)\n",
    "    mapper.query_scenes()\n",
    "    print(str(year), f'Number of Landsat scenes found: {mapper.metadata.shape[0]}')\n",
    "    \n",
    "    if mapper.metadata.empty:\n",
    "        print(f'no scenes found in year: {year}')\n",
    "        continue\n",
    "\n",
    "    #We tell EOdal how to load the Landsat scenes using `Landsat.from_usgs`and pass on some kwargs, e.g., the selection of bands we want to read.in addition, we tell EOdal to mask out clouds and shadows and the fly while reading the data using the qa_pixel band (therefore, we set the`read_qa` flag to True.\n",
    "    \n",
    "    # define the bands to read in 'band_selection' and to preprocess the scenes\n",
    "    scene_kwargs = {\n",
    "        'scene_constructor': Landsat.from_usgs,\n",
    "        'scene_constructor_kwargs': {'band_selection': ['blue', 'green', 'red', 'nir08', 'swir16', 'swir22'], 'read_qa': True} ,\n",
    "        'scene_modifier': preprocess_landsat_scene,\n",
    "        'scene_modifier_kwargs': {}}\n",
    "\n",
    "    # now we load the scenes\n",
    "    mapper.load_scenes(scene_kwargs=scene_kwargs)\n",
    "\n",
    "    # The mapper returns the single scenes. \n",
    "    # As we told the EOdal to mask out clouds, a significant share of the pixels is masked out. \n",
    "    # We will aggregate them in the next step.\n",
    "    f = mapper.data.plot(band_selection=['red', 'green', 'blue'], figsize = (20, 20), max_scenes_in_row = 2)\n",
    "\n",
    "    #save as PNG for quick view\n",
    "    f.savefig(f'S:\\MSc_23_TimckeFinn\\data\\python_outputs\\landsat_scenes_{year}.png')\n",
    "    \n",
    "    plt.close(f)  # Close the figure (uses less memory?)\n",
    "\n",
    "    ## Generating the composite, We will now generate the composite. Here, we have to consider two things: 1. The data is stored as [numpy masked arrays](https://numpy.org/doc/stable/reference/maskedarray.generic.html) as we masked out clouds. 2. We therefore have to use masked arrays and the numpy ma functions that work on numpy masked arrays (i.e., the ignore masked values).\n",
    "\n",
    "    #First, we open masked arrays for storing the data:\n",
    "    # all scenes have the same shape, i.e., the same number of bands, rows and columns\n",
    "    shapes = [{timestamp: scene.get_values().shape} for timestamp, scene in mapper.data]\n",
    "\n",
    "    # open arrays for storing the data per band\n",
    "    shape = (len(mapper.data), list(shapes[0].values())[0][1], list(shapes[0].values())[0][2])\n",
    "    blue = np.ma.masked_array(data=np.ndarray(shape, dtype=float), mask=False)\n",
    "    red = np.zeros_like(blue)\n",
    "    green = np.zeros_like(blue)\n",
    "    nir08 = np.zeros_like(blue)\n",
    "    swir16 = np.zeros_like(blue)\n",
    "    swir22 = np.zeros_like(blue)\n",
    "\n",
    "    # Next, we loop over the scenes.\n",
    "    idx = 0\n",
    "    for _, scene in mapper.data:\n",
    "        blue[idx, :, :] = scene['blue'].values\n",
    "        red[idx, :, :] = scene['red'].values\n",
    "        green[idx, :, :] = scene['green'].values\n",
    "        nir08[idx, :, :] = scene['nir08'].values\n",
    "        swir16[idx, :, :] = scene['swir16'].values\n",
    "        swir22[idx, :, :] = scene['swir22'].values\n",
    "        idx += 1\n",
    "\n",
    "    # Finally, we aggregate the data using the median reflectance\n",
    "    # calculate the median reflectance per spectral band\n",
    "    blue_median = np.ma.median(blue, axis=0)\n",
    "    green_median = np.ma.median(green, axis=0)\n",
    "    red_median = np.ma.median(red, axis=0)\n",
    "    nir08_median = np.ma.median(nir08, axis=0)\n",
    "    swir16_median = np.ma.median(swir16, axis=0)\n",
    "    swir22_median = np.ma.median(swir22, axis=0)\n",
    "\n",
    "    # We store the results in a new RasterCollection save the median reflectance to a new RasterCollection\n",
    "    rc = RasterCollection()\n",
    "\n",
    "    bands = {'blue': blue_median, \n",
    "            'green': green_median, \n",
    "            'red': red_median, \n",
    "            'nir08' : nir08_median, \n",
    "            'swir16' : swir16_median,\n",
    "            'swir22' : swir22_median}\n",
    "\n",
    "    for band_name, band_value in bands.items():\n",
    "        rc.add_band(\n",
    "            band_constructor=Band,\n",
    "            values=band_value,\n",
    "            band_name=f'{band_name}_median',\n",
    "            geo_info=scene[band_name].geo_info)\n",
    "\n",
    "    # link to DEM\n",
    "    dem_file = Path(f'S:\\MSc_23_TimckeFinn\\data\\geodata\\DEM.hgt')\n",
    "\n",
    "    # load resource into a Band instance and name it \"Elevation\"\n",
    "    dem = Band.from_rasterio(fpath_raster=dem_file, band_name_dst='Elevation')\n",
    "    rc.add_band(band_constructor=dem)\n",
    "        \n",
    "    # # We plot the result\n",
    "    f, ax = plt.subplots(figsize = (20, 10))\n",
    "    f = rc.plot_multiple_bands(['red_median', 'green_median', 'blue_median'], ax=ax)\n",
    "\n",
    "    #save as PNG for quick view\n",
    "    f.savefig(f'S:\\MSc_23_TimckeFinn\\data\\python_outputs\\landsat_median_composite_{year}.png')\n",
    "\n",
    "    plt.close(f)  # Close the figure (uses less memory?)\n",
    "        \n",
    "    # save as GeoTiff for further analysis\n",
    "    rc.to_rasterio(f'S:\\MSc_23_TimckeFinn\\data\\EOdal\\landsat_median_composite_{year}.tif')\n"
   ]
  }
 ],
 "metadata": {
  "kernelspec": {
   "display_name": "Python 3 (ipykernel)",
   "language": "python",
   "name": "python3"
  },
  "language_info": {
   "codemirror_mode": {
    "name": "ipython",
    "version": 3
   },
   "file_extension": ".py",
   "mimetype": "text/x-python",
   "name": "python",
   "nbconvert_exporter": "python",
   "pygments_lexer": "ipython3",
   "version": "3.11.4"
  }
 },
 "nbformat": 4,
 "nbformat_minor": 5
}
