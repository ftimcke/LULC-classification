{
 "cells": [
  {
   "cell_type": "code",
   "execution_count": 3,
   "metadata": {},
   "outputs": [
    {
     "name": "stdout",
     "output_type": "stream",
     "text": [
      "Found 8 items\n"
     ]
    },
    {
     "data": {
      "text/plain": [
       "EOdal SceneCollection\n",
       "----------------------\n",
       "# Scenes:    8\n",
       "Timestamps:    2021-07-30 09:11:53.477169+00:00, 2021-07-29 10:16:32.656734+00:00, 2021-07-22 10:10:18.192019+00:00, 2021-07-21 09:18:51.423700+00:00, 2021-07-14 09:13:16.812454+00:00, 2021-07-13 10:16:25.078262+00:00, 2021-07-06 10:10:13.986245+00:00, 2021-07-05 09:20:13.621974+00:00\n",
       "Scene Identifiers:    LE07_L2SP_194027_20210730_02_T1, LC08_L2SP_195027_20210729_02_T1, LC08_L2SP_194027_20210722_02_T1, LE07_L2SP_195027_20210721_02_T1, LE07_L2SP_194027_20210714_02_T2, LC08_L2SP_195027_20210713_02_T2, LC08_L2SP_194027_20210706_02_T1, LE07_L2SP_195027_20210705_02_T2"
      ]
     },
     "execution_count": 3,
     "metadata": {},
     "output_type": "execute_result"
    }
   ],
   "source": [
    "import pandas as pd\n",
    "import pystac_client\n",
    "import planetary_computer\n",
    "\n",
    "from eodal.core.band import Band\n",
    "from eodal.core.scene import SceneCollection\n",
    "from eodal.core.raster import RasterCollection, SceneProperties\n",
    "\n",
    "# define a bounding box\n",
    "bbox = [9.0924, 47.5992, 9.2190, 47.7295]\n",
    "catalog = pystac_client.Client.open(\n",
    "    \"https://planetarycomputer.microsoft.com/api/stac/v1\"\n",
    ")\n",
    "# search the catalog by bounding box and a custom time period\n",
    "search = catalog.search(\n",
    "    collections=[\"landsat-c2-l2\"], bbox=bbox, datetime=[\"2021-07-01\", \"2021-07-31\"]\n",
    ")\n",
    "# query the catalog\n",
    "items = search.get_all_items()\n",
    "print(f\"Found {len(items)} items\")\n",
    "\n",
    "# read the data into EOdal -> we will get a SceneCollection\n",
    "sc = SceneCollection()\n",
    "\n",
    "# loop over items (i.e., single Landsat scenes)\n",
    "for item in items:\n",
    "    # get some metadata\n",
    "    scene_props = SceneProperties(\n",
    "        product_uri=item.id,\n",
    "        acquisition_time=pd.to_datetime(item.properties['datetime']),\n",
    "        platform=item.properties['platform'],\n",
    "        sensor=item.properties['instruments'][0])\n",
    "    \n",
    "    rc = RasterCollection()\n",
    "    for band_name in ['blue', 'red', 'green', 'nir08', 'swir16', 'swir22', 'qa_pixel']:\n",
    "        band = Band.from_rasterio(\n",
    "            planetary_computer.sign_url(item.assets[band_name].href),\n",
    "            band_name_dst=band_name\n",
    "        )\n",
    "        rc.add_band(band)\n",
    "    # add the scene properties to RasterCollection\n",
    "    rc.scene_properties = scene_props\n",
    "    # add the scene to the SceneCollection\n",
    "    sc.add_scene(rc)\n",
    "\n",
    "# the data is now stored in sc -> you can work with as with any other SceneCollection object\n",
    "sc\n"
   ]
  }
 ],
 "metadata": {
  "kernelspec": {
   "display_name": "Python 3",
   "language": "python",
   "name": "python3"
  },
  "language_info": {
   "codemirror_mode": {
    "name": "ipython",
    "version": 3
   },
   "file_extension": ".py",
   "mimetype": "text/x-python",
   "name": "python",
   "nbconvert_exporter": "python",
   "pygments_lexer": "ipython3",
   "version": "3.11.3"
  },
  "orig_nbformat": 4
 },
 "nbformat": 4,
 "nbformat_minor": 2
}
