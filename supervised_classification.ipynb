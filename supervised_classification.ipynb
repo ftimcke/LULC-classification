{
 "cells": [
  {
   "cell_type": "code",
   "execution_count": null,
   "metadata": {},
   "outputs": [],
   "source": [
    "import rasterio\n",
    "import numpy as np\n",
    "from sklearn.model_selection import train_test_split\n",
    "from sklearn.ensemble import RandomForestClassifier\n",
    "from sklearn.metrics import accuracy_score\n",
    "\n",
    "# Read TIFF file and its associated labels\n",
    "tiff_path = \"path/to/your/tiff/file.tif\"\n",
    "labels_path = \"path/to/your/labels/file.tif\"\n",
    "\n",
    "with rasterio.open(tiff_path) as tiff_dataset:\n",
    "    tiff_data = tiff_dataset.read()\n",
    "\n",
    "with rasterio.open(labels_path) as labels_dataset:\n",
    "    labels_data = labels_dataset.read()\n",
    "\n",
    "# Flatten the data and labels arrays to make them compatible with scikit-learn\n",
    "tiff_data_flat = tiff_data.reshape(-1, tiff_data.shape[-1])\n",
    "labels_data_flat = labels_data.flatten()\n",
    "\n",
    "# Split the data into training and testing sets\n",
    "X_train, X_test, y_train, y_test = train_test_split(tiff_data_flat, labels_data_flat, test_size=0.2, random_state=42)\n",
    "\n",
    "# Create and train the classifier\n",
    "classifier = RandomForestClassifier(n_estimators=100, random_state=42)\n",
    "classifier.fit(X_train, y_train)\n",
    "\n",
    "# Evaluate the trained classifier\n",
    "y_pred = classifier.predict(X_test)\n",
    "accuracy = accuracy_score(y_test, y_pred)\n",
    "print(\"Accuracy: {:.2f}%\".format(accuracy * 100))\n"
   ]
  }
 ],
 "metadata": {
  "language_info": {
   "name": "python"
  },
  "orig_nbformat": 4
 },
 "nbformat": 4,
 "nbformat_minor": 2
}
