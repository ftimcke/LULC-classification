{
 "cells": [
  {
   "cell_type": "code",
   "execution_count": 11,
   "metadata": {},
   "outputs": [],
   "source": [
    "\n"
   ]
  },
  {
   "cell_type": "code",
   "execution_count": 16,
   "metadata": {},
   "outputs": [],
   "source": [
    "import geopandas as gpd\n",
    "import rasterio\n",
    "from rasterio.transform import from_origin\n",
    "import numpy as np\n",
    "\n",
    "import numpy as np\n",
    "import rasterio\n",
    "\n",
    "# define the year/years for the download\n",
    "years = list(range(1986, 1987)) # from to\n",
    "excluded_years = [2022] #no scenes\n",
    "filtered_years = [year for year in years if year not in excluded_years]\n",
    "\n",
    "for year in filtered_years: \n",
    "\n",
    "    # Define the band names\n",
    "    band_names = ['blue_median','green_median', 'red_median', 'nir08_median', 'swir16_median', 'swir22_median']\n",
    "\n",
    "    # Path to the input TIFF file\n",
    "    input_tif_path = f'S:\\MSc_23_TimckeFinn\\data\\EOdal\\landsat_median_composite_{year}.tif'\n",
    "\n",
    "    # Path to the output TIFF file\n",
    "    output_tif_path = f'S:\\MSc_23_TimckeFinn\\data\\EOdal\\landsat_median_composite_{year}_clean.tif'\n",
    "\n",
    "    # Open the TIFF file using rasterio\n",
    "    with rasterio.open(input_tif_path) as src:\n",
    "        # Read all bands of the raster data\n",
    "        raster_data = src.read()\n",
    "\n",
    "        # Replace specific values (e.g., 1e+20) with NaN for each band\n",
    "        replaced_data = np.where(raster_data == 1e+20, np.nan, raster_data)\n",
    "\n",
    "        # Create a new raster file with NaN values\n",
    "        meta = src.meta.copy()  # Copy metadata from the source dataset\n",
    "        meta.update(\n",
    "            driver='GTiff',\n",
    "            dtype=replaced_data.dtype,\n",
    "            nodata=np.nan,  # Set NaN as the nodata value\n",
    "            count=src.count,  # Number of bands\n",
    "            tags={'band_names': ','.join(band_names)}  # Set band names as metadata\n",
    "        )\n",
    "        \n",
    "        with rasterio.open(output_tif_path, 'w', **meta) as dst:\n",
    "            dst.write(replaced_data)\n",
    "            \n",
    "    # Now, you can load the modified raster data back into a GeoDataFrame\n",
    "    # and perform further geospatial operations if needed\n",
    "\n"
   ]
  }
 ],
 "metadata": {
  "kernelspec": {
   "display_name": "Python 3",
   "language": "python",
   "name": "python3"
  },
  "language_info": {
   "codemirror_mode": {
    "name": "ipython",
    "version": 3
   },
   "file_extension": ".py",
   "mimetype": "text/x-python",
   "name": "python",
   "nbconvert_exporter": "python",
   "pygments_lexer": "ipython3",
   "version": "3.11.4"
  },
  "orig_nbformat": 4
 },
 "nbformat": 4,
 "nbformat_minor": 2
}
