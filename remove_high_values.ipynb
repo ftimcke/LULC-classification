{
 "cells": [
  {
   "cell_type": "code",
   "execution_count": 1,
   "metadata": {},
   "outputs": [],
   "source": [
    "import geopandas as gpd\n",
    "import rasterio\n",
    "from rasterio.transform import from_origin\n",
    "import numpy as np\n",
    "\n",
    "import numpy as np\n",
    "import rasterio\n",
    "\n",
    "# define the year/years for the download\n",
    "years = list(range(2021, 2022)) # from to\n",
    "excluded_years = [2022] #no scenes\n",
    "filtered_years = [year for year in years if year not in excluded_years]\n",
    "\n",
    "for year in filtered_years: \n",
    "\n",
    "     # Path to the input TIFF file\n",
    "    input_tif_path = f'S:\\MSc_23_TimckeFinn\\data\\EOdal\\landsat_median_composite_{year}.tif'\n",
    "\n",
    "    # Path to the output TIFF file\n",
    "    output_tif_path = f'S:\\MSc_23_TimckeFinn\\data\\EOdal\\landsat_median_composite_{year}_clean.tif'\n",
    "\n",
    "    # Open the TIFF file using rasterio\n",
    "    with rasterio.open(input_tif_path) as src:\n",
    "\n",
    "        # Read all bands of the raster data\n",
    "        raster_data = src.read()\n",
    "\n",
    "        # Replace specific values (e.g., 1e+20) with NaN for each band\n",
    "        replaced_data = np.where(raster_data == 1e+20, np.nan, raster_data)\n",
    "\n",
    "        # Create a new raster file with NaN values\n",
    "        with rasterio.open(\n",
    "            output_tif_path,\n",
    "            'w',\n",
    "            driver='GTiff',\n",
    "            height=src.height,\n",
    "            width=src.width,\n",
    "            count=src.count,  # Number of bands\n",
    "            dtype=replaced_data.dtype,\n",
    "            crs=src.crs,\n",
    "            transform=src.transform,\n",
    "        ) as dst:\n",
    "            dst.write(replaced_data)\n"
   ]
  }
 ],
 "metadata": {
  "kernelspec": {
   "display_name": "Python 3",
   "language": "python",
   "name": "python3"
  },
  "language_info": {
   "codemirror_mode": {
    "name": "ipython",
    "version": 3
   },
   "file_extension": ".py",
   "mimetype": "text/x-python",
   "name": "python",
   "nbconvert_exporter": "python",
   "pygments_lexer": "ipython3",
   "version": "3.11.4"
  },
  "orig_nbformat": 4
 },
 "nbformat": 4,
 "nbformat_minor": 2
}
