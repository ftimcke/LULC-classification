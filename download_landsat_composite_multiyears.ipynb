{
 "cells": [
  {
   "attachments": {},
   "cell_type": "markdown",
   "id": "e439f8e6",
   "metadata": {},
   "source": [
    "# Landsat Multi-Temporal Composites\n",
    "\n",
    "In remote sensing, we usually work on single images (\"scenes\") acquired on a given date over a given area. While this sufficient or even necessary for many applications such as the studying of vegetation dynamics, some applications actually require information combined from many scenes, i.e., multiple \"snapshots\" of an area over time.\n",
    "\n",
    "Single scenes tend to be noisy mostly because of atmospheric disturbances and instrumentation errors. Thus single scenes might contain significant parts of no-data or poor-quality pixels due to instrument failures, clouds (in the case of optical imagery) or shadows. Taking multiple scenes acquired at different points in time and aggregating them over time by a statistical measure such as the mean or median is therefore in some cases the preferred choice.\n",
    "\n",
    "Multi-temporal composites are used for many different applications, including\n",
    "\n",
    "* inputs for classification tasks such as land-use/ land-cover mapping\n",
    "* generation of equidistant time series\n",
    "* generation of basemaps\n",
    "\n",
    "to name a few.\n",
    "\n",
    "In this notebook, you will learn how to generate a multi-temporal mosaic of Landsat8-9 scenes acquired in Spring 2022. Our example covers a full month (May 2022). The steps are:\n",
    "\n",
    "1. We fetch the Landsat scenes overlapping our study region\n",
    "2. We aggregate the Landsat scenes into a single multi-temporal composite using the median, i.e., our composite will contain the median reflectance obtained from all Landsat scenes fetched in May 2022\n"
   ]
  },
  {
   "cell_type": "code",
   "execution_count": null,
   "id": "4dd12ebc-7150-4ace-bd3d-23a3ed8da625",
   "metadata": {
    "tags": []
   },
   "outputs": [],
   "source": [
    "# we have to install the development version for the time being\n",
    "#!pip uninstall eodal -y\n",
    "#!pip install git+https://github.com/lukasValentin/eodal@landsat-dev"
   ]
  },
  {
   "attachments": {},
   "cell_type": "markdown",
   "id": "5ce53b35",
   "metadata": {},
   "source": [
    "## Setting up the EOdal Mapper"
   ]
  },
  {
   "cell_type": "code",
   "execution_count": 3,
   "id": "1ed0dc0d",
   "metadata": {},
   "outputs": [],
   "source": [
    "years = [1984, 1986, 1987, 1989, 1990, 1994, 1995, 1999, 2000, 2001, 2002, 2003, 2004, 2005, 2006, 2007, 2008, 2009, 2010, 2011, 2012, 2013, 2014, 2015, 2016, 2017, 2018, 2019, 2020, 2021, 2022]"
   ]
  },
  {
   "cell_type": "code",
   "execution_count": 4,
   "id": "0b6a91cc-7b8c-402c-9df9-7cecc3e6bef7",
   "metadata": {
    "tags": []
   },
   "outputs": [],
   "source": [
    "from datetime import datetime\n",
    "from pathlib import Path\n",
    "from shapely.geometry import box\n",
    "from matplotlib import pyplot as plt\n",
    "import numpy as np\n",
    "\n",
    "from eodal.config import get_settings\n",
    "from eodal.core.sensors import Landsat\n",
    "from eodal.mapper.feature import Feature\n",
    "from eodal.mapper.filter import Filter\n",
    "from eodal.mapper.mapper import Mapper, MapperConfigs\n",
    "from eodal.core.band import GeoInfo, Band\n",
    "from eodal.core.raster import RasterCollection"
   ]
  },
  {
   "cell_type": "code",
   "execution_count": 6,
   "id": "1e87cb01",
   "metadata": {},
   "outputs": [],
   "source": [
    "# define a function to mask clouds and shadows\n",
    "def preprocess_landsat_scene(\n",
    "        ds: Landsat\n",
    ") -> Landsat:\n",
    "    \"\"\"\n",
    "    Mask clouds and cloud shadows in a Landsat scene based\n",
    "    on the 'qa_pixel' band.\n",
    "\n",
    "    NOTE:\n",
    "        Depending on your needs, the pre-processing function can be\n",
    "        fully customized using the full power of EOdal and its\n",
    "        interfacing libraries!\n",
    "\n",
    "    :param ds:\n",
    "        Landsat scene before cloud mask applied.\n",
    "    :return:\n",
    "        Landsat scene with clouds and cloud shadows masked.\n",
    "    \"\"\"\n",
    "    ds.mask_clouds_and_shadows(inplace=True)\n",
    "    return ds"
   ]
  },
  {
   "cell_type": "code",
   "execution_count": 7,
   "id": "34ef1f09",
   "metadata": {},
   "outputs": [
    {
     "name": "stderr",
     "output_type": "stream",
     "text": [
      "2023-06-22 16:20:31,423 eodal        INFO     Starting extraction of landsat scenes\n"
     ]
    },
    {
     "name": "stdout",
     "output_type": "stream",
     "text": [
      "1984 Number of Landsat scenes found: 1\n"
     ]
    },
    {
     "name": "stderr",
     "output_type": "stream",
     "text": [
      "2023-06-22 16:20:35,650 eodal        INFO     Finished extraction of landsat scenes\n",
      "2023-06-22 16:20:36,536 eodal        INFO     Starting extraction of landsat scenes\n"
     ]
    },
    {
     "name": "stdout",
     "output_type": "stream",
     "text": [
      "1986 Number of Landsat scenes found: 2\n"
     ]
    },
    {
     "name": "stderr",
     "output_type": "stream",
     "text": [
      "2023-06-22 16:20:42,647 eodal        INFO     Finished extraction of landsat scenes\n",
      "2023-06-22 16:20:43,725 eodal        INFO     Starting extraction of landsat scenes\n"
     ]
    },
    {
     "name": "stdout",
     "output_type": "stream",
     "text": [
      "1987 Number of Landsat scenes found: 7\n"
     ]
    },
    {
     "name": "stderr",
     "output_type": "stream",
     "text": [
      "2023-06-22 16:21:09,947 eodal        INFO     Finished extraction of landsat scenes\n",
      "2023-06-22 16:21:11,530 eodal        INFO     Starting extraction of landsat scenes\n"
     ]
    },
    {
     "name": "stdout",
     "output_type": "stream",
     "text": [
      "1989 Number of Landsat scenes found: 3\n"
     ]
    },
    {
     "name": "stderr",
     "output_type": "stream",
     "text": [
      "2023-06-22 16:21:21,916 eodal        INFO     Finished extraction of landsat scenes\n",
      "2023-06-22 16:21:23,400 eodal        INFO     Starting extraction of landsat scenes\n"
     ]
    },
    {
     "name": "stdout",
     "output_type": "stream",
     "text": [
      "1990 Number of Landsat scenes found: 2\n"
     ]
    },
    {
     "name": "stderr",
     "output_type": "stream",
     "text": [
      "2023-06-22 16:21:30,372 eodal        INFO     Finished extraction of landsat scenes\n",
      "2023-06-22 16:21:31,420 eodal        INFO     Starting extraction of landsat scenes\n"
     ]
    },
    {
     "name": "stdout",
     "output_type": "stream",
     "text": [
      "1994 Number of Landsat scenes found: 1\n"
     ]
    },
    {
     "name": "stderr",
     "output_type": "stream",
     "text": [
      "2023-06-22 16:21:35,042 eodal        INFO     Finished extraction of landsat scenes\n",
      "2023-06-22 16:21:35,926 eodal        INFO     Starting extraction of landsat scenes\n"
     ]
    },
    {
     "name": "stdout",
     "output_type": "stream",
     "text": [
      "1995 Number of Landsat scenes found: 1\n"
     ]
    },
    {
     "name": "stderr",
     "output_type": "stream",
     "text": [
      "2023-06-22 16:21:40,049 eodal        INFO     Finished extraction of landsat scenes\n",
      "2023-06-22 16:21:40,930 eodal        INFO     Starting extraction of landsat scenes\n"
     ]
    },
    {
     "name": "stdout",
     "output_type": "stream",
     "text": [
      "1999 Number of Landsat scenes found: 2\n"
     ]
    },
    {
     "name": "stderr",
     "output_type": "stream",
     "text": [
      "2023-06-22 16:21:47,229 eodal        INFO     Finished extraction of landsat scenes\n",
      "2023-06-22 16:21:48,503 eodal        INFO     Starting extraction of landsat scenes\n"
     ]
    },
    {
     "name": "stdout",
     "output_type": "stream",
     "text": [
      "2000 Number of Landsat scenes found: 1\n"
     ]
    },
    {
     "name": "stderr",
     "output_type": "stream",
     "text": [
      "2023-06-22 16:21:52,199 eodal        INFO     Finished extraction of landsat scenes\n",
      "2023-06-22 16:21:53,519 eodal        INFO     Starting extraction of landsat scenes\n"
     ]
    },
    {
     "name": "stdout",
     "output_type": "stream",
     "text": [
      "2001 Number of Landsat scenes found: 4\n"
     ]
    },
    {
     "name": "stderr",
     "output_type": "stream",
     "text": [
      "2023-06-22 16:22:05,673 eodal        INFO     Finished extraction of landsat scenes\n",
      "2023-06-22 16:22:07,657 eodal        INFO     Starting extraction of landsat scenes\n"
     ]
    },
    {
     "name": "stdout",
     "output_type": "stream",
     "text": [
      "2002 Number of Landsat scenes found: 3\n"
     ]
    },
    {
     "name": "stderr",
     "output_type": "stream",
     "text": [
      "2023-06-22 16:22:17,481 eodal        INFO     Finished extraction of landsat scenes\n",
      "2023-06-22 16:22:19,013 eodal        INFO     Starting extraction of landsat scenes\n"
     ]
    },
    {
     "name": "stdout",
     "output_type": "stream",
     "text": [
      "2003 Number of Landsat scenes found: 4\n"
     ]
    },
    {
     "name": "stderr",
     "output_type": "stream",
     "text": [
      "2023-06-22 16:22:31,638 eodal        INFO     Finished extraction of landsat scenes\n",
      "2023-06-22 16:22:33,393 eodal        INFO     Starting extraction of landsat scenes\n"
     ]
    },
    {
     "name": "stdout",
     "output_type": "stream",
     "text": [
      "2004 Number of Landsat scenes found: 4\n"
     ]
    },
    {
     "name": "stderr",
     "output_type": "stream",
     "text": [
      "2023-06-22 16:22:49,662 eodal        INFO     Finished extraction of landsat scenes\n",
      "2023-06-22 16:22:51,833 eodal        INFO     Starting extraction of landsat scenes\n"
     ]
    },
    {
     "name": "stdout",
     "output_type": "stream",
     "text": [
      "2005 Number of Landsat scenes found: 7\n"
     ]
    },
    {
     "ename": "KeyboardInterrupt",
     "evalue": "",
     "output_type": "error",
     "traceback": [
      "\u001b[1;31m---------------------------------------------------------------------------\u001b[0m",
      "\u001b[1;31mKeyboardInterrupt\u001b[0m                         Traceback (most recent call last)",
      "Cell \u001b[1;32mIn[7], line 60\u001b[0m\n\u001b[0;32m     51\u001b[0m scene_kwargs \u001b[39m=\u001b[39m {\n\u001b[0;32m     52\u001b[0m     \u001b[39m'\u001b[39m\u001b[39mscene_constructor\u001b[39m\u001b[39m'\u001b[39m: Landsat\u001b[39m.\u001b[39mfrom_usgs,\n\u001b[0;32m     53\u001b[0m     \u001b[39m'\u001b[39m\u001b[39mscene_constructor_kwargs\u001b[39m\u001b[39m'\u001b[39m: {\n\u001b[1;32m   (...)\u001b[0m\n\u001b[0;32m     56\u001b[0m     \u001b[39m'\u001b[39m\u001b[39mscene_modifier\u001b[39m\u001b[39m'\u001b[39m: preprocess_landsat_scene,\n\u001b[0;32m     57\u001b[0m     \u001b[39m'\u001b[39m\u001b[39mscene_modifier_kwargs\u001b[39m\u001b[39m'\u001b[39m: {}}\n\u001b[0;32m     59\u001b[0m \u001b[39m# now we load the scenes\u001b[39;00m\n\u001b[1;32m---> 60\u001b[0m mapper\u001b[39m.\u001b[39;49mload_scenes(scene_kwargs\u001b[39m=\u001b[39;49mscene_kwargs)\n\u001b[0;32m     62\u001b[0m \u001b[39m# The mapper returns the single scenes. \u001b[39;00m\n\u001b[0;32m     63\u001b[0m \u001b[39m# As we told the EOdal to mask out clouds, a significant share of the pixels is masked out. \u001b[39;00m\n\u001b[0;32m     64\u001b[0m \u001b[39m# We will aggregate them in the next step.\u001b[39;00m\n\u001b[1;32m   (...)\u001b[0m\n\u001b[0;32m     70\u001b[0m \n\u001b[0;32m     71\u001b[0m \u001b[39m# all scenes have the same shape, i.e., the same number of bands, rows and columns\u001b[39;00m\n\u001b[0;32m     72\u001b[0m shapes \u001b[39m=\u001b[39m [{timestamp: scene\u001b[39m.\u001b[39mget_values()\u001b[39m.\u001b[39mshape} \u001b[39mfor\u001b[39;00m timestamp, scene \u001b[39min\u001b[39;00m mapper\u001b[39m.\u001b[39mdata]\n",
      "File \u001b[1;32m~\\AppData\\Local\\Packages\\PythonSoftwareFoundation.Python.3.11_qbz5n2kfra8p0\\LocalCache\\local-packages\\Python311\\site-packages\\eodal\\mapper\\mapper.py:814\u001b[0m, in \u001b[0;36mMapper.load_scenes\u001b[1;34m(self, scene_kwargs, pixel_kwargs)\u001b[0m\n\u001b[0;32m    812\u001b[0m     \u001b[39mself\u001b[39m\u001b[39m.\u001b[39m_load_pixels(\u001b[39m*\u001b[39m\u001b[39m*\u001b[39mpixel_kwargs)\n\u001b[0;32m    813\u001b[0m \u001b[39melse\u001b[39;00m:\n\u001b[1;32m--> 814\u001b[0m     \u001b[39mself\u001b[39;49m\u001b[39m.\u001b[39;49m_load_scenes_collection(\u001b[39m*\u001b[39;49m\u001b[39m*\u001b[39;49mscene_kwargs)\n",
      "File \u001b[1;32m~\\AppData\\Local\\Packages\\PythonSoftwareFoundation.Python.3.11_qbz5n2kfra8p0\\LocalCache\\local-packages\\Python311\\site-packages\\eodal\\mapper\\mapper.py:621\u001b[0m, in \u001b[0;36mMapper._load_scenes_collection\u001b[1;34m(self, reprojection_method, scene_constructor, scene_constructor_kwargs, scene_modifier, scene_modifier_kwargs)\u001b[0m\n\u001b[0;32m    619\u001b[0m \u001b[39mif\u001b[39;00m \u001b[39mnot\u001b[39;00m _metadata_unique\u001b[39m.\u001b[39mempty:\n\u001b[0;32m    620\u001b[0m     \u001b[39mfor\u001b[39;00m _, item \u001b[39min\u001b[39;00m _metadata_unique\u001b[39m.\u001b[39miterrows():\n\u001b[1;32m--> 621\u001b[0m         scene \u001b[39m=\u001b[39m \u001b[39mself\u001b[39;49m\u001b[39m.\u001b[39;49m_process_scene(\n\u001b[0;32m    622\u001b[0m             item\u001b[39m=\u001b[39;49mitem,\n\u001b[0;32m    623\u001b[0m             scene_constructor\u001b[39m=\u001b[39;49mscene_constructor,\n\u001b[0;32m    624\u001b[0m             scene_constructor_kwargs\u001b[39m=\u001b[39;49mscene_constructor_kwargs,\n\u001b[0;32m    625\u001b[0m             scene_modifier\u001b[39m=\u001b[39;49mscene_modifier,\n\u001b[0;32m    626\u001b[0m             scene_modifier_kwargs\u001b[39m=\u001b[39;49mscene_modifier_kwargs,\n\u001b[0;32m    627\u001b[0m             reprojection_method\u001b[39m=\u001b[39;49mreprojection_method,\n\u001b[0;32m    628\u001b[0m         )\n\u001b[0;32m    629\u001b[0m         \u001b[39m# because ESA has some mess with the naming of their file names and\u001b[39;00m\n\u001b[0;32m    630\u001b[0m         \u001b[39m# metadata, there might be duplicated seems not detected by the mapper\u001b[39;00m\n\u001b[0;32m    631\u001b[0m         \u001b[39m# since the time stamps slightly differ (few seconds in some cases) but\u001b[39;00m\n\u001b[0;32m    632\u001b[0m         \u001b[39m# their IDs are the same\u001b[39;00m\n\u001b[0;32m    633\u001b[0m         \u001b[39mtry\u001b[39;00m:\n",
      "File \u001b[1;32m~\\AppData\\Local\\Packages\\PythonSoftwareFoundation.Python.3.11_qbz5n2kfra8p0\\LocalCache\\local-packages\\Python311\\site-packages\\eodal\\mapper\\mapper.py:445\u001b[0m, in \u001b[0;36mMapper._process_scene\u001b[1;34m(self, item, scene_constructor, scene_constructor_kwargs, scene_modifier, scene_modifier_kwargs, reprojection_method)\u001b[0m\n\u001b[0;32m    438\u001b[0m     scene \u001b[39m=\u001b[39m scene_modifier\u001b[39m.\u001b[39m\u001b[39m__call__\u001b[39m(scene, \u001b[39m*\u001b[39m\u001b[39m*\u001b[39mscene_modifier_kwargs)\n\u001b[0;32m    440\u001b[0m \u001b[39m# reproject scene if necessary\u001b[39;00m\n\u001b[0;32m    441\u001b[0m \u001b[39m# TODO: there is a problem that the resulting grid might be a bit\u001b[39;00m\n\u001b[0;32m    442\u001b[0m \u001b[39m# of from the satellite grid in the target projection. This does\u001b[39;00m\n\u001b[0;32m    443\u001b[0m \u001b[39m# not matter as along as you want to stack the data ...\u001b[39;00m\n\u001b[0;32m    444\u001b[0m \u001b[39m# the question is: do we solve it here or elsewhere ...\u001b[39;00m\n\u001b[1;32m--> 445\u001b[0m scene\u001b[39m.\u001b[39;49mreproject(\n\u001b[0;32m    446\u001b[0m     target_crs\u001b[39m=\u001b[39;49mitem\u001b[39m.\u001b[39;49mtarget_epsg,\n\u001b[0;32m    447\u001b[0m     interpolation_method\u001b[39m=\u001b[39;49mreprojection_method,\n\u001b[0;32m    448\u001b[0m     inplace\u001b[39m=\u001b[39;49m\u001b[39mTrue\u001b[39;49;00m\n\u001b[0;32m    449\u001b[0m )\n\u001b[0;32m    451\u001b[0m \u001b[39mreturn\u001b[39;00m scene\n",
      "File \u001b[1;32m~\\AppData\\Local\\Packages\\PythonSoftwareFoundation.Python.3.11_qbz5n2kfra8p0\\LocalCache\\local-packages\\Python311\\site-packages\\eodal\\utils\\decorators.py:167\u001b[0m, in \u001b[0;36mcheck_band_names.<locals>.wrapper\u001b[1;34m(self, *args, **kwargs)\u001b[0m\n\u001b[0;32m    164\u001b[0m         \u001b[39mif\u001b[39;00m \u001b[39mnot\u001b[39;00m \u001b[39mset\u001b[39m(band_names)\u001b[39m.\u001b[39missubset(\u001b[39mself\u001b[39m\u001b[39m.\u001b[39mband_names):\n\u001b[0;32m    165\u001b[0m             \u001b[39mraise\u001b[39;00m BandNotFoundError(\u001b[39mf\u001b[39m\u001b[39m\"\u001b[39m\u001b[39m{\u001b[39;00mband_names\u001b[39m}\u001b[39;00m\u001b[39m not found in collection\u001b[39m\u001b[39m\"\u001b[39m)\n\u001b[1;32m--> 167\u001b[0m \u001b[39mreturn\u001b[39;00m f(\u001b[39mself\u001b[39;49m, \u001b[39m*\u001b[39;49margs, \u001b[39m*\u001b[39;49m\u001b[39m*\u001b[39;49mkwargs)\n",
      "File \u001b[1;32m~\\AppData\\Local\\Packages\\PythonSoftwareFoundation.Python.3.11_qbz5n2kfra8p0\\LocalCache\\local-packages\\Python311\\site-packages\\eodal\\core\\raster.py:1393\u001b[0m, in \u001b[0;36mRasterCollection.reproject\u001b[1;34m(self, band_selection, inplace, **kwargs)\u001b[0m\n\u001b[0;32m   1391\u001b[0m \u001b[39mfor\u001b[39;00m band_name \u001b[39min\u001b[39;00m band_selection:\n\u001b[0;32m   1392\u001b[0m     \u001b[39mif\u001b[39;00m inplace:\n\u001b[1;32m-> 1393\u001b[0m         \u001b[39mself\u001b[39;49m\u001b[39m.\u001b[39;49mcollection[band_name]\u001b[39m.\u001b[39;49mreproject(\u001b[39m*\u001b[39;49m\u001b[39m*\u001b[39;49mkwargs)\n\u001b[0;32m   1394\u001b[0m     \u001b[39melse\u001b[39;00m:\n\u001b[0;32m   1395\u001b[0m         band \u001b[39m=\u001b[39m \u001b[39mself\u001b[39m\u001b[39m.\u001b[39mget_band(band_name)\n",
      "File \u001b[1;32m~\\AppData\\Local\\Packages\\PythonSoftwareFoundation.Python.3.11_qbz5n2kfra8p0\\LocalCache\\local-packages\\Python311\\site-packages\\eodal\\core\\band.py:1978\u001b[0m, in \u001b[0;36mBand.reproject\u001b[1;34m(self, target_crs, interpolation_method, inplace, **kwargs)\u001b[0m\n\u001b[0;32m   1973\u001b[0m         \u001b[39mif\u001b[39;00m \u001b[39m\"\u001b[39m\u001b[39mdestination\u001b[39m\u001b[39m\"\u001b[39m \u001b[39mnot\u001b[39;00m \u001b[39min\u001b[39;00m reprojection_options\u001b[39m.\u001b[39mkeys():\n\u001b[0;32m   1974\u001b[0m             \u001b[39mraise\u001b[39;00m \u001b[39mValueError\u001b[39;00m(\n\u001b[0;32m   1975\u001b[0m                 \u001b[39m'\u001b[39m\u001b[39m\"\u001b[39m\u001b[39mdestination\u001b[39m\u001b[39m\"\u001b[39m\u001b[39m must be provided \u001b[39m\u001b[39m'\u001b[39m \u001b[39m+\u001b[39m\n\u001b[0;32m   1976\u001b[0m                 \u001b[39m'\u001b[39m\u001b[39malongside \u001b[39m\u001b[39m\"\u001b[39m\u001b[39mdst_transform\u001b[39m\u001b[39m\"\u001b[39m\u001b[39m'\u001b[39m)\n\u001b[1;32m-> 1978\u001b[0m     out_data, out_transform \u001b[39m=\u001b[39m reproject_raster_dataset(\n\u001b[0;32m   1979\u001b[0m         raster\u001b[39m=\u001b[39;49mband_data, \u001b[39m*\u001b[39;49m\u001b[39m*\u001b[39;49mreprojection_options\n\u001b[0;32m   1980\u001b[0m     )\n\u001b[0;32m   1981\u001b[0m \u001b[39mexcept\u001b[39;00m \u001b[39mException\u001b[39;00m \u001b[39mas\u001b[39;00m e:\n\u001b[0;32m   1982\u001b[0m     \u001b[39mraise\u001b[39;00m ReprojectionError(\u001b[39mf\u001b[39m\u001b[39m\"\u001b[39m\u001b[39mCould not re-project band \u001b[39m\u001b[39m{\u001b[39;00m\u001b[39mself\u001b[39m\u001b[39m.\u001b[39mband_name\u001b[39m}\u001b[39;00m\u001b[39m: \u001b[39m\u001b[39m{\u001b[39;00me\u001b[39m}\u001b[39;00m\u001b[39m\"\u001b[39m)\n",
      "File \u001b[1;32m~\\AppData\\Local\\Packages\\PythonSoftwareFoundation.Python.3.11_qbz5n2kfra8p0\\LocalCache\\local-packages\\Python311\\site-packages\\eodal\\utils\\reprojection.py:172\u001b[0m, in \u001b[0;36mreproject_raster_dataset\u001b[1;34m(raster, **kwargs)\u001b[0m\n\u001b[0;32m    156\u001b[0m \u001b[39m\u001b[39m\u001b[39m\"\"\"\u001b[39;00m\n\u001b[0;32m    157\u001b[0m \u001b[39mRe-projects a raster dataset into another spatial coordinate reference\u001b[39;00m\n\u001b[0;32m    158\u001b[0m \u001b[39msystem by calling ``rasterio.warp.reproject``.\u001b[39;00m\n\u001b[1;32m   (...)\u001b[0m\n\u001b[0;32m    168\u001b[0m \u001b[39m    and the ``Affine`` transformation parameters of the reprojected dataset\u001b[39;00m\n\u001b[0;32m    169\u001b[0m \u001b[39m\"\"\"\u001b[39;00m\n\u001b[0;32m    171\u001b[0m \u001b[39mtry\u001b[39;00m:\n\u001b[1;32m--> 172\u001b[0m     dst, transform \u001b[39m=\u001b[39m rio\u001b[39m.\u001b[39;49mwarp\u001b[39m.\u001b[39;49mreproject(source\u001b[39m=\u001b[39;49mraster, \u001b[39m*\u001b[39;49m\u001b[39m*\u001b[39;49mkwargs)\n\u001b[0;32m    173\u001b[0m \u001b[39mexcept\u001b[39;00m \u001b[39mException\u001b[39;00m \u001b[39mas\u001b[39;00m e:\n\u001b[0;32m    174\u001b[0m     \u001b[39mraise\u001b[39;00m \u001b[39mException\u001b[39;00m \u001b[39mfrom\u001b[39;00m \u001b[39me\u001b[39;00m\n",
      "File \u001b[1;32m~\\AppData\\Local\\Packages\\PythonSoftwareFoundation.Python.3.11_qbz5n2kfra8p0\\LocalCache\\local-packages\\Python311\\site-packages\\rasterio\\env.py:401\u001b[0m, in \u001b[0;36mensure_env.<locals>.wrapper\u001b[1;34m(*args, **kwds)\u001b[0m\n\u001b[0;32m    399\u001b[0m \u001b[39melse\u001b[39;00m:\n\u001b[0;32m    400\u001b[0m     \u001b[39mwith\u001b[39;00m Env\u001b[39m.\u001b[39mfrom_defaults():\n\u001b[1;32m--> 401\u001b[0m         \u001b[39mreturn\u001b[39;00m f(\u001b[39m*\u001b[39;49margs, \u001b[39m*\u001b[39;49m\u001b[39m*\u001b[39;49mkwds)\n",
      "File \u001b[1;32m~\\AppData\\Local\\Packages\\PythonSoftwareFoundation.Python.3.11_qbz5n2kfra8p0\\LocalCache\\local-packages\\Python311\\site-packages\\rasterio\\warp.py:344\u001b[0m, in \u001b[0;36mreproject\u001b[1;34m(source, destination, src_transform, gcps, rpcs, src_crs, src_nodata, dst_transform, dst_crs, dst_nodata, dst_resolution, src_alpha, dst_alpha, resampling, num_threads, init_dest_nodata, warp_mem_limit, **kwargs)\u001b[0m\n\u001b[0;32m    340\u001b[0m         destination \u001b[39m=\u001b[39m np\u001b[39m.\u001b[39mempty((\u001b[39mint\u001b[39m(dst_count), \u001b[39mint\u001b[39m(dst_height), \u001b[39mint\u001b[39m(dst_width)),\n\u001b[0;32m    341\u001b[0m                                dtype\u001b[39m=\u001b[39msource\u001b[39m.\u001b[39mdtype)\n\u001b[0;32m    343\u001b[0m \u001b[39m# Call the function in our extension module.\u001b[39;00m\n\u001b[1;32m--> 344\u001b[0m _reproject(\n\u001b[0;32m    345\u001b[0m     source, destination, src_transform\u001b[39m=\u001b[39;49msrc_transform, gcps\u001b[39m=\u001b[39;49mgcps, rpcs\u001b[39m=\u001b[39;49mrpcs,\n\u001b[0;32m    346\u001b[0m     src_crs\u001b[39m=\u001b[39;49msrc_crs, src_nodata\u001b[39m=\u001b[39;49msrc_nodata, dst_transform\u001b[39m=\u001b[39;49mdst_transform,\n\u001b[0;32m    347\u001b[0m     dst_crs\u001b[39m=\u001b[39;49mdst_crs, dst_nodata\u001b[39m=\u001b[39;49mdst_nodata, dst_alpha\u001b[39m=\u001b[39;49mdst_alpha,\n\u001b[0;32m    348\u001b[0m     src_alpha\u001b[39m=\u001b[39;49msrc_alpha, resampling\u001b[39m=\u001b[39;49mresampling,\n\u001b[0;32m    349\u001b[0m     init_dest_nodata\u001b[39m=\u001b[39;49minit_dest_nodata, num_threads\u001b[39m=\u001b[39;49mnum_threads,\n\u001b[0;32m    350\u001b[0m     warp_mem_limit\u001b[39m=\u001b[39;49mwarp_mem_limit, \u001b[39m*\u001b[39;49m\u001b[39m*\u001b[39;49mkwargs)\n\u001b[0;32m    352\u001b[0m \u001b[39mreturn\u001b[39;00m destination, dst_transform\n",
      "File \u001b[1;32mrasterio\\_warp.pyx:590\u001b[0m, in \u001b[0;36mrasterio._warp._reproject\u001b[1;34m()\u001b[0m\n",
      "File \u001b[1;32m~\\AppData\\Local\\Packages\\PythonSoftwareFoundation.Python.3.11_qbz5n2kfra8p0\\LocalCache\\local-packages\\Python311\\site-packages\\rasterio\\dtypes.py:176\u001b[0m, in \u001b[0;36mis_ndarray\u001b[1;34m(array)\u001b[0m\n\u001b[0;32m    172\u001b[0m             \u001b[39mreturn\u001b[39;00m float32\n\u001b[0;32m    173\u001b[0m         \u001b[39mreturn\u001b[39;00m float64\n\u001b[1;32m--> 176\u001b[0m \u001b[39mdef\u001b[39;00m \u001b[39mis_ndarray\u001b[39m(array):\n\u001b[0;32m    177\u001b[0m \u001b[39m    \u001b[39m\u001b[39m\"\"\"Check if array is a ndarray.\"\"\"\u001b[39;00m\n\u001b[0;32m    178\u001b[0m     \u001b[39mimport\u001b[39;00m \u001b[39mnumpy\u001b[39;00m \u001b[39mas\u001b[39;00m \u001b[39mnp\u001b[39;00m\n",
      "\u001b[1;31mKeyboardInterrupt\u001b[0m: "
     ]
    }
   ],
   "source": [
    "Settings = get_settings()\n",
    "# we use STAC, i.e., Microsoft Planetary Computer\n",
    "Settings.USE_STAC = True\n",
    "\n",
    "# user-inputs\n",
    "# -------------------------- Collection -------------------------------\n",
    "collection = 'landsat-c2-l2'\n",
    "\n",
    "# ---------------------- Spatial Feature  ------------------------------\n",
    "# can be also shp, gpkg, etc.\n",
    "\n",
    "#bbox = box(*[30.2825, 0.4019, 30.3714, 0.4643]) # 1. Area\n",
    "bbox = box(*[30.2703, 0.4043, 30.4482, 0.5291]) # 2. Area\n",
    "feature = Feature(\n",
    "    name='landsat-composite',\n",
    "    geometry=bbox,\n",
    "    epsg=4326,\n",
    "    attributes={})\n",
    "\n",
    "# ------------------------- Metadata Filters ---------------------------\n",
    "metadata_filters = [\n",
    "    Filter('eo:cloud_cover', '<', 30),\n",
    "    Filter('landsat:wrs_path', '==', '173'),\n",
    "    Filter('landsat:wrs_row', '==', '060'),\n",
    "    #Filter('instruments', '!=', 'etm+')\n",
    "]\n",
    "\n",
    "for year in years: \n",
    "    \n",
    "    # ------------------------- Time Range ---------------------------------\n",
    "    time_start = datetime(year, 1, 1)\n",
    "    time_end = datetime(year, 12, 31)\n",
    "\n",
    "    # set up the Mapper configuration\n",
    "    mapper_configs = MapperConfigs(\n",
    "        metadata_filters=metadata_filters,\n",
    "        collection=collection,\n",
    "        feature=feature,\n",
    "        time_start=time_start,\n",
    "        time_end=time_end)\n",
    "\n",
    "    # get a new mapper instance\n",
    "    mapper = Mapper(mapper_configs)\n",
    "\n",
    "    # fetch the metadata\n",
    "    # query the scenes available (no I/O of scenes, this only fetches metadata)\n",
    "    mapper.query_scenes()\n",
    "    print(str(year), f'Number of Landsat scenes found: {mapper.metadata.shape[0]}')\n",
    "\n",
    "    # define e bands to read in 'band_selection' and to preprocess the scenes\n",
    "    scene_kwargs = {\n",
    "        'scene_constructor': Landsat.from_usgs,\n",
    "        'scene_constructor_kwargs': {\n",
    "            'band_selection': ['blue', 'green', 'red', 'nir08', 'swir16', 'qa_pixel'], \n",
    "            'read_qa': False},\n",
    "        'scene_modifier': preprocess_landsat_scene,\n",
    "        'scene_modifier_kwargs': {}}\n",
    "\n",
    "    # now we load the scenes\n",
    "    mapper.load_scenes(scene_kwargs=scene_kwargs)\n",
    "\n",
    "    # The mapper returns the single scenes. \n",
    "    # As we told the EOdal to mask out clouds, a significant share of the pixels is masked out. \n",
    "    # We will aggregate them in the next step.\n",
    "    #f = mapper.data.plot(band_selection=['red', 'green', 'blue'], figsize = (20, 20), max_scenes_in_row = 2)\n",
    "\n",
    "    #save as PNG for quick view\n",
    "    #f.savefig('S:\\MSc_23_TimckeFinn\\data\\python_outputs\\landsat_scenes_' + str(year) + '.png')\n",
    "    #First, we open masked arrays for storing the data:\n",
    "\n",
    "    # all scenes have the same shape, i.e., the same number of bands, rows and columns\n",
    "    shapes = [{timestamp: scene.get_values().shape} for timestamp, scene in mapper.data]\n",
    "\n",
    "    # open arrays for storing the data per band\n",
    "    shape = (len(mapper.data), list(shapes[0].values())[0][1], list(shapes[0].values())[0][2])\n",
    "    blue = np.ma.masked_array(data=np.ndarray(shape, dtype=float), mask=False)\n",
    "    red = np.zeros_like(blue)\n",
    "    green = np.zeros_like(blue)\n",
    "    nir08 = np.zeros_like(blue)\n",
    "    swir16 = np.zeros_like(blue)\n",
    "\n",
    "    # Next, we loop over the scenes.\n",
    "    idx = 0\n",
    "    for _, scene in mapper.data:\n",
    "        blue[idx, :, :] = scene['blue'].values\n",
    "        red[idx, :, :] = scene['red'].values\n",
    "        green[idx, :, :] = scene['green'].values\n",
    "        nir08[idx, :, :] = scene['nir08'].values\n",
    "        swir16[idx, :, :] = scene['swir16'].values\n",
    "        idx += 1\n",
    "\n",
    "    # Finally, we aggregate the data using the median reflectance\n",
    "    # calculate the median reflectance per spectral band\n",
    "    blue_median = np.ma.median(blue, axis=0)\n",
    "    green_median = np.ma.median(green, axis=0)\n",
    "    red_median = np.ma.median(red, axis=0)\n",
    "    nir08_median = np.ma.median(nir08, axis=0)\n",
    "    swir16_median = np.ma.median(swir16, axis=0)\n",
    "\n",
    "    rc = RasterCollection()\n",
    "\n",
    "    bands = {'blue': blue_median, \n",
    "            'green': green_median, \n",
    "            'red': red_median, \n",
    "            'nir08' : nir08_median, \n",
    "            'swir16' : swir16_median}\n",
    "\n",
    "    for band_name, band_value in bands.items():\n",
    "        rc.add_band(\n",
    "            band_constructor=Band,\n",
    "            values=band_value,\n",
    "            band_name=f'{band_name}_median',\n",
    "            geo_info=scene[band_name].geo_info)\n",
    "        \n",
    "    # save as GeoTiff for further analysis\n",
    "    #rc.to_rasterio('S:\\MSc_23_TimckeFinn\\data\\EOdal\\landsat_median_composite_' + str(year) + '.tif')\n"
   ]
  },
  {
   "cell_type": "code",
   "execution_count": null,
   "id": "14df9b44",
   "metadata": {},
   "outputs": [],
   "source": [
    "# # We plot the result\n",
    "# f, ax = plt.subplots(figsize = (20, 10))\n",
    "# f = rc.plot_multiple_bands(['red_median', 'green_median', 'blue_median'], ax=ax)\n",
    "\n",
    "# #save as PNG for quick view\n",
    "# f.savefig('S:\\MSc_23_TimckeFinn\\data\\python_outputs\\landsat_median_composite_' + str(year) + '.png')\n"
   ]
  }
 ],
 "metadata": {
  "kernelspec": {
   "display_name": "Python 3 (ipykernel)",
   "language": "python",
   "name": "python3"
  },
  "language_info": {
   "codemirror_mode": {
    "name": "ipython",
    "version": 3
   },
   "file_extension": ".py",
   "mimetype": "text/x-python",
   "name": "python",
   "nbconvert_exporter": "python",
   "pygments_lexer": "ipython3",
   "version": "3.11.4"
  }
 },
 "nbformat": 4,
 "nbformat_minor": 5
}
