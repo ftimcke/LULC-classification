{
 "cells": [
  {
   "attachments": {},
   "cell_type": "markdown",
   "metadata": {},
   "source": [
    "import libraries and read data"
   ]
  },
  {
   "cell_type": "code",
   "execution_count": null,
   "metadata": {},
   "outputs": [],
   "source": [
    "!pip uninstall eodal -y\n",
    "!pip install git+https://github.com/lukasValentin/eodal.git@landsat-dev"
   ]
  },
  {
   "cell_type": "code",
   "execution_count": 4,
   "metadata": {},
   "outputs": [],
   "source": [
    "#import what is needed\n",
    "from datetime import datetime\n",
    "from pathlib import Path\n",
    "from shapely.geometry import box\n",
    "\n",
    "from eodal.config import get_settings\n",
    "from eodal.core.sensors import Landsat\n",
    "from eodal.core.scene import SceneCollection\n",
    "from eodal.mapper.feature import Feature"
   ]
  },
  {
   "cell_type": "code",
   "execution_count": 5,
   "metadata": {},
   "outputs": [
    {
     "data": {
      "text/plain": [
       "EOdal SceneCollection\n",
       "----------------------\n",
       "# Scenes:    1\n",
       "Timestamps:    2023-05-14 00:00:00\n",
       "Scene Identifiers:    LC09_L2SP_173060_20230514_20230517_02_T1"
      ]
     },
     "execution_count": 5,
     "metadata": {},
     "output_type": "execute_result"
    }
   ],
   "source": [
    "# read data from pickled file object into SceneCollectio\n",
    "fpath = Path('Y:\\MSc_23_TimckeFinn\\data\\EOdal\\sample_mapper_data.pkl')\n",
    "scoll = SceneCollection.from_pickle(stream=fpath)\n",
    "scoll"
   ]
  },
  {
   "attachments": {},
   "cell_type": "markdown",
   "metadata": {},
   "source": [
    "delete no data"
   ]
  },
  {
   "cell_type": "code",
   "execution_count": 67,
   "metadata": {},
   "outputs": [
    {
     "ename": "AttributeError",
     "evalue": "'SceneCollection' object has no attribute 'metadata'",
     "output_type": "error",
     "traceback": [
      "\u001b[1;31m---------------------------------------------------------------------------\u001b[0m",
      "\u001b[1;31mAttributeError\u001b[0m                            Traceback (most recent call last)",
      "Cell \u001b[1;32mIn[67], line 4\u001b[0m\n\u001b[0;32m      1\u001b[0m \u001b[39m# loop over available scenes stored in scoll as a EOdal SceneCollection and check\u001b[39;00m\n\u001b[0;32m      2\u001b[0m \u001b[39m# for no-data. These scenes will be removed from the SceneCollection\u001b[39;00m\n\u001b[0;32m      3\u001b[0m scenes_to_del \u001b[39m=\u001b[39m []\n\u001b[1;32m----> 4\u001b[0m scoll\u001b[39m.\u001b[39;49mmetadata[\u001b[39m'\u001b[39m\u001b[39mscene_used\u001b[39m\u001b[39m'\u001b[39m] \u001b[39m=\u001b[39m \u001b[39m'\u001b[39m\u001b[39myes\u001b[39m\u001b[39m'\u001b[39m\n\u001b[0;32m      6\u001b[0m \u001b[39mfor\u001b[39;00m scene_id, scene \u001b[39min\u001b[39;00m scoll:\n\u001b[0;32m      7\u001b[0m \n\u001b[0;32m      8\u001b[0m     \u001b[39m# check if scene is blackfilled (nodata); if yes continue\u001b[39;00m\n\u001b[0;32m      9\u001b[0m     \u001b[39mif\u001b[39;00m scene\u001b[39m.\u001b[39mis_blackfilled:\n",
      "\u001b[1;31mAttributeError\u001b[0m: 'SceneCollection' object has no attribute 'metadata'"
     ]
    }
   ],
   "source": [
    "# loop over available scenes stored in scoll as a EOdal SceneCollection and check\n",
    "# for no-data. These scenes will be removed from the SceneCollection\n",
    "scenes_to_del = []\n",
    "scoll.metadata['scene_used'] = 'yes'\n",
    "\n",
    "for scene_id, scene in scoll:\n",
    "\n",
    "    # check if scene is blackfilled (nodata); if yes continue\n",
    "    if scene.is_blackfilled:\n",
    "        scenes_to_del.append(scene_id)\n",
    "        mapper.metadata.loc[mapper.metadata.sensing_time.dt.strftime('%Y-%m-%d %H:%M') == scene_id.strftime('%Y-%m-%d %H:%M')[0:16], 'scene_used'] = 'No [blackfill]'\n",
    "        continue\n",
    "\n",
    "    # check cloud coverage (including shadows and snow) of the field parcel\n",
    "    feature_cloud_cover = scene.get_cloudy_pixel_percentage(cloud_classes=[3, 8, 9, 10, 11])\n",
    "\n",
    "    # if the scene is too cloudy, we skip it\n",
    "    if feature_cloud_cover > feature_cloud_cover_threshold:\n",
    "        scenes_to_del.append(scene_id)\n",
    "        mapper.metadata.loc[mapper.metadata.sensing_time.dt.strftime('%Y-%m-%d %H:%M') == scene_id.strftime('%Y-%m-%d %H:%M')[0:16], 'scene_used'] = 'No [clouds]'\n",
    "        continue\n",
    "\n",
    "    # calculate the NDVI and MSAVI\n",
    "    scene.calc_si('NDVI', inplace=True)\n",
    "    scene.calc_si('MSAVI', inplace=True)\n",
    "\n",
    "# delete scenes too cloudy or containing only no-data\n",
    "for scene_id in scenes_to_del:\n",
    "    del mapper.data[scene_id]"
   ]
  },
  {
   "attachments": {},
   "cell_type": "markdown",
   "metadata": {},
   "source": [
    "Get values"
   ]
  },
  {
   "cell_type": "code",
   "execution_count": 7,
   "metadata": {},
   "outputs": [
    {
     "data": {
      "text/plain": [
       "masked_array(\n",
       "  data=[[[--, --, --, ..., --, --, --],\n",
       "         [--, --, --, ..., --, --, --],\n",
       "         [--, --, --, ..., --, --, --],\n",
       "         ...,\n",
       "         [--, --, --, ..., --, --, --],\n",
       "         [--, --, --, ..., --, --, --],\n",
       "         [--, --, --, ..., --, --, --]],\n",
       "\n",
       "        [[--, --, --, ..., --, --, --],\n",
       "         [--, --, --, ..., --, --, --],\n",
       "         [--, --, --, ..., --, --, --],\n",
       "         ...,\n",
       "         [--, --, --, ..., --, --, --],\n",
       "         [--, --, --, ..., --, --, --],\n",
       "         [--, --, --, ..., --, --, --]],\n",
       "\n",
       "        [[--, --, --, ..., --, --, --],\n",
       "         [--, --, --, ..., --, --, --],\n",
       "         [--, --, --, ..., --, --, --],\n",
       "         ...,\n",
       "         [--, --, --, ..., --, --, --],\n",
       "         [--, --, --, ..., --, --, --],\n",
       "         [--, --, --, ..., --, --, --]],\n",
       "\n",
       "        ...,\n",
       "\n",
       "        [[--, --, --, ..., 1.0, 1.0, 1.0],\n",
       "         [--, --, --, ..., 1.0, 1.0, 1.0],\n",
       "         [--, --, --, ..., 1.0, 1.0, 1.0],\n",
       "         ...,\n",
       "         [--, --, --, ..., 1.0, 1.0, 1.0],\n",
       "         [--, --, --, ..., 1.0, 1.0, 1.0],\n",
       "         [--, --, --, ..., 1.0, 1.0, 1.0]],\n",
       "\n",
       "        [[--, --, --, ..., 0.0, 0.0, 0.0],\n",
       "         [--, --, --, ..., 0.0, 0.0, 0.0],\n",
       "         [--, --, --, ..., 0.0, 0.0, 0.0],\n",
       "         ...,\n",
       "         [--, --, --, ..., 0.0, 0.0, 0.0],\n",
       "         [--, --, --, ..., 0.0, 0.0, 0.0],\n",
       "         [--, --, --, ..., 0.0, 0.0, 0.0]],\n",
       "\n",
       "        [[--, --, --, ..., --, --, --],\n",
       "         [--, --, --, ..., --, --, --],\n",
       "         [--, --, --, ..., --, --, --],\n",
       "         ...,\n",
       "         [--, --, --, ..., --, --, --],\n",
       "         [--, --, --, ..., --, --, --],\n",
       "         [--, --, --, ..., --, --, --]]],\n",
       "  mask=[[[ True,  True,  True, ...,  True,  True,  True],\n",
       "         [ True,  True,  True, ...,  True,  True,  True],\n",
       "         [ True,  True,  True, ...,  True,  True,  True],\n",
       "         ...,\n",
       "         [ True,  True,  True, ...,  True,  True,  True],\n",
       "         [ True,  True,  True, ...,  True,  True,  True],\n",
       "         [ True,  True,  True, ...,  True,  True,  True]],\n",
       "\n",
       "        [[ True,  True,  True, ...,  True,  True,  True],\n",
       "         [ True,  True,  True, ...,  True,  True,  True],\n",
       "         [ True,  True,  True, ...,  True,  True,  True],\n",
       "         ...,\n",
       "         [ True,  True,  True, ...,  True,  True,  True],\n",
       "         [ True,  True,  True, ...,  True,  True,  True],\n",
       "         [ True,  True,  True, ...,  True,  True,  True]],\n",
       "\n",
       "        [[ True,  True,  True, ...,  True,  True,  True],\n",
       "         [ True,  True,  True, ...,  True,  True,  True],\n",
       "         [ True,  True,  True, ...,  True,  True,  True],\n",
       "         ...,\n",
       "         [ True,  True,  True, ...,  True,  True,  True],\n",
       "         [ True,  True,  True, ...,  True,  True,  True],\n",
       "         [ True,  True,  True, ...,  True,  True,  True]],\n",
       "\n",
       "        ...,\n",
       "\n",
       "        [[ True,  True,  True, ..., False, False, False],\n",
       "         [ True,  True,  True, ..., False, False, False],\n",
       "         [ True,  True,  True, ..., False, False, False],\n",
       "         ...,\n",
       "         [ True,  True,  True, ..., False, False, False],\n",
       "         [ True,  True,  True, ..., False, False, False],\n",
       "         [ True,  True,  True, ..., False, False, False]],\n",
       "\n",
       "        [[ True,  True,  True, ..., False, False, False],\n",
       "         [ True,  True,  True, ..., False, False, False],\n",
       "         [ True,  True,  True, ..., False, False, False],\n",
       "         ...,\n",
       "         [ True,  True,  True, ..., False, False, False],\n",
       "         [ True,  True,  True, ..., False, False, False],\n",
       "         [ True,  True,  True, ..., False, False, False]],\n",
       "\n",
       "        [[ True,  True,  True, ...,  True,  True,  True],\n",
       "         [ True,  True,  True, ...,  True,  True,  True],\n",
       "         [ True,  True,  True, ...,  True,  True,  True],\n",
       "         ...,\n",
       "         [ True,  True,  True, ...,  True,  True,  True],\n",
       "         [ True,  True,  True, ...,  True,  True,  True],\n",
       "         [ True,  True,  True, ...,  True,  True,  True]]],\n",
       "  fill_value=1e+20)"
      ]
     },
     "execution_count": 7,
     "metadata": {},
     "output_type": "execute_result"
    }
   ],
   "source": [
    "for scene_id, scene in scoll:\n",
    "   x = scene.get_values()\n",
    "   \n",
    "x\n"
   ]
  }
 ],
 "metadata": {
  "kernelspec": {
   "display_name": "Python 3",
   "language": "python",
   "name": "python3"
  },
  "language_info": {
   "codemirror_mode": {
    "name": "ipython",
    "version": 3
   },
   "file_extension": ".py",
   "mimetype": "text/x-python",
   "name": "python",
   "nbconvert_exporter": "python",
   "pygments_lexer": "ipython3",
   "version": "3.11.4"
  },
  "orig_nbformat": 4
 },
 "nbformat": 4,
 "nbformat_minor": 2
}
