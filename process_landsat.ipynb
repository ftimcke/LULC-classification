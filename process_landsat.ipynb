{
 "cells": [
  {
   "attachments": {},
   "cell_type": "markdown",
   "metadata": {},
   "source": [
    "import libraries and read data"
   ]
  },
  {
   "cell_type": "code",
   "execution_count": null,
   "metadata": {},
   "outputs": [],
   "source": [
    "!pip uninstall eodal -y\n",
    "!pip install git+https://github.com/lukasValentin/eodal.git@landsat-dev"
   ]
  },
  {
   "cell_type": "code",
   "execution_count": null,
   "metadata": {},
   "outputs": [],
   "source": [
    "#import what is needed\n",
    "from datetime import datetime\n",
    "from pathlib import Path\n",
    "from shapely.geometry import box\n",
    "\n",
    "from eodal.config import get_settings\n",
    "from eodal.core.sensors import Landsat\n",
    "from eodal.core.scene import SceneCollection\n",
    "from eodal.mapper.feature import Feature"
   ]
  },
  {
   "cell_type": "code",
   "execution_count": null,
   "metadata": {},
   "outputs": [],
   "source": [
    "# read data from pickled file object into SceneCollectio\n",
    "fpath = Path('Y:\\MSc_23_TimckeFinn\\data\\EOdal\\sample_mapper_data.pkl')\n",
    "scoll = SceneCollection.from_pickle(stream=fpath)\n",
    "scoll"
   ]
  },
  {
   "attachments": {},
   "cell_type": "markdown",
   "metadata": {},
   "source": [
    "delete no data"
   ]
  },
  {
   "cell_type": "code",
   "execution_count": null,
   "metadata": {},
   "outputs": [],
   "source": [
    "%matplotlib inline  \n",
    "\n",
    "# the scenes can be plotted\n",
    "f_scenes = scoll.plot(['red', 'green', 'blue'])"
   ]
  },
  {
   "cell_type": "code",
   "execution_count": null,
   "metadata": {},
   "outputs": [],
   "source": [
    "# loop over available scenes stored in scoll as a EOdal SceneCollection and check\n",
    "# for no-data. These scenes will be removed from the SceneCollection\n",
    "scenes_to_del = []\n",
    "scoll.metadata['scene_used'] = 'yes'\n",
    "\n",
    "for scene_id, scene in scoll:\n",
    "\n",
    "    # check if scene is blackfilled (nodata); if yes continue\n",
    "    if scene.is_blackfilled:\n",
    "        scenes_to_del.append(scene_id)\n",
    "        mapper.metadata.loc[mapper.metadata.sensing_time.dt.strftime('%Y-%m-%d %H:%M') == scene_id.strftime('%Y-%m-%d %H:%M')[0:16], 'scene_used'] = 'No [blackfill]'\n",
    "        continue\n",
    "\n",
    "    # check cloud coverage (including shadows and snow) of the field parcel\n",
    "    feature_cloud_cover = scene.get_cloudy_pixel_percentage(cloud_classes=[3, 8, 9, 10, 11])\n",
    "\n",
    "    # if the scene is too cloudy, we skip it\n",
    "    if feature_cloud_cover > feature_cloud_cover_threshold:\n",
    "        scenes_to_del.append(scene_id)\n",
    "        mapper.metadata.loc[mapper.metadata.sensing_time.dt.strftime('%Y-%m-%d %H:%M') == scene_id.strftime('%Y-%m-%d %H:%M')[0:16], 'scene_used'] = 'No [clouds]'\n",
    "        continue\n",
    "\n",
    "    # calculate the NDVI and MSAVI\n",
    "    scene.calc_si('NDVI', inplace=True)\n",
    "    scene.calc_si('MSAVI', inplace=True)\n",
    "\n",
    "# delete scenes too cloudy or containing only no-data\n",
    "for scene_id in scenes_to_del:\n",
    "    del mapper.data[scene_id]"
   ]
  },
  {
   "attachments": {},
   "cell_type": "markdown",
   "metadata": {},
   "source": [
    "Get values"
   ]
  },
  {
   "cell_type": "code",
   "execution_count": null,
   "metadata": {},
   "outputs": [],
   "source": [
    "import numpy as np\n",
    "\n",
    "# Specify the fill value\n",
    "fill_value = 0\n",
    "\n",
    "# Create a masked array\n",
    "for scene_id, scene in scoll:\n",
    "   \n",
    "   masked_array = scene.get_values()\n",
    "\n",
    "   # Convert masked array to a normal NumPy array with fill value\n",
    "   normal_array = masked_array.filled(fill_value)\n",
    "\n",
    "   # Convert NumPy array to Pandas DataFrame\n",
    "   df = pd.DataFrame(normal_array)\n",
    "\n",
    "print(df)"
   ]
  },
  {
   "cell_type": "code",
   "execution_count": null,
   "metadata": {},
   "outputs": [],
   "source": [
    "str(scoll)"
   ]
  }
 ],
 "metadata": {
  "kernelspec": {
   "display_name": "Python 3",
   "language": "python",
   "name": "python3"
  },
  "language_info": {
   "codemirror_mode": {
    "name": "ipython",
    "version": 3
   },
   "file_extension": ".py",
   "mimetype": "text/x-python",
   "name": "python",
   "nbconvert_exporter": "python",
   "pygments_lexer": "ipython3",
   "version": "3.11.4"
  },
  "orig_nbformat": 4
 },
 "nbformat": 4,
 "nbformat_minor": 2
}
